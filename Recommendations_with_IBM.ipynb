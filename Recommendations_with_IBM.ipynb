{
 "cells": [
  {
   "cell_type": "markdown",
   "metadata": {},
   "source": [
    "# Recommendations with IBM\n",
    "\n",
    "In this notebook, you will be putting your recommendation skills to use on real data from the IBM Watson Studio platform. \n",
    "\n",
    "\n",
    "You may either submit your notebook through the workspace here, or you may work from your local machine and submit through the next page.  Either way assure that your code passes the project [RUBRIC](https://review.udacity.com/#!/rubrics/2322/view).  **Please save regularly.**\n",
    "\n",
    "By following the table of contents, you will build out a number of different methods for making recommendations that can be used for different situations. \n",
    "\n",
    "\n",
    "## Table of Contents\n",
    "\n",
    "I. [Exploratory Data Analysis](#Exploratory-Data-Analysis)<br>\n",
    "II. [Rank Based Recommendations](#Rank)<br>\n",
    "III. [User-User Based Collaborative Filtering](#User-User)<br>\n",
    "IV. [Content Based Recommendations (EXTRA - NOT REQUIRED)](#Content-Recs)<br>\n",
    "V. [Matrix Factorization](#Matrix-Fact)<br>\n",
    "VI. [Extras & Concluding](#conclusions)\n",
    "\n",
    "At the end of the notebook, you will find directions for how to submit your work.  Let's get started by importing the necessary libraries and reading in the data."
   ]
  },
  {
   "cell_type": "code",
   "execution_count": 1,
   "metadata": {},
   "outputs": [
    {
     "output_type": "stream",
     "name": "stdout",
     "text": "article_id                                              title  \\\n0      1430.0  using pixiedust for fast, flexible, and easier...   \n1      1314.0       healthcare python streaming application demo   \n2      1429.0         use deep learning for image classification   \n3      1338.0          ml optimization using cognitive assistant   \n4      1276.0          deploy your python model as a restful api   \n\n                                      email  \n0  ef5f11f77ba020cd36e1105a00ab868bbdbf7fe7  \n1  083cbdfa93c8444beaa4c5f5e0f5f9198e4f9e0b  \n2  b96a4f2e92d8572034b1e9b28f9ac673765cd074  \n3  06485706b34a5c9bf2a0ecdac41daf7e7654ceb7  \n4  f01220c46fc92c6e6b161b1849de11faacd7ccb2  \n"
    }
   ],
   "source": [
    "import pandas as pd\n",
    "import numpy as np\n",
    "import matplotlib.pyplot as plt\n",
    "import project_tests as t\n",
    "import pickle\n",
    "\n",
    "%matplotlib inline\n",
    "\n",
    "df = pd.read_csv('data/user-item-interactions.csv')\n",
    "df_content = pd.read_csv('data/articles_community.csv')\n",
    "del df['Unnamed: 0']\n",
    "del df_content['Unnamed: 0']\n",
    "\n",
    "# Show df to get an idea of the data\n",
    "print(df.head())"
   ]
  },
  {
   "cell_type": "code",
   "execution_count": 2,
   "metadata": {},
   "outputs": [
    {
     "output_type": "execute_result",
     "data": {
      "text/plain": "   article_id                                              title  \\\n0      1430.0  using pixiedust for fast, flexible, and easier...   \n1      1314.0       healthcare python streaming application demo   \n2      1429.0         use deep learning for image classification   \n3      1338.0          ml optimization using cognitive assistant   \n4      1276.0          deploy your python model as a restful api   \n\n                                      email  \n0  ef5f11f77ba020cd36e1105a00ab868bbdbf7fe7  \n1  083cbdfa93c8444beaa4c5f5e0f5f9198e4f9e0b  \n2  b96a4f2e92d8572034b1e9b28f9ac673765cd074  \n3  06485706b34a5c9bf2a0ecdac41daf7e7654ceb7  \n4  f01220c46fc92c6e6b161b1849de11faacd7ccb2  ",
      "text/html": "<div>\n<style scoped>\n    .dataframe tbody tr th:only-of-type {\n        vertical-align: middle;\n    }\n\n    .dataframe tbody tr th {\n        vertical-align: top;\n    }\n\n    .dataframe thead th {\n        text-align: right;\n    }\n</style>\n<table border=\"1\" class=\"dataframe\">\n  <thead>\n    <tr style=\"text-align: right;\">\n      <th></th>\n      <th>article_id</th>\n      <th>title</th>\n      <th>email</th>\n    </tr>\n  </thead>\n  <tbody>\n    <tr>\n      <th>0</th>\n      <td>1430.0</td>\n      <td>using pixiedust for fast, flexible, and easier...</td>\n      <td>ef5f11f77ba020cd36e1105a00ab868bbdbf7fe7</td>\n    </tr>\n    <tr>\n      <th>1</th>\n      <td>1314.0</td>\n      <td>healthcare python streaming application demo</td>\n      <td>083cbdfa93c8444beaa4c5f5e0f5f9198e4f9e0b</td>\n    </tr>\n    <tr>\n      <th>2</th>\n      <td>1429.0</td>\n      <td>use deep learning for image classification</td>\n      <td>b96a4f2e92d8572034b1e9b28f9ac673765cd074</td>\n    </tr>\n    <tr>\n      <th>3</th>\n      <td>1338.0</td>\n      <td>ml optimization using cognitive assistant</td>\n      <td>06485706b34a5c9bf2a0ecdac41daf7e7654ceb7</td>\n    </tr>\n    <tr>\n      <th>4</th>\n      <td>1276.0</td>\n      <td>deploy your python model as a restful api</td>\n      <td>f01220c46fc92c6e6b161b1849de11faacd7ccb2</td>\n    </tr>\n  </tbody>\n</table>\n</div>"
     },
     "metadata": {},
     "execution_count": 2
    }
   ],
   "source": [
    "# Show df_content to get an idea of the data\n",
    "df.head()"
   ]
  },
  {
   "cell_type": "code",
   "execution_count": 3,
   "metadata": {},
   "outputs": [
    {
     "output_type": "execute_result",
     "data": {
      "text/plain": "                                            doc_body  \\\n0  Skip navigation Sign in SearchLoading...\\r\\n\\r...   \n1  No Free Hunch Navigation * kaggle.com\\r\\n\\r\\n ...   \n2  ☰ * Login\\r\\n * Sign Up\\r\\n\\r\\n * Learning Pat...   \n3  DATALAYER: HIGH THROUGHPUT, LOW LATENCY AT SCA...   \n4  Skip navigation Sign in SearchLoading...\\r\\n\\r...   \n\n                                     doc_description  \\\n0  Detect bad readings in real time using Python ...   \n1  See the forest, see the trees. Here lies the c...   \n2  Here’s this week’s news in Data Science and Bi...   \n3  Learn how distributed DBs solve the problem of...   \n4  This video demonstrates the power of IBM DataS...   \n\n                                       doc_full_name doc_status  article_id  \n0  Detect Malfunctioning IoT Sensors with Streami...       Live           0  \n1  Communicating data science: A guide to present...       Live           1  \n2         This Week in Data Science (April 18, 2017)       Live           2  \n3  DataLayer Conference: Boost the performance of...       Live           3  \n4      Analyze NY Restaurant data using Spark in DSX       Live           4  ",
      "text/html": "<div>\n<style scoped>\n    .dataframe tbody tr th:only-of-type {\n        vertical-align: middle;\n    }\n\n    .dataframe tbody tr th {\n        vertical-align: top;\n    }\n\n    .dataframe thead th {\n        text-align: right;\n    }\n</style>\n<table border=\"1\" class=\"dataframe\">\n  <thead>\n    <tr style=\"text-align: right;\">\n      <th></th>\n      <th>doc_body</th>\n      <th>doc_description</th>\n      <th>doc_full_name</th>\n      <th>doc_status</th>\n      <th>article_id</th>\n    </tr>\n  </thead>\n  <tbody>\n    <tr>\n      <th>0</th>\n      <td>Skip navigation Sign in SearchLoading...\\r\\n\\r...</td>\n      <td>Detect bad readings in real time using Python ...</td>\n      <td>Detect Malfunctioning IoT Sensors with Streami...</td>\n      <td>Live</td>\n      <td>0</td>\n    </tr>\n    <tr>\n      <th>1</th>\n      <td>No Free Hunch Navigation * kaggle.com\\r\\n\\r\\n ...</td>\n      <td>See the forest, see the trees. Here lies the c...</td>\n      <td>Communicating data science: A guide to present...</td>\n      <td>Live</td>\n      <td>1</td>\n    </tr>\n    <tr>\n      <th>2</th>\n      <td>☰ * Login\\r\\n * Sign Up\\r\\n\\r\\n * Learning Pat...</td>\n      <td>Here’s this week’s news in Data Science and Bi...</td>\n      <td>This Week in Data Science (April 18, 2017)</td>\n      <td>Live</td>\n      <td>2</td>\n    </tr>\n    <tr>\n      <th>3</th>\n      <td>DATALAYER: HIGH THROUGHPUT, LOW LATENCY AT SCA...</td>\n      <td>Learn how distributed DBs solve the problem of...</td>\n      <td>DataLayer Conference: Boost the performance of...</td>\n      <td>Live</td>\n      <td>3</td>\n    </tr>\n    <tr>\n      <th>4</th>\n      <td>Skip navigation Sign in SearchLoading...\\r\\n\\r...</td>\n      <td>This video demonstrates the power of IBM DataS...</td>\n      <td>Analyze NY Restaurant data using Spark in DSX</td>\n      <td>Live</td>\n      <td>4</td>\n    </tr>\n  </tbody>\n</table>\n</div>"
     },
     "metadata": {},
     "execution_count": 3
    }
   ],
   "source": [
    "df_content.head()"
   ]
  },
  {
   "cell_type": "markdown",
   "metadata": {},
   "source": [
    "### <a class=\"anchor\" id=\"Exploratory-Data-Analysis\">Part I : Exploratory Data Analysis</a>\n",
    "\n",
    "Use the dictionary and cells below to provide some insight into the descriptive statistics of the data.\n",
    "\n",
    "`1.` What is the distribution of how many articles a user interacts with in the dataset?  Provide a visual and descriptive statistics to assist with giving a look at the number of times each user interacts with an article.  "
   ]
  },
  {
   "cell_type": "code",
   "execution_count": 4,
   "metadata": {},
   "outputs": [
    {
     "output_type": "execute_result",
     "data": {
      "text/plain": "count    5148.000000\nmean        8.930847\nstd        16.802267\nmin         1.000000\n25%         1.000000\n50%         3.000000\n75%         9.000000\nmax       364.000000\nName: article_id, dtype: float64"
     },
     "metadata": {},
     "execution_count": 4
    }
   ],
   "source": [
    "#Number of unique users:\n",
    "user_count = df['email'].nunique()\n",
    "\n",
    "\n",
    "#number each artle was interacted with\n",
    "article_interaction = df.groupby('email')['article_id'].count()\n",
    "article_interaction.describe()"
   ]
  },
  {
   "cell_type": "code",
   "execution_count": 5,
   "metadata": {},
   "outputs": [
    {
     "output_type": "execute_result",
     "data": {
      "text/plain": "Text(0.5, 0, 'user')"
     },
     "metadata": {},
     "execution_count": 5
    },
    {
     "output_type": "display_data",
     "data": {
      "text/plain": "<Figure size 432x288 with 1 Axes>",
      "image/svg+xml": "<?xml version=\"1.0\" encoding=\"utf-8\" standalone=\"no\"?>\n<!DOCTYPE svg PUBLIC \"-//W3C//DTD SVG 1.1//EN\"\n  \"http://www.w3.org/Graphics/SVG/1.1/DTD/svg11.dtd\">\n<!-- Created with matplotlib (https://matplotlib.org/) -->\n<svg height=\"262.19625pt\" version=\"1.1\" viewBox=\"0 0 388.965625 262.19625\" width=\"388.965625pt\" xmlns=\"http://www.w3.org/2000/svg\" xmlns:xlink=\"http://www.w3.org/1999/xlink\">\n <defs>\n  <style type=\"text/css\">\n*{stroke-linecap:butt;stroke-linejoin:round;}\n  </style>\n </defs>\n <g id=\"figure_1\">\n  <g id=\"patch_1\">\n   <path d=\"M 0 262.19625 \nL 388.965625 262.19625 \nL 388.965625 0 \nL 0 0 \nz\n\" style=\"fill:none;\"/>\n  </g>\n  <g id=\"axes_1\">\n   <g id=\"patch_2\">\n    <path d=\"M 46.965625 224.64 \nL 381.765625 224.64 \nL 381.765625 7.2 \nL 46.965625 7.2 \nz\n\" style=\"fill:#ffffff;\"/>\n   </g>\n   <g id=\"matplotlib.axis_1\">\n    <g id=\"xtick_1\">\n     <g id=\"line2d_1\">\n      <defs>\n       <path d=\"M 0 0 \nL 0 3.5 \n\" id=\"md97b484b91\" style=\"stroke:#000000;stroke-width:0.8;\"/>\n      </defs>\n      <g>\n       <use style=\"stroke:#000000;stroke-width:0.8;\" x=\"62.183807\" xlink:href=\"#md97b484b91\" y=\"224.64\"/>\n      </g>\n     </g>\n     <g id=\"text_1\">\n      <!-- 0 -->\n      <defs>\n       <path d=\"M 31.78125 66.40625 \nQ 24.171875 66.40625 20.328125 58.90625 \nQ 16.5 51.421875 16.5 36.375 \nQ 16.5 21.390625 20.328125 13.890625 \nQ 24.171875 6.390625 31.78125 6.390625 \nQ 39.453125 6.390625 43.28125 13.890625 \nQ 47.125 21.390625 47.125 36.375 \nQ 47.125 51.421875 43.28125 58.90625 \nQ 39.453125 66.40625 31.78125 66.40625 \nz\nM 31.78125 74.21875 \nQ 44.046875 74.21875 50.515625 64.515625 \nQ 56.984375 54.828125 56.984375 36.375 \nQ 56.984375 17.96875 50.515625 8.265625 \nQ 44.046875 -1.421875 31.78125 -1.421875 \nQ 19.53125 -1.421875 13.0625 8.265625 \nQ 6.59375 17.96875 6.59375 36.375 \nQ 6.59375 54.828125 13.0625 64.515625 \nQ 19.53125 74.21875 31.78125 74.21875 \nz\n\" id=\"DejaVuSans-48\"/>\n      </defs>\n      <g transform=\"translate(59.002557 239.238438)scale(0.1 -0.1)\">\n       <use xlink:href=\"#DejaVuSans-48\"/>\n      </g>\n     </g>\n    </g>\n    <g id=\"xtick_2\">\n     <g id=\"line2d_2\">\n      <g>\n       <use style=\"stroke:#000000;stroke-width:0.8;\" x=\"121.317989\" xlink:href=\"#md97b484b91\" y=\"224.64\"/>\n      </g>\n     </g>\n     <g id=\"text_2\">\n      <!-- 1000 -->\n      <defs>\n       <path d=\"M 12.40625 8.296875 \nL 28.515625 8.296875 \nL 28.515625 63.921875 \nL 10.984375 60.40625 \nL 10.984375 69.390625 \nL 28.421875 72.90625 \nL 38.28125 72.90625 \nL 38.28125 8.296875 \nL 54.390625 8.296875 \nL 54.390625 0 \nL 12.40625 0 \nz\n\" id=\"DejaVuSans-49\"/>\n      </defs>\n      <g transform=\"translate(108.592989 239.238438)scale(0.1 -0.1)\">\n       <use xlink:href=\"#DejaVuSans-49\"/>\n       <use x=\"63.623047\" xlink:href=\"#DejaVuSans-48\"/>\n       <use x=\"127.246094\" xlink:href=\"#DejaVuSans-48\"/>\n       <use x=\"190.869141\" xlink:href=\"#DejaVuSans-48\"/>\n      </g>\n     </g>\n    </g>\n    <g id=\"xtick_3\">\n     <g id=\"line2d_3\">\n      <g>\n       <use style=\"stroke:#000000;stroke-width:0.8;\" x=\"180.452171\" xlink:href=\"#md97b484b91\" y=\"224.64\"/>\n      </g>\n     </g>\n     <g id=\"text_3\">\n      <!-- 2000 -->\n      <defs>\n       <path d=\"M 19.1875 8.296875 \nL 53.609375 8.296875 \nL 53.609375 0 \nL 7.328125 0 \nL 7.328125 8.296875 \nQ 12.9375 14.109375 22.625 23.890625 \nQ 32.328125 33.6875 34.8125 36.53125 \nQ 39.546875 41.84375 41.421875 45.53125 \nQ 43.3125 49.21875 43.3125 52.78125 \nQ 43.3125 58.59375 39.234375 62.25 \nQ 35.15625 65.921875 28.609375 65.921875 \nQ 23.96875 65.921875 18.8125 64.3125 \nQ 13.671875 62.703125 7.8125 59.421875 \nL 7.8125 69.390625 \nQ 13.765625 71.78125 18.9375 73 \nQ 24.125 74.21875 28.421875 74.21875 \nQ 39.75 74.21875 46.484375 68.546875 \nQ 53.21875 62.890625 53.21875 53.421875 \nQ 53.21875 48.921875 51.53125 44.890625 \nQ 49.859375 40.875 45.40625 35.40625 \nQ 44.1875 33.984375 37.640625 27.21875 \nQ 31.109375 20.453125 19.1875 8.296875 \nz\n\" id=\"DejaVuSans-50\"/>\n      </defs>\n      <g transform=\"translate(167.727171 239.238438)scale(0.1 -0.1)\">\n       <use xlink:href=\"#DejaVuSans-50\"/>\n       <use x=\"63.623047\" xlink:href=\"#DejaVuSans-48\"/>\n       <use x=\"127.246094\" xlink:href=\"#DejaVuSans-48\"/>\n       <use x=\"190.869141\" xlink:href=\"#DejaVuSans-48\"/>\n      </g>\n     </g>\n    </g>\n    <g id=\"xtick_4\">\n     <g id=\"line2d_4\">\n      <g>\n       <use style=\"stroke:#000000;stroke-width:0.8;\" x=\"239.586354\" xlink:href=\"#md97b484b91\" y=\"224.64\"/>\n      </g>\n     </g>\n     <g id=\"text_4\">\n      <!-- 3000 -->\n      <defs>\n       <path d=\"M 40.578125 39.3125 \nQ 47.65625 37.796875 51.625 33 \nQ 55.609375 28.21875 55.609375 21.1875 \nQ 55.609375 10.40625 48.1875 4.484375 \nQ 40.765625 -1.421875 27.09375 -1.421875 \nQ 22.515625 -1.421875 17.65625 -0.515625 \nQ 12.796875 0.390625 7.625 2.203125 \nL 7.625 11.71875 \nQ 11.71875 9.328125 16.59375 8.109375 \nQ 21.484375 6.890625 26.8125 6.890625 \nQ 36.078125 6.890625 40.9375 10.546875 \nQ 45.796875 14.203125 45.796875 21.1875 \nQ 45.796875 27.640625 41.28125 31.265625 \nQ 36.765625 34.90625 28.71875 34.90625 \nL 20.21875 34.90625 \nL 20.21875 43.015625 \nL 29.109375 43.015625 \nQ 36.375 43.015625 40.234375 45.921875 \nQ 44.09375 48.828125 44.09375 54.296875 \nQ 44.09375 59.90625 40.109375 62.90625 \nQ 36.140625 65.921875 28.71875 65.921875 \nQ 24.65625 65.921875 20.015625 65.03125 \nQ 15.375 64.15625 9.8125 62.3125 \nL 9.8125 71.09375 \nQ 15.4375 72.65625 20.34375 73.4375 \nQ 25.25 74.21875 29.59375 74.21875 \nQ 40.828125 74.21875 47.359375 69.109375 \nQ 53.90625 64.015625 53.90625 55.328125 \nQ 53.90625 49.265625 50.4375 45.09375 \nQ 46.96875 40.921875 40.578125 39.3125 \nz\n\" id=\"DejaVuSans-51\"/>\n      </defs>\n      <g transform=\"translate(226.861354 239.238438)scale(0.1 -0.1)\">\n       <use xlink:href=\"#DejaVuSans-51\"/>\n       <use x=\"63.623047\" xlink:href=\"#DejaVuSans-48\"/>\n       <use x=\"127.246094\" xlink:href=\"#DejaVuSans-48\"/>\n       <use x=\"190.869141\" xlink:href=\"#DejaVuSans-48\"/>\n      </g>\n     </g>\n    </g>\n    <g id=\"xtick_5\">\n     <g id=\"line2d_5\">\n      <g>\n       <use style=\"stroke:#000000;stroke-width:0.8;\" x=\"298.720536\" xlink:href=\"#md97b484b91\" y=\"224.64\"/>\n      </g>\n     </g>\n     <g id=\"text_5\">\n      <!-- 4000 -->\n      <defs>\n       <path d=\"M 37.796875 64.3125 \nL 12.890625 25.390625 \nL 37.796875 25.390625 \nz\nM 35.203125 72.90625 \nL 47.609375 72.90625 \nL 47.609375 25.390625 \nL 58.015625 25.390625 \nL 58.015625 17.1875 \nL 47.609375 17.1875 \nL 47.609375 0 \nL 37.796875 0 \nL 37.796875 17.1875 \nL 4.890625 17.1875 \nL 4.890625 26.703125 \nz\n\" id=\"DejaVuSans-52\"/>\n      </defs>\n      <g transform=\"translate(285.995536 239.238438)scale(0.1 -0.1)\">\n       <use xlink:href=\"#DejaVuSans-52\"/>\n       <use x=\"63.623047\" xlink:href=\"#DejaVuSans-48\"/>\n       <use x=\"127.246094\" xlink:href=\"#DejaVuSans-48\"/>\n       <use x=\"190.869141\" xlink:href=\"#DejaVuSans-48\"/>\n      </g>\n     </g>\n    </g>\n    <g id=\"xtick_6\">\n     <g id=\"line2d_6\">\n      <g>\n       <use style=\"stroke:#000000;stroke-width:0.8;\" x=\"357.854718\" xlink:href=\"#md97b484b91\" y=\"224.64\"/>\n      </g>\n     </g>\n     <g id=\"text_6\">\n      <!-- 5000 -->\n      <defs>\n       <path d=\"M 10.796875 72.90625 \nL 49.515625 72.90625 \nL 49.515625 64.59375 \nL 19.828125 64.59375 \nL 19.828125 46.734375 \nQ 21.96875 47.46875 24.109375 47.828125 \nQ 26.265625 48.1875 28.421875 48.1875 \nQ 40.625 48.1875 47.75 41.5 \nQ 54.890625 34.8125 54.890625 23.390625 \nQ 54.890625 11.625 47.5625 5.09375 \nQ 40.234375 -1.421875 26.90625 -1.421875 \nQ 22.3125 -1.421875 17.546875 -0.640625 \nQ 12.796875 0.140625 7.71875 1.703125 \nL 7.71875 11.625 \nQ 12.109375 9.234375 16.796875 8.0625 \nQ 21.484375 6.890625 26.703125 6.890625 \nQ 35.15625 6.890625 40.078125 11.328125 \nQ 45.015625 15.765625 45.015625 23.390625 \nQ 45.015625 31 40.078125 35.4375 \nQ 35.15625 39.890625 26.703125 39.890625 \nQ 22.75 39.890625 18.8125 39.015625 \nQ 14.890625 38.140625 10.796875 36.28125 \nz\n\" id=\"DejaVuSans-53\"/>\n      </defs>\n      <g transform=\"translate(345.129718 239.238438)scale(0.1 -0.1)\">\n       <use xlink:href=\"#DejaVuSans-53\"/>\n       <use x=\"63.623047\" xlink:href=\"#DejaVuSans-48\"/>\n       <use x=\"127.246094\" xlink:href=\"#DejaVuSans-48\"/>\n       <use x=\"190.869141\" xlink:href=\"#DejaVuSans-48\"/>\n      </g>\n     </g>\n    </g>\n    <g id=\"text_7\">\n     <!-- user -->\n     <defs>\n      <path d=\"M 8.5 21.578125 \nL 8.5 54.6875 \nL 17.484375 54.6875 \nL 17.484375 21.921875 \nQ 17.484375 14.15625 20.5 10.265625 \nQ 23.53125 6.390625 29.59375 6.390625 \nQ 36.859375 6.390625 41.078125 11.03125 \nQ 45.3125 15.671875 45.3125 23.6875 \nL 45.3125 54.6875 \nL 54.296875 54.6875 \nL 54.296875 0 \nL 45.3125 0 \nL 45.3125 8.40625 \nQ 42.046875 3.421875 37.71875 1 \nQ 33.40625 -1.421875 27.6875 -1.421875 \nQ 18.265625 -1.421875 13.375 4.4375 \nQ 8.5 10.296875 8.5 21.578125 \nz\nM 31.109375 56 \nz\n\" id=\"DejaVuSans-117\"/>\n      <path d=\"M 44.28125 53.078125 \nL 44.28125 44.578125 \nQ 40.484375 46.53125 36.375 47.5 \nQ 32.28125 48.484375 27.875 48.484375 \nQ 21.1875 48.484375 17.84375 46.4375 \nQ 14.5 44.390625 14.5 40.28125 \nQ 14.5 37.15625 16.890625 35.375 \nQ 19.28125 33.59375 26.515625 31.984375 \nL 29.59375 31.296875 \nQ 39.15625 29.25 43.1875 25.515625 \nQ 47.21875 21.78125 47.21875 15.09375 \nQ 47.21875 7.46875 41.1875 3.015625 \nQ 35.15625 -1.421875 24.609375 -1.421875 \nQ 20.21875 -1.421875 15.453125 -0.5625 \nQ 10.6875 0.296875 5.421875 2 \nL 5.421875 11.28125 \nQ 10.40625 8.6875 15.234375 7.390625 \nQ 20.0625 6.109375 24.8125 6.109375 \nQ 31.15625 6.109375 34.5625 8.28125 \nQ 37.984375 10.453125 37.984375 14.40625 \nQ 37.984375 18.0625 35.515625 20.015625 \nQ 33.0625 21.96875 24.703125 23.78125 \nL 21.578125 24.515625 \nQ 13.234375 26.265625 9.515625 29.90625 \nQ 5.8125 33.546875 5.8125 39.890625 \nQ 5.8125 47.609375 11.28125 51.796875 \nQ 16.75 56 26.8125 56 \nQ 31.78125 56 36.171875 55.265625 \nQ 40.578125 54.546875 44.28125 53.078125 \nz\n\" id=\"DejaVuSans-115\"/>\n      <path d=\"M 56.203125 29.59375 \nL 56.203125 25.203125 \nL 14.890625 25.203125 \nQ 15.484375 15.921875 20.484375 11.0625 \nQ 25.484375 6.203125 34.421875 6.203125 \nQ 39.59375 6.203125 44.453125 7.46875 \nQ 49.3125 8.734375 54.109375 11.28125 \nL 54.109375 2.78125 \nQ 49.265625 0.734375 44.1875 -0.34375 \nQ 39.109375 -1.421875 33.890625 -1.421875 \nQ 20.796875 -1.421875 13.15625 6.1875 \nQ 5.515625 13.8125 5.515625 26.8125 \nQ 5.515625 40.234375 12.765625 48.109375 \nQ 20.015625 56 32.328125 56 \nQ 43.359375 56 49.78125 48.890625 \nQ 56.203125 41.796875 56.203125 29.59375 \nz\nM 47.21875 32.234375 \nQ 47.125 39.59375 43.09375 43.984375 \nQ 39.0625 48.390625 32.421875 48.390625 \nQ 24.90625 48.390625 20.390625 44.140625 \nQ 15.875 39.890625 15.1875 32.171875 \nz\n\" id=\"DejaVuSans-101\"/>\n      <path d=\"M 41.109375 46.296875 \nQ 39.59375 47.171875 37.8125 47.578125 \nQ 36.03125 48 33.890625 48 \nQ 26.265625 48 22.1875 43.046875 \nQ 18.109375 38.09375 18.109375 28.8125 \nL 18.109375 0 \nL 9.078125 0 \nL 9.078125 54.6875 \nL 18.109375 54.6875 \nL 18.109375 46.1875 \nQ 20.953125 51.171875 25.484375 53.578125 \nQ 30.03125 56 36.53125 56 \nQ 37.453125 56 38.578125 55.875 \nQ 39.703125 55.765625 41.0625 55.515625 \nz\n\" id=\"DejaVuSans-114\"/>\n     </defs>\n     <g transform=\"translate(203.460156 252.916563)scale(0.1 -0.1)\">\n      <use xlink:href=\"#DejaVuSans-117\"/>\n      <use x=\"63.378906\" xlink:href=\"#DejaVuSans-115\"/>\n      <use x=\"115.478516\" xlink:href=\"#DejaVuSans-101\"/>\n      <use x=\"177.001953\" xlink:href=\"#DejaVuSans-114\"/>\n     </g>\n    </g>\n   </g>\n   <g id=\"matplotlib.axis_2\">\n    <g id=\"ytick_1\">\n     <g id=\"line2d_7\">\n      <defs>\n       <path d=\"M 0 0 \nL -3.5 0 \n\" id=\"mf25e58c6ca\" style=\"stroke:#000000;stroke-width:0.8;\"/>\n      </defs>\n      <g>\n       <use style=\"stroke:#000000;stroke-width:0.8;\" x=\"46.965625\" xlink:href=\"#mf25e58c6ca\" y=\"215.300917\"/>\n      </g>\n     </g>\n     <g id=\"text_8\">\n      <!-- 0 -->\n      <g transform=\"translate(33.603125 219.100135)scale(0.1 -0.1)\">\n       <use xlink:href=\"#DejaVuSans-48\"/>\n      </g>\n     </g>\n    </g>\n    <g id=\"ytick_2\">\n     <g id=\"line2d_8\">\n      <g>\n       <use style=\"stroke:#000000;stroke-width:0.8;\" x=\"46.965625\" xlink:href=\"#mf25e58c6ca\" y=\"188.073268\"/>\n      </g>\n     </g>\n     <g id=\"text_9\">\n      <!-- 50 -->\n      <g transform=\"translate(27.240625 191.872487)scale(0.1 -0.1)\">\n       <use xlink:href=\"#DejaVuSans-53\"/>\n       <use x=\"63.623047\" xlink:href=\"#DejaVuSans-48\"/>\n      </g>\n     </g>\n    </g>\n    <g id=\"ytick_3\">\n     <g id=\"line2d_9\">\n      <g>\n       <use style=\"stroke:#000000;stroke-width:0.8;\" x=\"46.965625\" xlink:href=\"#mf25e58c6ca\" y=\"160.84562\"/>\n      </g>\n     </g>\n     <g id=\"text_10\">\n      <!-- 100 -->\n      <g transform=\"translate(20.878125 164.644839)scale(0.1 -0.1)\">\n       <use xlink:href=\"#DejaVuSans-49\"/>\n       <use x=\"63.623047\" xlink:href=\"#DejaVuSans-48\"/>\n       <use x=\"127.246094\" xlink:href=\"#DejaVuSans-48\"/>\n      </g>\n     </g>\n    </g>\n    <g id=\"ytick_4\">\n     <g id=\"line2d_10\">\n      <g>\n       <use style=\"stroke:#000000;stroke-width:0.8;\" x=\"46.965625\" xlink:href=\"#mf25e58c6ca\" y=\"133.617971\"/>\n      </g>\n     </g>\n     <g id=\"text_11\">\n      <!-- 150 -->\n      <g transform=\"translate(20.878125 137.41719)scale(0.1 -0.1)\">\n       <use xlink:href=\"#DejaVuSans-49\"/>\n       <use x=\"63.623047\" xlink:href=\"#DejaVuSans-53\"/>\n       <use x=\"127.246094\" xlink:href=\"#DejaVuSans-48\"/>\n      </g>\n     </g>\n    </g>\n    <g id=\"ytick_5\">\n     <g id=\"line2d_11\">\n      <g>\n       <use style=\"stroke:#000000;stroke-width:0.8;\" x=\"46.965625\" xlink:href=\"#mf25e58c6ca\" y=\"106.390323\"/>\n      </g>\n     </g>\n     <g id=\"text_12\">\n      <!-- 200 -->\n      <g transform=\"translate(20.878125 110.189542)scale(0.1 -0.1)\">\n       <use xlink:href=\"#DejaVuSans-50\"/>\n       <use x=\"63.623047\" xlink:href=\"#DejaVuSans-48\"/>\n       <use x=\"127.246094\" xlink:href=\"#DejaVuSans-48\"/>\n      </g>\n     </g>\n    </g>\n    <g id=\"ytick_6\">\n     <g id=\"line2d_12\">\n      <g>\n       <use style=\"stroke:#000000;stroke-width:0.8;\" x=\"46.965625\" xlink:href=\"#mf25e58c6ca\" y=\"79.162675\"/>\n      </g>\n     </g>\n     <g id=\"text_13\">\n      <!-- 250 -->\n      <g transform=\"translate(20.878125 82.961893)scale(0.1 -0.1)\">\n       <use xlink:href=\"#DejaVuSans-50\"/>\n       <use x=\"63.623047\" xlink:href=\"#DejaVuSans-53\"/>\n       <use x=\"127.246094\" xlink:href=\"#DejaVuSans-48\"/>\n      </g>\n     </g>\n    </g>\n    <g id=\"ytick_7\">\n     <g id=\"line2d_13\">\n      <g>\n       <use style=\"stroke:#000000;stroke-width:0.8;\" x=\"46.965625\" xlink:href=\"#mf25e58c6ca\" y=\"51.935026\"/>\n      </g>\n     </g>\n     <g id=\"text_14\">\n      <!-- 300 -->\n      <g transform=\"translate(20.878125 55.734245)scale(0.1 -0.1)\">\n       <use xlink:href=\"#DejaVuSans-51\"/>\n       <use x=\"63.623047\" xlink:href=\"#DejaVuSans-48\"/>\n       <use x=\"127.246094\" xlink:href=\"#DejaVuSans-48\"/>\n      </g>\n     </g>\n    </g>\n    <g id=\"ytick_8\">\n     <g id=\"line2d_14\">\n      <g>\n       <use style=\"stroke:#000000;stroke-width:0.8;\" x=\"46.965625\" xlink:href=\"#mf25e58c6ca\" y=\"24.707378\"/>\n      </g>\n     </g>\n     <g id=\"text_15\">\n      <!-- 350 -->\n      <g transform=\"translate(20.878125 28.506597)scale(0.1 -0.1)\">\n       <use xlink:href=\"#DejaVuSans-51\"/>\n       <use x=\"63.623047\" xlink:href=\"#DejaVuSans-53\"/>\n       <use x=\"127.246094\" xlink:href=\"#DejaVuSans-48\"/>\n      </g>\n     </g>\n    </g>\n    <g id=\"text_16\">\n     <!-- interactions -->\n     <defs>\n      <path d=\"M 9.421875 54.6875 \nL 18.40625 54.6875 \nL 18.40625 0 \nL 9.421875 0 \nz\nM 9.421875 75.984375 \nL 18.40625 75.984375 \nL 18.40625 64.59375 \nL 9.421875 64.59375 \nz\n\" id=\"DejaVuSans-105\"/>\n      <path d=\"M 54.890625 33.015625 \nL 54.890625 0 \nL 45.90625 0 \nL 45.90625 32.71875 \nQ 45.90625 40.484375 42.875 44.328125 \nQ 39.84375 48.1875 33.796875 48.1875 \nQ 26.515625 48.1875 22.3125 43.546875 \nQ 18.109375 38.921875 18.109375 30.90625 \nL 18.109375 0 \nL 9.078125 0 \nL 9.078125 54.6875 \nL 18.109375 54.6875 \nL 18.109375 46.1875 \nQ 21.34375 51.125 25.703125 53.5625 \nQ 30.078125 56 35.796875 56 \nQ 45.21875 56 50.046875 50.171875 \nQ 54.890625 44.34375 54.890625 33.015625 \nz\n\" id=\"DejaVuSans-110\"/>\n      <path d=\"M 18.3125 70.21875 \nL 18.3125 54.6875 \nL 36.8125 54.6875 \nL 36.8125 47.703125 \nL 18.3125 47.703125 \nL 18.3125 18.015625 \nQ 18.3125 11.328125 20.140625 9.421875 \nQ 21.96875 7.515625 27.59375 7.515625 \nL 36.8125 7.515625 \nL 36.8125 0 \nL 27.59375 0 \nQ 17.1875 0 13.234375 3.875 \nQ 9.28125 7.765625 9.28125 18.015625 \nL 9.28125 47.703125 \nL 2.6875 47.703125 \nL 2.6875 54.6875 \nL 9.28125 54.6875 \nL 9.28125 70.21875 \nz\n\" id=\"DejaVuSans-116\"/>\n      <path d=\"M 34.28125 27.484375 \nQ 23.390625 27.484375 19.1875 25 \nQ 14.984375 22.515625 14.984375 16.5 \nQ 14.984375 11.71875 18.140625 8.90625 \nQ 21.296875 6.109375 26.703125 6.109375 \nQ 34.1875 6.109375 38.703125 11.40625 \nQ 43.21875 16.703125 43.21875 25.484375 \nL 43.21875 27.484375 \nz\nM 52.203125 31.203125 \nL 52.203125 0 \nL 43.21875 0 \nL 43.21875 8.296875 \nQ 40.140625 3.328125 35.546875 0.953125 \nQ 30.953125 -1.421875 24.3125 -1.421875 \nQ 15.921875 -1.421875 10.953125 3.296875 \nQ 6 8.015625 6 15.921875 \nQ 6 25.140625 12.171875 29.828125 \nQ 18.359375 34.515625 30.609375 34.515625 \nL 43.21875 34.515625 \nL 43.21875 35.40625 \nQ 43.21875 41.609375 39.140625 45 \nQ 35.0625 48.390625 27.6875 48.390625 \nQ 23 48.390625 18.546875 47.265625 \nQ 14.109375 46.140625 10.015625 43.890625 \nL 10.015625 52.203125 \nQ 14.9375 54.109375 19.578125 55.046875 \nQ 24.21875 56 28.609375 56 \nQ 40.484375 56 46.34375 49.84375 \nQ 52.203125 43.703125 52.203125 31.203125 \nz\n\" id=\"DejaVuSans-97\"/>\n      <path d=\"M 48.78125 52.59375 \nL 48.78125 44.1875 \nQ 44.96875 46.296875 41.140625 47.34375 \nQ 37.3125 48.390625 33.40625 48.390625 \nQ 24.65625 48.390625 19.8125 42.84375 \nQ 14.984375 37.3125 14.984375 27.296875 \nQ 14.984375 17.28125 19.8125 11.734375 \nQ 24.65625 6.203125 33.40625 6.203125 \nQ 37.3125 6.203125 41.140625 7.25 \nQ 44.96875 8.296875 48.78125 10.40625 \nL 48.78125 2.09375 \nQ 45.015625 0.34375 40.984375 -0.53125 \nQ 36.96875 -1.421875 32.421875 -1.421875 \nQ 20.0625 -1.421875 12.78125 6.34375 \nQ 5.515625 14.109375 5.515625 27.296875 \nQ 5.515625 40.671875 12.859375 48.328125 \nQ 20.21875 56 33.015625 56 \nQ 37.15625 56 41.109375 55.140625 \nQ 45.0625 54.296875 48.78125 52.59375 \nz\n\" id=\"DejaVuSans-99\"/>\n      <path d=\"M 30.609375 48.390625 \nQ 23.390625 48.390625 19.1875 42.75 \nQ 14.984375 37.109375 14.984375 27.296875 \nQ 14.984375 17.484375 19.15625 11.84375 \nQ 23.34375 6.203125 30.609375 6.203125 \nQ 37.796875 6.203125 41.984375 11.859375 \nQ 46.1875 17.53125 46.1875 27.296875 \nQ 46.1875 37.015625 41.984375 42.703125 \nQ 37.796875 48.390625 30.609375 48.390625 \nz\nM 30.609375 56 \nQ 42.328125 56 49.015625 48.375 \nQ 55.71875 40.765625 55.71875 27.296875 \nQ 55.71875 13.875 49.015625 6.21875 \nQ 42.328125 -1.421875 30.609375 -1.421875 \nQ 18.84375 -1.421875 12.171875 6.21875 \nQ 5.515625 13.875 5.515625 27.296875 \nQ 5.515625 40.765625 12.171875 48.375 \nQ 18.84375 56 30.609375 56 \nz\n\" id=\"DejaVuSans-111\"/>\n     </defs>\n     <g transform=\"translate(14.798438 145.565313)rotate(-90)scale(0.1 -0.1)\">\n      <use xlink:href=\"#DejaVuSans-105\"/>\n      <use x=\"27.783203\" xlink:href=\"#DejaVuSans-110\"/>\n      <use x=\"91.162109\" xlink:href=\"#DejaVuSans-116\"/>\n      <use x=\"130.371094\" xlink:href=\"#DejaVuSans-101\"/>\n      <use x=\"191.894531\" xlink:href=\"#DejaVuSans-114\"/>\n      <use x=\"233.007812\" xlink:href=\"#DejaVuSans-97\"/>\n      <use x=\"294.287109\" xlink:href=\"#DejaVuSans-99\"/>\n      <use x=\"349.267578\" xlink:href=\"#DejaVuSans-116\"/>\n      <use x=\"388.476562\" xlink:href=\"#DejaVuSans-105\"/>\n      <use x=\"416.259766\" xlink:href=\"#DejaVuSans-111\"/>\n      <use x=\"477.441406\" xlink:href=\"#DejaVuSans-110\"/>\n      <use x=\"540.820312\" xlink:href=\"#DejaVuSans-115\"/>\n     </g>\n    </g>\n   </g>\n   <g id=\"line2d_15\">\n    <path clip-path=\"url(#p96cb5f686c)\" d=\"M 62.183807 208.221728 \nL 62.302075 213.667258 \nL 62.361209 212.033599 \nL 62.479478 214.211811 \nL 62.538612 213.667258 \nL 62.597746 209.855387 \nL 62.65688 214.756364 \nL 62.716014 208.221728 \nL 62.775149 214.756364 \nL 62.834283 213.122705 \nL 62.893417 213.667258 \nL 62.952551 213.122705 \nL 63.011685 213.667258 \nL 63.07082 209.310834 \nL 63.189088 214.756364 \nL 63.248222 214.211811 \nL 63.36649 210.39994 \nL 63.425625 214.756364 \nL 63.484759 196.241563 \nL 63.543893 209.310834 \nL 63.603027 207.132622 \nL 63.662161 213.667258 \nL 63.721296 211.489046 \nL 63.839564 214.756364 \nL 63.898698 209.310834 \nL 63.957832 160.301067 \nL 64.135235 214.211811 \nL 64.194369 209.855387 \nL 64.253503 213.122705 \nL 64.430906 214.756364 \nL 64.549174 193.518798 \nL 64.608308 213.667258 \nL 64.667442 208.221728 \nL 64.785711 213.122705 \nL 64.844845 209.310834 \nL 64.903979 214.756364 \nL 64.963113 210.39994 \nL 65.140516 214.756364 \nL 65.19965 209.855387 \nL 65.258784 214.211811 \nL 65.317918 213.667258 \nL 65.377053 210.944493 \nL 65.436187 170.10302 \nL 65.495321 205.498963 \nL 65.613589 213.667258 \nL 65.672724 212.578152 \nL 65.790992 214.756364 \nL 65.850126 212.033599 \nL 65.968394 214.756364 \nL 66.027529 214.756364 \nL 66.086663 213.667258 \nL 66.204931 214.756364 \nL 66.3232 209.310834 \nL 66.382334 213.667258 \nL 66.441468 210.944493 \nL 66.61887 214.211811 \nL 66.796273 210.39994 \nL 66.855407 214.756364 \nL 66.914541 212.033599 \nL 66.973676 193.518798 \nL 67.03281 201.142539 \nL 67.151078 214.756364 \nL 67.210212 214.756364 \nL 67.269346 214.211811 \nL 67.328481 202.231645 \nL 67.387615 213.667258 \nL 67.446749 210.944493 \nL 67.565017 214.756364 \nL 67.624152 214.211811 \nL 67.683286 201.687092 \nL 67.74242 214.756364 \nL 67.801554 213.667258 \nL 67.860688 208.766281 \nL 67.919823 214.756364 \nL 67.978957 213.667258 \nL 68.038091 212.033599 \nL 68.097225 214.756364 \nL 68.156359 212.033599 \nL 68.215493 213.122705 \nL 68.274628 214.756364 \nL 68.45203 210.39994 \nL 68.511164 196.241563 \nL 68.629433 212.033599 \nL 68.747701 214.756364 \nL 68.806835 214.211811 \nL 68.865969 197.330669 \nL 68.925104 213.667258 \nL 68.984238 199.508881 \nL 69.043372 213.122705 \nL 69.102506 211.489046 \nL 69.16164 214.756364 \nL 69.220775 210.39994 \nL 69.279909 213.122705 \nL 69.339043 214.756364 \nL 69.457311 208.766281 \nL 69.634714 214.756364 \nL 69.693848 214.756364 \nL 69.752982 204.95441 \nL 69.812116 212.578152 \nL 69.871251 214.211811 \nL 69.930385 213.667258 \nL 69.989519 213.667258 \nL 70.048653 190.796033 \nL 70.166921 214.211811 \nL 70.226056 208.766281 \nL 70.28519 214.756364 \nL 70.344324 206.588069 \nL 70.403458 214.756364 \nL 70.462592 212.578152 \nL 70.521727 214.756364 \nL 70.580861 214.211811 \nL 70.639995 214.756364 \nL 70.699129 214.211811 \nL 70.758263 210.944493 \nL 70.817397 212.578152 \nL 70.876532 213.122705 \nL 70.9948 201.142539 \nL 71.113068 214.756364 \nL 71.172203 214.211811 \nL 71.231337 214.756364 \nL 71.290471 207.132622 \nL 71.349605 213.667258 \nL 71.408739 207.677175 \nL 71.467873 213.667258 \nL 71.527008 213.122705 \nL 71.586142 188.617821 \nL 71.70441 213.667258 \nL 71.763544 208.221728 \nL 71.940947 214.756364 \nL 72.000081 213.667258 \nL 72.059215 202.231645 \nL 72.118349 214.756364 \nL 72.177484 213.122705 \nL 72.236618 214.756364 \nL 72.354886 212.578152 \nL 72.41402 214.756364 \nL 72.473155 207.677175 \nL 72.532289 209.310834 \nL 72.650557 214.211811 \nL 72.709691 201.142539 \nL 72.768825 211.489046 \nL 72.82796 205.498963 \nL 72.887094 214.211811 \nL 72.946228 213.667258 \nL 73.005362 213.667258 \nL 73.123631 214.756364 \nL 73.182765 192.974245 \nL 73.241899 214.756364 \nL 73.301033 214.211811 \nL 73.360167 212.033599 \nL 73.419301 214.756364 \nL 73.53757 199.508881 \nL 73.596704 209.310834 \nL 73.655838 214.756364 \nL 73.714972 206.043516 \nL 73.774107 209.855387 \nL 73.892375 208.766281 \nL 74.010643 214.756364 \nL 74.128912 213.667258 \nL 74.188046 212.033599 \nL 74.306314 214.756364 \nL 74.424583 214.756364 \nL 74.483717 208.766281 \nL 74.542851 211.489046 \nL 74.601985 214.756364 \nL 74.661119 209.855387 \nL 74.720253 189.162374 \nL 74.838522 214.756364 \nL 74.897656 214.211811 \nL 74.95679 213.667258 \nL 75.015924 214.756364 \nL 75.075059 213.122705 \nL 75.193327 214.756364 \nL 75.252461 212.578152 \nL 75.311595 214.756364 \nL 75.370729 213.667258 \nL 75.488998 214.756364 \nL 75.607266 214.756364 \nL 75.6664 212.578152 \nL 75.725535 214.756364 \nL 75.784669 212.578152 \nL 75.902937 214.756364 \nL 75.962071 206.043516 \nL 76.021205 213.667258 \nL 76.139474 214.756364 \nL 76.198608 208.766281 \nL 76.257742 213.122705 \nL 76.376011 214.756364 \nL 76.435145 204.409857 \nL 76.494279 209.310834 \nL 76.553413 214.211811 \nL 76.612547 213.122705 \nL 76.671681 213.667258 \nL 76.849084 204.409857 \nL 76.908218 210.39994 \nL 76.967352 207.677175 \nL 77.026487 199.508881 \nL 77.085621 213.667258 \nL 77.144755 212.033599 \nL 77.203889 194.063351 \nL 77.263023 214.211811 \nL 77.322157 213.667258 \nL 77.381292 214.756364 \nL 77.49956 210.944493 \nL 77.617828 213.122705 \nL 77.676963 212.033599 \nL 77.736097 208.221728 \nL 77.795231 213.667258 \nL 77.854365 212.033599 \nL 77.913499 211.489046 \nL 77.972633 214.756364 \nL 78.031768 214.211811 \nL 78.090902 212.033599 \nL 78.150036 214.756364 \nL 78.20917 179.360421 \nL 78.327439 214.756364 \nL 78.386573 206.588069 \nL 78.504841 214.756364 \nL 78.563975 212.033599 \nL 78.62311 214.211811 \nL 78.682244 214.211811 \nL 78.741378 214.756364 \nL 78.800512 213.667258 \nL 78.859646 214.211811 \nL 78.91878 159.756514 \nL 78.977915 213.122705 \nL 79.037049 210.944493 \nL 79.155317 212.033599 \nL 79.214451 192.974245 \nL 79.273586 202.776198 \nL 79.391854 214.211811 \nL 79.450988 213.122705 \nL 79.510122 206.043516 \nL 79.569256 214.211811 \nL 79.628391 210.944493 \nL 79.805793 214.756364 \nL 79.864927 213.667258 \nL 79.924062 214.756364 \nL 79.983196 210.39994 \nL 80.04233 214.756364 \nL 80.101464 172.281232 \nL 80.160598 197.330669 \nL 80.278867 214.756364 \nL 80.338001 214.756364 \nL 80.397135 214.211811 \nL 80.456269 176.093103 \nL 80.515403 214.211811 \nL 80.574538 212.578152 \nL 80.633672 214.756364 \nL 80.692806 207.677175 \nL 80.75194 214.211811 \nL 80.811074 213.667258 \nL 80.870208 212.033599 \nL 80.929343 212.578152 \nL 81.106745 214.756364 \nL 81.225014 214.756364 \nL 81.284148 207.132622 \nL 81.343282 214.756364 \nL 81.402416 212.578152 \nL 81.46155 214.756364 \nL 81.520684 201.687092 \nL 81.579819 214.756364 \nL 81.638953 212.578152 \nL 81.698087 202.231645 \nL 81.757221 214.211811 \nL 81.816355 198.419775 \nL 81.934624 214.756364 \nL 81.993758 206.588069 \nL 82.052892 213.122705 \nL 82.112026 210.944493 \nL 82.230295 214.756364 \nL 82.348563 206.043516 \nL 82.466831 214.756364 \nL 82.525966 214.211811 \nL 82.5851 214.756364 \nL 82.644234 209.855387 \nL 82.762502 214.756364 \nL 82.821636 214.756364 \nL 82.939905 210.944493 \nL 82.999039 214.756364 \nL 83.058173 213.122705 \nL 83.117307 180.449527 \nL 83.235576 214.756364 \nL 83.472112 209.855387 \nL 83.590381 213.122705 \nL 83.649515 213.122705 \nL 83.708649 189.162374 \nL 83.767783 192.974245 \nL 83.945186 214.211811 \nL 84.00432 165.746597 \nL 84.063454 206.043516 \nL 84.122588 204.95441 \nL 84.299991 214.756364 \nL 84.359125 213.122705 \nL 84.418259 214.756364 \nL 84.477394 212.033599 \nL 84.536528 214.756364 \nL 84.595662 214.211811 \nL 84.654796 181.538633 \nL 84.71393 214.756364 \nL 84.773064 213.122705 \nL 84.891333 214.756364 \nL 84.950467 213.122705 \nL 85.009601 214.756364 \nL 85.068735 202.231645 \nL 85.187004 214.211811 \nL 85.246138 207.677175 \nL 85.305272 214.756364 \nL 85.364406 214.211811 \nL 85.42354 212.033599 \nL 85.482675 197.875222 \nL 85.541809 214.756364 \nL 85.600943 212.578152 \nL 85.660077 210.39994 \nL 85.719211 174.459444 \nL 85.778346 213.122705 \nL 85.83748 211.489046 \nL 85.896614 158.667408 \nL 85.955748 212.033599 \nL 86.014882 207.677175 \nL 86.074016 207.132622 \nL 86.192285 214.211811 \nL 86.251419 212.578152 \nL 86.310553 214.756364 \nL 86.369687 201.687092 \nL 86.428822 212.033599 \nL 86.54709 214.756364 \nL 86.606224 213.667258 \nL 86.665358 214.211811 \nL 86.724492 214.211811 \nL 86.783627 214.756364 \nL 86.842761 198.964328 \nL 86.961029 214.211811 \nL 87.020163 211.489046 \nL 87.138432 214.211811 \nL 87.197566 212.033599 \nL 87.2567 214.211811 \nL 87.315834 213.667258 \nL 87.374968 213.667258 \nL 87.434103 195.69701 \nL 87.552371 214.756364 \nL 87.670639 179.360421 \nL 87.729774 213.667258 \nL 87.788908 197.875222 \nL 87.907176 214.756364 \nL 87.96631 214.756364 \nL 88.025444 213.667258 \nL 88.084579 205.498963 \nL 88.143713 207.677175 \nL 88.202847 214.756364 \nL 88.261981 209.310834 \nL 88.38025 214.756364 \nL 88.439384 213.667258 \nL 88.498518 208.766281 \nL 88.67592 214.756364 \nL 88.735055 210.944493 \nL 88.853323 214.756364 \nL 88.912457 214.756364 \nL 88.971591 169.558467 \nL 89.030726 214.756364 \nL 89.08986 172.281232 \nL 89.148994 209.310834 \nL 89.208128 214.756364 \nL 89.267262 203.320751 \nL 89.326396 204.95441 \nL 89.385531 204.409857 \nL 89.444665 214.756364 \nL 89.503799 214.211811 \nL 89.562933 214.211811 \nL 89.622067 213.667258 \nL 89.740336 214.756364 \nL 89.858604 214.756364 \nL 90.036007 209.855387 \nL 90.095141 214.756364 \nL 90.154275 209.310834 \nL 90.272543 214.211811 \nL 90.331678 210.39994 \nL 90.390812 214.211811 \nL 90.449946 205.498963 \nL 90.568214 214.756364 \nL 90.627349 214.211811 \nL 90.686483 209.310834 \nL 90.745617 214.756364 \nL 90.804751 213.667258 \nL 90.863885 210.39994 \nL 90.923019 214.756364 \nL 90.982154 209.855387 \nL 91.100422 214.756364 \nL 91.21869 205.498963 \nL 91.277825 190.25148 \nL 91.396093 214.756364 \nL 91.455227 212.033599 \nL 91.514361 195.152457 \nL 91.573495 214.756364 \nL 91.63263 214.211811 \nL 91.691764 214.756364 \nL 91.750898 214.211811 \nL 91.810032 206.043516 \nL 91.869166 212.578152 \nL 91.928301 214.756364 \nL 91.987435 213.122705 \nL 92.046569 213.667258 \nL 92.164837 200.053434 \nL 92.283106 209.310834 \nL 92.34224 209.310834 \nL 92.460508 214.756364 \nL 92.519642 214.211811 \nL 92.637911 214.756364 \nL 92.697045 210.944493 \nL 92.756179 214.756364 \nL 92.815313 214.211811 \nL 92.874447 209.310834 \nL 92.992716 214.211811 \nL 93.110984 214.756364 \nL 93.170118 213.122705 \nL 93.229253 135.25163 \nL 93.347521 214.756364 \nL 93.406655 214.756364 \nL 93.465789 212.033599 \nL 93.524923 202.231645 \nL 93.584058 214.756364 \nL 93.643192 210.944493 \nL 93.76146 194.607904 \nL 93.820594 214.756364 \nL 93.879729 212.578152 \nL 93.938863 214.756364 \nL 93.997997 207.677175 \nL 94.116265 214.756364 \nL 94.175399 214.756364 \nL 94.234534 166.835702 \nL 94.293668 214.756364 \nL 94.352802 186.439609 \nL 94.47107 214.756364 \nL 94.530205 214.756364 \nL 94.589339 211.489046 \nL 94.707607 214.756364 \nL 94.766741 214.756364 \nL 94.825875 214.211811 \nL 94.88501 212.033599 \nL 94.944144 214.756364 \nL 95.003278 212.578152 \nL 95.121546 214.756364 \nL 95.180681 214.756364 \nL 95.239815 213.667258 \nL 95.298949 214.756364 \nL 95.358083 214.211811 \nL 95.417217 214.756364 \nL 95.476351 194.607904 \nL 95.59462 214.756364 \nL 95.653754 212.578152 \nL 95.712888 214.756364 \nL 95.772022 214.211811 \nL 95.831157 214.756364 \nL 95.890291 214.211811 \nL 96.008559 212.033599 \nL 96.067693 202.776198 \nL 96.126827 208.221728 \nL 96.245096 214.211811 \nL 96.422498 209.855387 \nL 96.540767 214.756364 \nL 96.599901 213.122705 \nL 96.659035 214.211811 \nL 96.718169 214.756364 \nL 96.777303 211.489046 \nL 96.836438 213.122705 \nL 96.895572 214.211811 \nL 96.954706 212.578152 \nL 97.132109 214.756364 \nL 97.191243 210.944493 \nL 97.250377 214.756364 \nL 97.309511 213.122705 \nL 97.368645 214.756364 \nL 97.427779 214.211811 \nL 97.486914 212.578152 \nL 97.605182 214.756364 \nL 97.664316 214.211811 \nL 97.72345 214.756364 \nL 97.782585 214.211811 \nL 97.841719 208.221728 \nL 97.900853 214.756364 \nL 97.959987 214.211811 \nL 98.019121 209.310834 \nL 98.078255 214.756364 \nL 98.13739 197.330669 \nL 98.196524 209.855387 \nL 98.255658 203.865304 \nL 98.314792 214.756364 \nL 98.373926 183.716844 \nL 98.433061 213.122705 \nL 98.492195 209.310834 \nL 98.610463 214.756364 \nL 98.669597 203.320751 \nL 98.728731 213.667258 \nL 98.787866 207.677175 \nL 98.847 213.667258 \nL 98.906134 203.320751 \nL 99.024402 214.756364 \nL 99.083537 214.756364 \nL 99.142671 214.211811 \nL 99.201805 211.489046 \nL 99.260939 214.211811 \nL 99.320073 198.964328 \nL 99.379207 203.865304 \nL 99.438342 214.756364 \nL 99.497476 213.122705 \nL 99.55661 213.122705 \nL 99.615744 214.756364 \nL 99.674878 211.489046 \nL 99.734013 213.667258 \nL 99.793147 213.122705 \nL 99.852281 208.766281 \nL 99.911415 213.667258 \nL 99.970549 213.122705 \nL 100.088818 214.211811 \nL 100.147952 206.043516 \nL 100.207086 210.944493 \nL 100.325354 214.756364 \nL 100.384489 205.498963 \nL 100.443623 211.489046 \nL 100.502757 214.211811 \nL 100.561891 189.162374 \nL 100.68016 214.756364 \nL 100.739294 212.578152 \nL 100.798428 214.211811 \nL 100.857562 213.667258 \nL 100.916696 214.756364 \nL 100.97583 214.211811 \nL 101.034965 197.875222 \nL 101.094099 213.667258 \nL 101.153233 202.776198 \nL 101.271501 214.756364 \nL 101.330636 206.588069 \nL 101.38977 214.756364 \nL 101.448904 208.221728 \nL 101.508038 214.756364 \nL 101.567172 201.142539 \nL 101.685441 214.756364 \nL 101.744575 214.756364 \nL 101.803709 211.489046 \nL 101.862843 214.211811 \nL 101.981112 213.122705 \nL 102.040246 213.667258 \nL 102.217648 206.043516 \nL 102.276782 214.756364 \nL 102.335917 201.687092 \nL 102.395051 213.122705 \nL 102.454185 204.95441 \nL 102.513319 210.39994 \nL 102.690722 214.756364 \nL 102.749856 214.211811 \nL 102.80899 208.221728 \nL 102.868124 178.815868 \nL 102.927258 214.756364 \nL 102.986393 210.944493 \nL 103.104661 214.756364 \nL 103.163795 209.855387 \nL 103.222929 189.706927 \nL 103.282064 214.756364 \nL 103.341198 212.578152 \nL 103.459466 214.756364 \nL 103.5186 213.122705 \nL 103.577734 214.211811 \nL 103.696003 214.211811 \nL 103.755137 213.122705 \nL 103.814271 214.756364 \nL 103.873405 213.122705 \nL 103.93254 214.756364 \nL 103.991674 204.95441 \nL 104.050808 212.578152 \nL 104.109942 214.756364 \nL 104.287345 206.043516 \nL 104.346479 213.122705 \nL 104.405613 191.885139 \nL 104.583016 214.756364 \nL 104.64215 183.172292 \nL 104.760418 214.756364 \nL 104.819552 213.667258 \nL 104.937821 214.756364 \nL 104.996955 214.756364 \nL 105.174357 201.142539 \nL 105.35176 214.756364 \nL 105.470028 206.043516 \nL 105.529162 214.756364 \nL 105.588297 213.667258 \nL 105.647431 213.667258 \nL 105.706565 214.756364 \nL 105.765699 209.310834 \nL 105.824833 213.122705 \nL 105.943102 214.756364 \nL 106.002236 212.578152 \nL 106.06137 214.756364 \nL 106.120504 204.409857 \nL 106.179638 208.221728 \nL 106.238773 209.855387 \nL 106.297907 196.786116 \nL 106.416175 214.756364 \nL 106.475309 212.033599 \nL 106.593578 190.796033 \nL 106.711846 214.211811 \nL 106.77098 210.944493 \nL 106.830114 214.756364 \nL 106.889249 213.667258 \nL 106.948383 214.756364 \nL 107.007517 210.39994 \nL 107.066651 194.607904 \nL 107.125785 204.95441 \nL 107.18492 214.756364 \nL 107.244054 213.122705 \nL 107.362322 206.588069 \nL 107.48059 214.756364 \nL 107.539725 214.756364 \nL 107.598859 210.39994 \nL 107.657993 214.756364 \nL 107.717127 213.122705 \nL 107.89453 214.756364 \nL 107.953664 212.578152 \nL 108.012798 202.231645 \nL 108.131066 214.756364 \nL 108.249335 214.756364 \nL 108.308469 214.211811 \nL 108.367603 214.756364 \nL 108.426737 214.211811 \nL 108.545006 208.221728 \nL 108.60414 210.944493 \nL 108.663274 213.667258 \nL 108.781542 204.95441 \nL 108.899811 214.211811 \nL 108.958945 213.122705 \nL 109.018079 194.607904 \nL 109.077213 214.756364 \nL 109.136348 213.667258 \nL 109.195482 214.756364 \nL 109.254616 200.597986 \nL 109.31375 214.756364 \nL 109.372884 214.211811 \nL 109.491153 214.756364 \nL 109.550287 198.419775 \nL 109.609421 213.667258 \nL 109.668555 212.578152 \nL 109.727689 214.756364 \nL 109.786824 213.667258 \nL 109.845958 214.756364 \nL 109.905092 212.033599 \nL 109.964226 214.756364 \nL 110.02336 210.944493 \nL 110.141629 196.786116 \nL 110.200763 214.756364 \nL 110.259897 209.310834 \nL 110.319031 203.320751 \nL 110.4373 214.756364 \nL 110.555568 208.766281 \nL 110.673836 214.756364 \nL 110.73297 214.756364 \nL 110.792105 173.914891 \nL 110.910373 214.756364 \nL 111.028641 210.944493 \nL 111.14691 214.756364 \nL 111.265178 185.895056 \nL 111.324312 209.855387 \nL 111.383447 136.340736 \nL 111.501715 212.033599 \nL 111.619983 213.667258 \nL 111.679117 213.122705 \nL 111.738252 207.132622 \nL 111.85652 214.211811 \nL 111.915654 196.241563 \nL 111.974788 213.667258 \nL 112.033923 212.578152 \nL 112.093057 209.310834 \nL 112.211325 214.756364 \nL 112.270459 214.756364 \nL 112.329593 214.211811 \nL 112.388728 214.756364 \nL 112.447862 211.489046 \nL 112.506996 134.707077 \nL 112.56613 193.518798 \nL 112.684399 214.756364 \nL 112.743533 210.944493 \nL 112.802667 213.667258 \nL 112.861801 213.667258 \nL 112.920935 212.033599 \nL 113.039204 214.756364 \nL 113.216606 214.756364 \nL 113.27574 213.122705 \nL 113.334875 214.756364 \nL 113.394009 214.211811 \nL 113.453143 211.489046 \nL 113.512277 214.756364 \nL 113.630545 210.944493 \nL 113.807948 214.756364 \nL 113.867082 210.944493 \nL 113.926216 211.489046 \nL 114.044485 214.756364 \nL 114.103619 210.944493 \nL 114.162753 214.756364 \nL 114.221887 214.211811 \nL 114.281021 212.578152 \nL 114.340156 214.756364 \nL 114.39929 213.667258 \nL 114.458424 214.211811 \nL 114.517558 213.122705 \nL 114.635827 214.756364 \nL 114.694961 209.855387 \nL 114.754095 214.756364 \nL 114.813229 214.211811 \nL 114.872363 213.667258 \nL 114.931497 209.855387 \nL 114.990632 214.756364 \nL 115.049766 188.073268 \nL 115.1089 214.756364 \nL 115.168034 214.211811 \nL 115.227168 209.855387 \nL 115.286303 213.122705 \nL 115.345437 213.667258 \nL 115.404571 207.677175 \nL 115.581973 214.756364 \nL 115.759376 201.687092 \nL 115.81851 214.756364 \nL 115.877644 203.865304 \nL 115.936779 214.756364 \nL 115.995913 17.083636 \nL 116.114181 213.667258 \nL 116.173315 214.756364 \nL 116.232449 187.528715 \nL 116.291584 214.756364 \nL 116.350718 214.211811 \nL 116.409852 214.756364 \nL 116.587255 213.122705 \nL 116.646389 213.667258 \nL 116.705523 203.865304 \nL 116.764657 209.310834 \nL 116.882925 214.756364 \nL 117.060328 197.330669 \nL 117.119462 214.756364 \nL 117.178596 214.211811 \nL 117.296865 214.756364 \nL 117.355999 209.855387 \nL 117.415133 210.944493 \nL 117.533401 214.756364 \nL 117.65167 207.677175 \nL 117.710804 214.211811 \nL 117.769938 212.578152 \nL 117.829072 214.756364 \nL 117.888207 214.211811 \nL 117.947341 214.211811 \nL 118.006475 196.786116 \nL 118.065609 214.756364 \nL 118.124743 170.647573 \nL 118.183877 212.578152 \nL 118.243012 199.508881 \nL 118.302146 213.122705 \nL 118.36128 212.578152 \nL 118.420414 214.756364 \nL 118.479548 214.211811 \nL 118.538683 214.756364 \nL 118.597817 213.667258 \nL 118.656951 214.756364 \nL 118.834353 201.142539 \nL 118.893488 163.023832 \nL 118.952622 214.756364 \nL 119.011756 212.578152 \nL 119.130024 212.033599 \nL 119.248293 200.597986 \nL 119.425695 214.756364 \nL 119.603098 213.122705 \nL 119.662232 203.320751 \nL 119.721366 211.489046 \nL 119.839635 214.756364 \nL 119.898769 213.122705 \nL 119.957903 200.597986 \nL 120.017037 214.756364 \nL 120.076171 213.667258 \nL 120.135305 214.756364 \nL 120.19444 214.211811 \nL 120.312708 209.855387 \nL 120.371842 214.211811 \nL 120.430976 122.726912 \nL 120.549245 214.756364 \nL 120.608379 180.449527 \nL 120.667513 207.132622 \nL 120.844916 214.211811 \nL 120.90405 213.122705 \nL 120.963184 209.855387 \nL 121.081452 214.756364 \nL 121.140587 209.855387 \nL 121.199721 182.627739 \nL 121.258855 212.033599 \nL 121.317989 209.310834 \nL 121.377123 214.756364 \nL 121.436257 212.578152 \nL 121.495392 214.211811 \nL 121.61366 206.043516 \nL 121.731928 214.756364 \nL 121.791063 213.122705 \nL 121.850197 214.211811 \nL 121.909331 192.429692 \nL 121.968465 208.766281 \nL 122.145868 214.756364 \nL 122.205002 214.756364 \nL 122.264136 209.310834 \nL 122.32327 214.756364 \nL 122.382404 213.667258 \nL 122.441539 214.756364 \nL 122.500673 214.211811 \nL 122.559807 214.211811 \nL 122.618941 214.756364 \nL 122.678075 208.766281 \nL 122.73721 211.489046 \nL 122.796344 214.756364 \nL 122.855478 212.578152 \nL 122.973746 214.756364 \nL 123.03288 213.667258 \nL 123.092015 214.756364 \nL 123.151149 209.310834 \nL 123.269417 214.756364 \nL 123.328551 214.756364 \nL 123.387686 201.687092 \nL 123.44682 208.766281 \nL 123.505954 214.756364 \nL 123.565088 212.033599 \nL 123.624222 213.667258 \nL 123.683356 204.95441 \nL 123.742491 212.033599 \nL 123.860759 214.756364 \nL 123.919893 210.944493 \nL 123.979027 212.578152 \nL 124.038162 214.756364 \nL 124.097296 209.310834 \nL 124.15643 214.756364 \nL 124.215564 210.944493 \nL 124.274698 212.033599 \nL 124.333832 207.677175 \nL 124.392967 214.756364 \nL 124.452101 211.489046 \nL 124.570369 214.756364 \nL 124.629503 212.578152 \nL 124.688638 188.073268 \nL 124.806906 214.756364 \nL 124.925174 211.489046 \nL 125.043443 214.211811 \nL 125.161711 210.39994 \nL 125.220845 214.756364 \nL 125.279979 211.489046 \nL 125.339114 214.211811 \nL 125.398248 206.588069 \nL 125.457382 212.578152 \nL 125.57565 214.756364 \nL 125.634784 213.667258 \nL 125.753053 214.756364 \nL 125.812187 214.756364 \nL 125.871321 214.211811 \nL 125.930455 208.221728 \nL 125.98959 214.756364 \nL 126.048724 159.211961 \nL 126.107858 214.756364 \nL 126.166992 212.033599 \nL 126.226126 214.756364 \nL 126.28526 212.578152 \nL 126.344395 213.122705 \nL 126.403529 212.033599 \nL 126.462663 214.756364 \nL 126.521797 214.211811 \nL 126.580931 213.122705 \nL 126.640066 214.211811 \nL 126.6992 198.419775 \nL 126.758334 213.667258 \nL 126.817468 188.073268 \nL 126.876602 200.053434 \nL 126.935736 214.211811 \nL 126.994871 212.578152 \nL 127.113139 214.211811 \nL 127.172273 213.122705 \nL 127.231407 200.597986 \nL 127.290542 214.756364 \nL 127.349676 214.211811 \nL 127.40881 213.122705 \nL 127.467944 213.667258 \nL 127.586212 213.122705 \nL 127.645347 214.211811 \nL 127.704481 213.667258 \nL 127.763615 214.211811 \nL 127.822749 213.667258 \nL 127.881883 214.211811 \nL 128.000152 198.964328 \nL 128.059286 214.211811 \nL 128.11842 212.578152 \nL 128.177554 212.578152 \nL 128.236688 205.498963 \nL 128.354957 214.211811 \nL 128.414091 210.39994 \nL 128.473225 172.825785 \nL 128.650628 212.578152 \nL 128.709762 212.578152 \nL 128.768896 213.122705 \nL 128.82803 214.756364 \nL 128.887164 213.667258 \nL 128.946299 214.756364 \nL 129.005433 213.122705 \nL 129.064567 213.667258 \nL 129.123701 214.756364 \nL 129.24197 212.033599 \nL 129.301104 196.786116 \nL 129.419372 213.667258 \nL 129.478506 201.687092 \nL 129.596775 214.756364 \nL 129.655909 214.756364 \nL 129.715043 206.588069 \nL 129.833311 214.756364 \nL 129.892446 213.667258 \nL 129.95158 214.211811 \nL 130.010714 209.310834 \nL 130.069848 212.033599 \nL 130.188116 213.667258 \nL 130.247251 197.875222 \nL 130.424653 214.756364 \nL 130.483787 213.122705 \nL 130.542922 214.211811 \nL 130.602056 214.756364 \nL 130.66119 212.033599 \nL 130.720324 214.211811 \nL 130.838592 214.756364 \nL 130.897727 212.578152 \nL 130.956861 213.667258 \nL 131.015995 213.122705 \nL 131.075129 202.231645 \nL 131.134263 214.756364 \nL 131.193398 212.578152 \nL 131.252532 195.152457 \nL 131.311666 214.756364 \nL 131.3708 198.419775 \nL 131.489068 214.756364 \nL 131.666471 197.330669 \nL 131.725605 180.99408 \nL 131.784739 214.756364 \nL 131.843874 213.667258 \nL 131.962142 214.756364 \nL 132.08041 214.756364 \nL 132.316947 212.033599 \nL 132.435215 214.756364 \nL 132.49435 214.756364 \nL 132.553484 208.221728 \nL 132.612618 210.944493 \nL 132.671752 208.766281 \nL 132.730886 213.667258 \nL 132.79002 212.578152 \nL 132.849155 190.796033 \nL 132.908289 214.756364 \nL 132.967423 192.974245 \nL 133.026557 203.865304 \nL 133.322228 214.756364 \nL 133.440497 211.489046 \nL 133.499631 192.974245 \nL 133.558765 214.756364 \nL 133.617899 212.578152 \nL 133.677033 212.578152 \nL 133.736167 205.498963 \nL 133.854436 214.756364 \nL 133.972704 210.944493 \nL 134.031838 214.756364 \nL 134.090973 198.964328 \nL 134.209241 214.756364 \nL 134.268375 173.914891 \nL 134.327509 214.756364 \nL 134.386643 192.429692 \nL 134.445778 213.667258 \nL 134.504912 203.865304 \nL 134.62318 214.756364 \nL 134.682314 209.310834 \nL 134.741449 213.122705 \nL 134.800583 211.489046 \nL 134.859717 214.756364 \nL 134.918851 170.647573 \nL 134.977985 214.756364 \nL 135.037119 212.033599 \nL 135.096254 214.211811 \nL 135.155388 213.667258 \nL 135.214522 214.211811 \nL 135.391925 197.875222 \nL 135.451059 212.578152 \nL 135.510193 206.588069 \nL 135.628461 214.756364 \nL 135.687595 213.122705 \nL 135.805864 203.320751 \nL 135.864998 213.122705 \nL 135.924132 211.489046 \nL 135.983266 205.498963 \nL 136.042401 214.756364 \nL 136.101535 204.95441 \nL 136.160669 214.756364 \nL 136.219803 213.122705 \nL 136.278937 213.122705 \nL 136.397206 214.756364 \nL 136.45634 212.033599 \nL 136.574608 214.756364 \nL 136.633742 214.211811 \nL 136.752011 214.756364 \nL 136.811145 203.865304 \nL 136.870279 204.95441 \nL 136.988547 214.756364 \nL 137.16595 200.053434 \nL 137.225084 214.756364 \nL 137.284218 205.498963 \nL 137.402487 214.211811 \nL 137.461621 209.855387 \nL 137.579889 193.518798 \nL 137.698158 213.122705 \nL 137.757292 205.498963 \nL 137.816426 210.944493 \nL 138.112097 214.756364 \nL 138.171231 211.489046 \nL 138.230365 214.756364 \nL 138.289499 197.875222 \nL 138.348634 214.756364 \nL 138.407768 213.122705 \nL 138.466902 214.211811 \nL 138.526036 209.855387 \nL 138.58517 214.756364 \nL 138.644305 205.498963 \nL 138.703439 214.756364 \nL 138.762573 194.063351 \nL 138.880841 214.211811 \nL 139.058244 212.578152 \nL 139.117378 214.211811 \nL 139.176512 205.498963 \nL 139.235646 212.578152 \nL 139.294781 212.578152 \nL 139.353915 210.944493 \nL 139.413049 213.667258 \nL 139.472183 212.578152 \nL 139.531317 213.667258 \nL 139.590451 210.944493 \nL 139.649586 213.667258 \nL 139.70872 201.142539 \nL 139.767854 210.944493 \nL 139.826988 214.211811 \nL 140.063525 204.95441 \nL 140.122659 213.667258 \nL 140.181793 212.578152 \nL 140.240927 213.122705 \nL 140.300062 214.756364 \nL 140.359196 212.578152 \nL 140.41833 177.726762 \nL 140.536598 214.756364 \nL 140.595733 192.429692 \nL 140.654867 214.756364 \nL 140.714001 208.221728 \nL 140.773135 214.756364 \nL 140.832269 212.578152 \nL 140.950538 209.855387 \nL 141.009672 213.667258 \nL 141.068806 212.578152 \nL 141.12794 211.489046 \nL 141.246209 214.756364 \nL 141.305343 191.340586 \nL 141.423611 214.756364 \nL 141.482745 204.95441 \nL 141.541879 213.122705 \nL 141.601014 214.211811 \nL 141.660148 213.122705 \nL 141.719282 214.211811 \nL 141.778416 212.033599 \nL 141.83755 194.063351 \nL 141.896685 214.211811 \nL 141.955819 204.409857 \nL 142.133221 214.756364 \nL 142.192355 213.122705 \nL 142.25149 163.568385 \nL 142.310624 214.211811 \nL 142.369758 204.409857 \nL 142.428892 170.647573 \nL 142.547161 213.667258 \nL 142.606295 182.627739 \nL 142.665429 208.221728 \nL 142.724563 213.122705 \nL 142.901966 202.231645 \nL 142.9611 214.756364 \nL 143.020234 213.667258 \nL 143.079368 213.667258 \nL 143.138502 208.766281 \nL 143.197637 213.122705 \nL 143.256771 211.489046 \nL 143.315905 201.687092 \nL 143.434173 214.756364 \nL 143.493307 203.865304 \nL 143.552442 214.211811 \nL 143.611576 213.667258 \nL 143.67071 212.578152 \nL 143.729844 214.211811 \nL 143.788978 183.716844 \nL 143.907247 214.756364 \nL 144.084649 213.667258 \nL 144.143784 195.152457 \nL 144.262052 214.211811 \nL 144.321186 214.211811 \nL 144.439454 214.756364 \nL 144.498589 209.310834 \nL 144.557723 214.211811 \nL 144.616857 211.489046 \nL 144.79426 214.211811 \nL 144.853394 208.766281 \nL 144.912528 213.122705 \nL 144.971662 214.756364 \nL 145.030796 212.033599 \nL 145.08993 214.211811 \nL 145.149065 212.578152 \nL 145.208199 214.756364 \nL 145.267333 212.578152 \nL 145.326467 213.667258 \nL 145.385601 214.756364 \nL 145.50387 200.597986 \nL 145.622138 214.756364 \nL 145.681272 201.687092 \nL 145.740406 213.122705 \nL 145.799541 214.756364 \nL 145.917809 206.588069 \nL 146.036077 214.756364 \nL 146.095212 214.756364 \nL 146.154346 206.043516 \nL 146.21348 214.211811 \nL 146.272614 211.489046 \nL 146.390882 214.211811 \nL 146.450017 212.578152 \nL 146.509151 213.667258 \nL 146.568285 197.875222 \nL 146.627419 204.95441 \nL 146.686553 213.667258 \nL 146.745688 213.122705 \nL 146.804822 207.677175 \nL 146.92309 214.211811 \nL 146.982224 213.122705 \nL 147.100493 214.756364 \nL 147.277895 207.132622 \nL 147.396164 214.756364 \nL 147.455298 213.122705 \nL 147.514432 214.211811 \nL 147.573566 214.756364 \nL 147.6327 202.231645 \nL 147.691834 212.033599 \nL 147.750969 214.211811 \nL 147.810103 195.152457 \nL 147.987505 214.756364 \nL 148.105774 211.489046 \nL 148.164908 214.756364 \nL 148.224042 213.667258 \nL 148.283176 213.667258 \nL 148.34231 164.112938 \nL 148.401445 207.132622 \nL 148.578847 214.211811 \nL 148.637981 214.756364 \nL 148.697116 209.855387 \nL 148.75625 214.756364 \nL 148.815384 208.766281 \nL 148.933652 214.756364 \nL 148.992786 214.211811 \nL 149.051921 214.756364 \nL 149.170189 214.211811 \nL 149.229323 201.142539 \nL 149.288457 206.588069 \nL 149.347592 214.756364 \nL 149.406726 207.677175 \nL 149.46586 214.211811 \nL 149.643262 197.330669 \nL 149.702397 213.667258 \nL 149.761531 206.588069 \nL 149.820665 213.667258 \nL 149.879799 213.122705 \nL 149.938933 213.667258 \nL 149.998068 210.944493 \nL 150.057202 214.756364 \nL 150.116336 208.221728 \nL 150.17547 213.667258 \nL 150.234604 214.756364 \nL 150.293738 213.667258 \nL 150.352873 214.756364 \nL 150.412007 214.211811 \nL 150.471141 211.489046 \nL 150.530275 214.756364 \nL 150.589409 212.578152 \nL 150.648544 214.756364 \nL 150.766812 198.964328 \nL 151.003349 214.756364 \nL 151.062483 209.855387 \nL 151.121617 214.211811 \nL 151.239885 183.716844 \nL 151.29902 213.667258 \nL 151.358154 208.221728 \nL 151.417288 214.756364 \nL 151.476422 214.211811 \nL 151.535556 205.498963 \nL 151.59469 214.756364 \nL 151.653825 196.241563 \nL 151.772093 214.756364 \nL 151.831227 213.122705 \nL 151.890361 208.221728 \nL 152.00863 214.756364 \nL 152.126898 214.211811 \nL 152.186032 214.756364 \nL 152.245166 213.122705 \nL 152.304301 213.667258 \nL 152.363435 213.122705 \nL 152.422569 213.667258 \nL 152.481703 202.776198 \nL 152.599972 214.211811 \nL 152.659106 211.489046 \nL 152.71824 159.756514 \nL 152.836508 214.211811 \nL 152.954777 210.944493 \nL 153.073045 214.756364 \nL 153.132179 213.667258 \nL 153.191313 214.756364 \nL 153.250448 214.211811 \nL 153.368716 214.756364 \nL 153.42785 214.211811 \nL 153.546118 207.677175 \nL 153.664387 214.756364 \nL 153.723521 204.95441 \nL 153.782655 214.756364 \nL 153.841789 213.667258 \nL 153.960058 214.756364 \nL 154.078326 214.756364 \nL 154.13746 210.944493 \nL 154.196594 214.756364 \nL 154.255729 214.211811 \nL 154.373997 212.578152 \nL 154.433131 214.756364 \nL 154.492265 211.489046 \nL 154.610534 193.518798 \nL 154.669668 214.756364 \nL 154.728802 209.310834 \nL 154.847071 214.756364 \nL 154.906205 214.756364 \nL 154.965339 207.677175 \nL 155.083607 214.756364 \nL 155.142741 193.518798 \nL 155.201876 214.211811 \nL 155.26101 213.122705 \nL 155.379278 214.756364 \nL 155.438412 211.489046 \nL 155.497547 214.756364 \nL 155.556681 212.033599 \nL 155.615815 214.756364 \nL 155.674949 213.122705 \nL 155.734083 210.39994 \nL 155.793217 210.944493 \nL 155.852352 214.756364 \nL 155.911486 213.122705 \nL 156.029754 214.756364 \nL 156.088888 194.607904 \nL 156.148023 214.756364 \nL 156.207157 214.211811 \nL 156.266291 212.033599 \nL 156.325425 212.578152 \nL 156.384559 213.122705 \nL 156.443693 214.756364 \nL 156.502828 214.211811 \nL 156.561962 209.855387 \nL 156.621096 214.756364 \nL 156.798499 202.231645 \nL 156.857633 213.667258 \nL 156.916767 203.865304 \nL 156.975901 213.667258 \nL 157.035035 210.39994 \nL 157.094169 214.756364 \nL 157.153304 211.489046 \nL 157.212438 209.310834 \nL 157.271572 212.578152 \nL 157.330706 209.855387 \nL 157.38984 200.053434 \nL 157.567243 214.756364 \nL 157.685511 214.756364 \nL 157.80378 214.211811 \nL 157.862914 214.756364 \nL 157.922048 210.944493 \nL 157.981182 214.756364 \nL 158.040316 174.459444 \nL 158.099451 213.122705 \nL 158.158585 200.053434 \nL 158.217719 214.756364 \nL 158.276853 197.875222 \nL 158.335987 214.756364 \nL 158.395121 210.39994 \nL 158.51339 213.667258 \nL 158.572524 209.310834 \nL 158.631658 209.855387 \nL 158.868195 214.756364 \nL 158.927329 214.756364 \nL 158.986463 214.211811 \nL 159.104732 214.756364 \nL 159.163866 214.756364 \nL 159.341268 206.588069 \nL 159.518671 214.756364 \nL 159.577805 205.498963 \nL 159.636939 214.211811 \nL 159.696073 212.578152 \nL 159.814342 214.756364 \nL 159.873476 208.221728 \nL 159.93261 209.310834 \nL 159.991744 214.211811 \nL 160.050879 213.122705 \nL 160.110013 199.508881 \nL 160.169147 212.578152 \nL 160.228281 212.033599 \nL 160.287415 209.310834 \nL 160.405684 214.756364 \nL 160.464818 214.211811 \nL 160.523952 199.508881 \nL 160.64222 214.756364 \nL 160.819623 204.409857 \nL 160.937891 214.756364 \nL 161.05616 214.756364 \nL 161.115294 183.172292 \nL 161.292696 214.756364 \nL 161.410965 213.122705 \nL 161.529233 214.756364 \nL 161.588367 213.667258 \nL 161.647501 209.310834 \nL 161.706636 209.855387 \nL 161.76577 212.578152 \nL 161.824904 198.964328 \nL 161.884038 214.756364 \nL 161.943172 208.221728 \nL 162.002307 212.033599 \nL 162.061441 207.132622 \nL 162.120575 212.578152 \nL 162.179709 186.439609 \nL 162.238843 214.756364 \nL 162.297977 214.211811 \nL 162.416246 210.39994 \nL 162.47538 210.39994 \nL 162.534514 213.667258 \nL 162.593648 188.073268 \nL 162.711917 214.756364 \nL 162.771051 212.578152 \nL 162.830185 214.211811 \nL 162.889319 214.756364 \nL 162.948453 214.211811 \nL 163.007588 190.25148 \nL 163.066722 209.855387 \nL 163.244124 214.756364 \nL 163.362393 213.667258 \nL 163.421527 194.607904 \nL 163.480661 214.756364 \nL 163.539795 213.122705 \nL 163.598929 213.667258 \nL 163.658064 208.221728 \nL 163.717198 214.756364 \nL 163.776332 204.409857 \nL 163.8946 214.756364 \nL 164.072003 207.677175 \nL 164.131137 214.211811 \nL 164.190271 204.95441 \nL 164.249405 207.677175 \nL 164.30854 213.122705 \nL 164.367674 207.677175 \nL 164.426808 214.211811 \nL 164.485942 213.667258 \nL 164.604211 214.756364 \nL 164.663345 143.419925 \nL 164.722479 196.786116 \nL 164.781613 214.756364 \nL 164.840747 207.132622 \nL 164.899881 214.211811 \nL 164.959016 213.122705 \nL 165.01815 213.667258 \nL 165.077284 210.39994 \nL 165.254687 214.756364 \nL 165.372955 202.776198 \nL 165.491223 214.211811 \nL 165.550358 200.053434 \nL 165.668626 213.667258 \nL 165.846028 200.597986 \nL 165.964297 214.756364 \nL 166.082565 197.330669 \nL 166.141699 213.667258 \nL 166.200834 211.489046 \nL 166.259968 201.687092 \nL 166.319102 214.211811 \nL 166.378236 212.578152 \nL 166.43737 197.875222 \nL 166.555639 213.122705 \nL 166.614773 205.498963 \nL 166.673907 214.211811 \nL 166.733041 213.667258 \nL 166.792175 214.211811 \nL 166.85131 213.122705 \nL 166.910444 214.211811 \nL 166.969578 213.667258 \nL 167.028712 201.142539 \nL 167.14698 214.211811 \nL 167.206115 214.211811 \nL 167.265249 212.033599 \nL 167.324383 181.538633 \nL 167.442651 214.756364 \nL 167.501786 184.261397 \nL 167.56092 214.211811 \nL 167.620054 207.677175 \nL 167.738322 214.756364 \nL 167.797456 213.122705 \nL 167.856591 214.756364 \nL 167.915725 179.904974 \nL 168.033993 214.756364 \nL 168.093127 214.756364 \nL 168.152262 136.885289 \nL 168.27053 214.756364 \nL 168.388798 210.944493 \nL 168.447932 213.667258 \nL 168.507067 212.033599 \nL 168.566201 212.033599 \nL 168.625335 214.756364 \nL 168.802738 210.944493 \nL 168.861872 214.756364 \nL 168.921006 196.241563 \nL 169.039274 214.756364 \nL 169.098408 214.211811 \nL 169.157543 214.756364 \nL 169.216677 197.330669 \nL 169.275811 212.578152 \nL 169.334945 214.211811 \nL 169.394079 173.914891 \nL 169.453214 208.766281 \nL 169.512348 214.756364 \nL 169.571482 213.122705 \nL 169.630616 214.756364 \nL 169.68975 205.498963 \nL 169.748884 207.677175 \nL 169.926287 214.756364 \nL 169.985421 214.756364 \nL 170.044555 213.667258 \nL 170.10369 214.211811 \nL 170.162824 209.310834 \nL 170.221958 213.667258 \nL 170.281092 213.122705 \nL 170.340226 209.855387 \nL 170.39936 212.033599 \nL 170.458495 214.756364 \nL 170.517629 212.578152 \nL 170.576763 207.677175 \nL 170.635897 209.855387 \nL 170.695031 214.756364 \nL 170.754166 213.667258 \nL 170.8133 213.667258 \nL 170.872434 214.211811 \nL 170.931568 209.855387 \nL 170.990702 213.667258 \nL 171.049836 214.756364 \nL 171.108971 212.578152 \nL 171.168105 213.667258 \nL 171.286373 214.756364 \nL 171.345507 213.667258 \nL 171.404642 209.855387 \nL 171.463776 214.211811 \nL 171.52291 213.667258 \nL 171.582044 212.578152 \nL 171.641178 202.776198 \nL 171.700312 214.211811 \nL 171.759447 186.984162 \nL 171.818581 214.756364 \nL 171.877715 214.211811 \nL 171.936849 214.211811 \nL 171.995983 212.033599 \nL 172.055118 214.756364 \nL 172.114252 210.39994 \nL 172.173386 214.211811 \nL 172.23252 213.667258 \nL 172.291654 200.053434 \nL 172.409923 214.211811 \nL 172.469057 214.211811 \nL 172.528191 214.756364 \nL 172.587325 210.944493 \nL 172.646459 213.122705 \nL 172.764728 214.756364 \nL 172.823862 203.320751 \nL 172.882996 211.489046 \nL 172.94213 206.588069 \nL 173.001264 214.756364 \nL 173.060399 195.69701 \nL 173.119533 213.122705 \nL 173.178667 210.944493 \nL 173.237801 186.984162 \nL 173.35607 214.756364 \nL 173.415204 208.766281 \nL 173.474338 214.756364 \nL 173.533472 213.667258 \nL 173.592606 209.855387 \nL 173.65174 214.756364 \nL 173.710875 212.033599 \nL 173.829143 214.211811 \nL 173.888277 212.033599 \nL 173.947411 214.211811 \nL 174.006546 209.310834 \nL 174.06568 214.211811 \nL 174.124814 212.033599 \nL 174.183948 206.043516 \nL 174.302216 214.211811 \nL 174.361351 212.033599 \nL 174.420485 213.667258 \nL 174.479619 214.756364 \nL 174.538753 208.221728 \nL 174.597887 210.944493 \nL 174.716156 214.756364 \nL 174.77529 213.667258 \nL 174.834424 206.588069 \nL 174.893558 214.211811 \nL 174.952692 213.122705 \nL 175.011827 197.875222 \nL 175.130095 214.756364 \nL 175.189229 206.043516 \nL 175.248363 213.122705 \nL 175.307498 214.211811 \nL 175.366632 212.578152 \nL 175.544034 214.756364 \nL 175.721437 208.221728 \nL 175.780571 214.756364 \nL 175.839705 206.043516 \nL 175.898839 211.489046 \nL 176.076242 214.756364 \nL 176.135376 214.211811 \nL 176.312779 199.508881 \nL 176.371913 214.756364 \nL 176.431047 195.69701 \nL 176.490181 213.122705 \nL 176.549315 206.588069 \nL 176.60845 213.122705 \nL 176.667584 202.776198 \nL 176.726718 214.756364 \nL 176.785852 203.865304 \nL 176.844986 206.588069 \nL 176.904121 214.756364 \nL 176.963255 213.122705 \nL 177.022389 214.211811 \nL 177.081523 207.677175 \nL 177.140657 208.221728 \nL 177.199791 207.132622 \nL 177.258926 213.667258 \nL 177.31806 211.489046 \nL 177.377194 213.122705 \nL 177.436328 203.865304 \nL 177.495462 211.489046 \nL 177.554597 214.756364 \nL 177.613731 210.944493 \nL 177.672865 213.667258 \nL 177.731999 213.667258 \nL 177.850267 214.211811 \nL 177.909402 207.132622 \nL 177.968536 209.855387 \nL 178.086804 214.756364 \nL 178.145938 214.756364 \nL 178.205073 212.033599 \nL 178.264207 183.172292 \nL 178.323341 195.152457 \nL 178.382475 214.756364 \nL 178.441609 213.667258 \nL 178.500743 214.756364 \nL 178.559878 213.667258 \nL 178.619012 214.756364 \nL 178.678146 213.122705 \nL 178.73728 214.756364 \nL 178.796414 214.211811 \nL 178.914683 211.489046 \nL 179.032951 214.211811 \nL 179.092085 212.578152 \nL 179.210354 214.756364 \nL 179.269488 214.756364 \nL 179.328622 212.578152 \nL 179.387756 214.756364 \nL 179.44689 211.489046 \nL 179.506025 214.756364 \nL 179.565159 211.489046 \nL 179.624293 214.211811 \nL 179.683427 214.756364 \nL 179.742561 208.221728 \nL 179.86083 214.211811 \nL 180.038232 209.310834 \nL 180.097366 213.667258 \nL 180.156501 210.39994 \nL 180.274769 200.597986 \nL 180.333903 214.211811 \nL 180.393037 210.39994 \nL 180.452171 204.409857 \nL 180.511306 209.310834 \nL 180.57044 213.667258 \nL 180.629574 200.053434 \nL 180.806977 214.756364 \nL 180.866111 214.756364 \nL 180.984379 211.489046 \nL 181.043513 214.756364 \nL 181.102647 207.677175 \nL 181.161782 213.122705 \nL 181.220916 211.489046 \nL 181.28005 214.211811 \nL 181.339184 212.578152 \nL 181.398318 212.578152 \nL 181.457453 207.677175 \nL 181.516587 210.39994 \nL 181.575721 214.756364 \nL 181.634855 209.310834 \nL 181.693989 213.122705 \nL 181.812258 207.677175 \nL 181.871392 209.310834 \nL 181.98966 212.033599 \nL 182.048794 214.756364 \nL 182.107929 192.974245 \nL 182.167063 214.211811 \nL 182.226197 213.667258 \nL 182.285331 208.221728 \nL 182.344465 210.39994 \nL 182.403599 214.211811 \nL 182.462734 212.578152 \nL 182.521868 208.766281 \nL 182.640136 214.211811 \nL 182.69927 194.063351 \nL 182.758405 214.756364 \nL 182.817539 186.984162 \nL 182.876673 208.766281 \nL 182.994941 214.756364 \nL 183.054075 202.231645 \nL 183.11321 214.756364 \nL 183.172344 204.409857 \nL 183.231478 213.667258 \nL 183.290612 212.578152 \nL 183.468015 214.211811 \nL 183.527149 211.489046 \nL 183.704551 214.756364 \nL 183.763686 209.855387 \nL 183.82282 213.667258 \nL 183.941088 207.132622 \nL 184.000222 214.211811 \nL 184.059357 213.122705 \nL 184.118491 213.667258 \nL 184.177625 207.677175 \nL 184.236759 209.310834 \nL 184.295893 214.756364 \nL 184.355027 212.578152 \nL 184.414162 202.231645 \nL 184.53243 214.756364 \nL 184.591564 204.409857 \nL 184.650698 210.944493 \nL 184.709833 214.211811 \nL 184.768967 209.310834 \nL 184.828101 212.578152 \nL 184.887235 212.033599 \nL 184.946369 201.142539 \nL 185.005503 213.122705 \nL 185.064638 183.716844 \nL 185.182906 214.756364 \nL 185.24204 214.756364 \nL 185.301174 214.211811 \nL 185.419443 214.756364 \nL 185.478577 206.588069 \nL 185.537711 212.033599 \nL 185.655979 214.756364 \nL 185.715114 204.409857 \nL 185.833382 214.211811 \nL 185.95165 214.756364 \nL 186.010785 210.39994 \nL 186.069919 212.578152 \nL 186.129053 212.578152 \nL 186.188187 214.756364 \nL 186.247321 213.122705 \nL 186.306455 166.835702 \nL 186.424724 214.211811 \nL 186.483858 214.211811 \nL 186.542992 213.122705 \nL 186.602126 207.132622 \nL 186.661261 169.558467 \nL 186.720395 214.211811 \nL 186.779529 213.122705 \nL 186.956931 177.726762 \nL 187.016066 214.756364 \nL 187.0752 213.122705 \nL 187.193468 209.855387 \nL 187.311737 214.756364 \nL 187.370871 214.211811 \nL 187.430005 209.855387 \nL 187.489139 214.211811 \nL 187.548273 213.667258 \nL 187.607408 198.964328 \nL 187.666542 214.756364 \nL 187.725676 209.855387 \nL 187.78481 214.756364 \nL 187.843944 212.033599 \nL 187.903078 214.756364 \nL 187.962213 213.122705 \nL 188.198749 178.815868 \nL 188.317018 214.756364 \nL 188.49442 208.221728 \nL 188.553554 186.439609 \nL 188.612689 214.756364 \nL 188.671823 202.231645 \nL 188.849225 214.756364 \nL 188.90836 211.489046 \nL 188.967494 214.756364 \nL 189.026628 213.667258 \nL 189.085762 214.756364 \nL 189.144896 209.310834 \nL 189.20403 210.944493 \nL 189.263165 214.756364 \nL 189.322299 188.073268 \nL 189.381433 189.162374 \nL 189.499701 214.756364 \nL 189.677104 211.489046 \nL 189.736238 212.578152 \nL 189.795372 206.588069 \nL 189.913641 214.756364 \nL 189.972775 191.885139 \nL 190.031909 193.518798 \nL 190.150177 214.756364 \nL 190.209312 212.578152 \nL 190.268446 214.211811 \nL 190.32758 214.211811 \nL 190.386714 207.132622 \nL 190.504982 214.756364 \nL 190.623251 213.122705 \nL 190.682385 213.667258 \nL 190.741519 212.033599 \nL 190.800653 214.756364 \nL 190.859788 214.211811 \nL 190.918922 208.766281 \nL 191.03719 214.211811 \nL 191.096324 210.944493 \nL 191.155458 212.578152 \nL 191.214593 213.667258 \nL 191.273727 210.39994 \nL 191.332861 214.756364 \nL 191.391995 210.944493 \nL 191.451129 213.667258 \nL 191.510264 143.964478 \nL 191.628532 214.211811 \nL 191.687666 211.489046 \nL 191.805934 214.756364 \nL 191.865069 204.409857 \nL 191.924203 210.39994 \nL 192.042471 213.122705 \nL 192.101605 210.944493 \nL 192.16074 214.756364 \nL 192.219874 208.221728 \nL 192.279008 214.756364 \nL 192.338142 213.667258 \nL 192.397276 206.043516 \nL 192.45641 213.667258 \nL 192.515545 176.093103 \nL 192.633813 214.756364 \nL 192.752081 200.053434 \nL 192.811216 201.142539 \nL 192.87035 214.756364 \nL 192.929484 213.667258 \nL 192.988618 214.211811 \nL 193.047752 170.10302 \nL 193.106886 202.776198 \nL 193.225155 213.122705 \nL 193.284289 203.320751 \nL 193.402557 214.756364 \nL 193.461692 214.756364 \nL 193.520826 213.122705 \nL 193.57996 214.211811 \nL 193.639094 214.756364 \nL 193.698228 214.211811 \nL 193.757362 214.756364 \nL 193.875631 214.211811 \nL 193.934765 214.756364 \nL 193.993899 213.667258 \nL 194.053033 209.310834 \nL 194.112168 214.211811 \nL 194.230436 196.786116 \nL 194.28957 214.756364 \nL 194.348704 214.211811 \nL 194.407838 192.429692 \nL 194.466973 213.667258 \nL 194.526107 197.875222 \nL 194.644375 214.756364 \nL 194.703509 214.211811 \nL 194.762644 165.202044 \nL 194.880912 214.756364 \nL 194.99918 204.409857 \nL 195.176583 214.211811 \nL 195.235717 214.756364 \nL 195.353985 210.39994 \nL 195.472254 213.667258 \nL 195.531388 213.122705 \nL 195.649656 209.855387 \nL 195.70879 213.667258 \nL 195.767925 182.627739 \nL 195.886193 214.756364 \nL 195.945327 212.033599 \nL 196.004461 214.211811 \nL 196.063596 213.667258 \nL 196.12273 214.756364 \nL 196.181864 212.578152 \nL 196.240998 214.756364 \nL 196.300132 202.231645 \nL 196.359266 214.756364 \nL 196.418401 214.211811 \nL 196.477535 214.756364 \nL 196.536669 213.122705 \nL 196.654937 214.756364 \nL 196.714072 211.489046 \nL 196.773206 214.211811 \nL 196.83234 213.667258 \nL 196.891474 200.053434 \nL 197.009742 214.756364 \nL 197.068877 214.756364 \nL 197.187145 214.211811 \nL 197.305413 214.756364 \nL 197.364548 212.033599 \nL 197.482816 214.756364 \nL 197.54195 213.667258 \nL 197.601084 214.756364 \nL 197.660218 214.211811 \nL 197.778487 209.855387 \nL 197.896755 214.756364 \nL 197.955889 213.667258 \nL 198.074158 214.756364 \nL 198.133292 208.221728 \nL 198.192426 212.033599 \nL 198.25156 213.122705 \nL 198.310695 208.766281 \nL 198.428963 214.756364 \nL 198.547231 213.667258 \nL 198.606365 209.310834 \nL 198.6655 214.756364 \nL 198.724634 209.855387 \nL 198.783768 213.667258 \nL 198.842902 214.756364 \nL 198.902036 203.865304 \nL 198.961171 212.033599 \nL 199.020305 207.677175 \nL 199.138573 214.756364 \nL 199.197707 210.944493 \nL 199.315976 214.756364 \nL 199.434244 212.033599 \nL 199.493378 213.667258 \nL 199.552512 206.588069 \nL 199.670781 214.756364 \nL 199.729915 214.211811 \nL 199.848183 214.756364 \nL 199.907317 213.122705 \nL 199.966452 214.756364 \nL 200.08472 204.409857 \nL 200.202988 213.667258 \nL 200.262123 210.944493 \nL 200.321257 214.211811 \nL 200.380391 209.310834 \nL 200.439525 214.756364 \nL 200.498659 213.122705 \nL 200.557793 212.033599 \nL 200.676062 214.756364 \nL 200.735196 213.667258 \nL 200.853464 214.756364 \nL 200.912599 214.756364 \nL 201.030867 212.033599 \nL 201.090001 214.211811 \nL 201.149135 210.944493 \nL 201.267404 214.756364 \nL 201.326538 214.211811 \nL 201.444806 197.330669 \nL 201.563075 214.211811 \nL 201.622209 212.578152 \nL 201.681343 210.39994 \nL 201.740477 214.211811 \nL 201.799611 206.588069 \nL 201.858745 213.122705 \nL 201.91788 214.756364 \nL 201.977014 211.489046 \nL 202.036148 214.211811 \nL 202.154416 214.756364 \nL 202.213551 213.122705 \nL 202.272685 214.756364 \nL 202.331819 214.211811 \nL 202.509221 209.855387 \nL 202.568356 214.756364 \nL 202.62749 213.667258 \nL 202.686624 214.211811 \nL 202.745758 196.786116 \nL 202.804892 206.043516 \nL 202.923161 214.211811 \nL 203.100563 183.716844 \nL 203.218832 214.756364 \nL 203.277966 214.756364 \nL 203.3371 212.578152 \nL 203.396234 213.122705 \nL 203.455368 212.578152 \nL 203.514503 201.142539 \nL 203.573637 213.667258 \nL 203.632771 212.578152 \nL 203.751039 206.588069 \nL 203.869308 213.667258 \nL 203.928442 209.855387 \nL 203.987576 213.667258 \nL 204.04671 201.687092 \nL 204.105844 214.211811 \nL 204.164979 213.667258 \nL 204.224113 213.667258 \nL 204.283247 201.687092 \nL 204.401515 214.756364 \nL 204.519784 200.597986 \nL 204.697186 214.756364 \nL 204.75632 212.033599 \nL 204.815455 214.756364 \nL 204.874589 213.667258 \nL 204.933723 211.489046 \nL 205.051991 214.756364 \nL 205.17026 210.944493 \nL 205.229394 214.756364 \nL 205.288528 213.667258 \nL 205.347662 213.122705 \nL 205.465931 214.756364 \nL 205.584199 213.122705 \nL 205.643333 17.628189 \nL 205.702467 214.211811 \nL 205.761601 213.122705 \nL 205.820736 213.122705 \nL 205.87987 212.578152 \nL 205.939004 213.122705 \nL 206.057272 202.776198 \nL 206.116407 203.865304 \nL 206.234675 214.756364 \nL 206.293809 209.855387 \nL 206.352943 213.667258 \nL 206.412077 212.033599 \nL 206.530346 214.756364 \nL 206.58948 205.498963 \nL 206.648614 211.489046 \nL 206.707748 210.944493 \nL 206.826017 214.211811 \nL 206.944285 210.39994 \nL 207.003419 212.578152 \nL 207.062553 214.211811 \nL 207.121688 213.667258 \nL 207.180822 196.241563 \nL 207.239956 207.132622 \nL 207.29909 214.756364 \nL 207.358224 205.498963 \nL 207.417359 214.211811 \nL 207.476493 213.667258 \nL 207.535627 208.221728 \nL 207.594761 214.211811 \nL 207.653895 209.310834 \nL 207.713029 214.756364 \nL 207.772164 213.122705 \nL 207.831298 211.489046 \nL 207.890432 212.578152 \nL 207.949566 201.687092 \nL 208.067835 213.667258 \nL 208.126969 209.855387 \nL 208.186103 187.528715 \nL 208.304371 213.667258 \nL 208.363505 213.667258 \nL 208.42264 188.073268 \nL 208.540908 211.489046 \nL 208.600042 210.944493 \nL 208.659176 214.211811 \nL 208.718311 213.667258 \nL 208.836579 212.033599 \nL 208.895713 214.756364 \nL 208.954847 210.944493 \nL 209.013982 214.756364 \nL 209.073116 212.578152 \nL 209.13225 208.221728 \nL 209.191384 214.211811 \nL 209.250518 209.310834 \nL 209.309652 213.122705 \nL 209.368787 211.489046 \nL 209.427921 201.687092 \nL 209.487055 208.766281 \nL 209.546189 202.776198 \nL 209.605323 213.667258 \nL 209.664458 165.746597 \nL 209.782726 211.489046 \nL 209.960128 214.756364 \nL 210.019263 213.122705 \nL 210.078397 213.667258 \nL 210.137531 196.241563 \nL 210.255799 214.756364 \nL 210.314934 214.756364 \nL 210.374068 210.39994 \nL 210.433202 214.756364 \nL 210.492336 214.211811 \nL 210.55147 214.211811 \nL 210.610604 197.875222 \nL 210.669739 214.211811 \nL 210.728873 209.855387 \nL 210.788007 214.756364 \nL 210.847141 206.588069 \nL 210.906275 209.855387 \nL 211.024544 213.122705 \nL 211.083678 208.221728 \nL 211.142812 212.033599 \nL 211.201946 214.756364 \nL 211.320215 201.142539 \nL 211.379349 209.310834 \nL 211.438483 214.211811 \nL 211.497617 203.320751 \nL 211.615886 214.756364 \nL 211.67502 200.053434 \nL 211.734154 212.578152 \nL 211.793288 208.221728 \nL 211.970691 214.756364 \nL 212.029825 214.756364 \nL 212.088959 214.211811 \nL 212.148093 212.578152 \nL 212.266362 214.756364 \nL 212.325496 205.498963 \nL 212.38463 212.033599 \nL 212.443764 162.479279 \nL 212.502898 202.231645 \nL 212.680301 214.756364 \nL 212.739435 214.211811 \nL 212.798569 214.756364 \nL 212.857703 204.409857 \nL 212.975972 214.756364 \nL 213.035106 213.122705 \nL 213.09424 214.756364 \nL 213.153374 212.033599 \nL 213.212508 214.756364 \nL 213.271643 210.39994 \nL 213.330777 214.211811 \nL 213.449045 213.667258 \nL 213.508179 214.756364 \nL 213.685582 197.330669 \nL 213.862984 214.756364 \nL 213.922119 212.578152 \nL 213.981253 214.211811 \nL 214.099521 214.756364 \nL 214.158655 214.756364 \nL 214.21779 171.192126 \nL 214.276924 214.756364 \nL 214.336058 213.667258 \nL 214.395192 214.211811 \nL 214.454326 213.667258 \nL 214.51346 214.756364 \nL 214.572595 210.39994 \nL 214.631729 211.489046 \nL 214.690863 211.489046 \nL 214.749997 213.667258 \nL 214.809131 201.687092 \nL 214.868266 214.756364 \nL 214.9274 211.489046 \nL 215.045668 214.756364 \nL 215.104802 210.944493 \nL 215.223071 193.518798 \nL 215.282205 214.756364 \nL 215.341339 213.122705 \nL 215.459607 214.756364 \nL 215.577876 212.033599 \nL 215.696144 213.667258 \nL 215.755278 188.073268 \nL 215.814412 213.122705 \nL 215.873547 212.033599 \nL 215.932681 208.766281 \nL 215.991815 182.627739 \nL 216.050949 214.211811 \nL 216.110083 212.578152 \nL 216.169218 196.241563 \nL 216.228352 214.756364 \nL 216.287486 213.122705 \nL 216.34662 214.756364 \nL 216.405754 213.122705 \nL 216.524023 214.756364 \nL 216.583157 214.756364 \nL 216.642291 214.211811 \nL 216.701425 214.756364 \nL 216.760559 207.677175 \nL 216.819694 214.756364 \nL 216.878828 212.578152 \nL 216.937962 209.855387 \nL 216.997096 214.211811 \nL 217.05623 212.033599 \nL 217.115364 210.39994 \nL 217.292767 214.756364 \nL 217.351901 206.043516 \nL 217.411035 214.756364 \nL 217.47017 213.122705 \nL 217.529304 212.578152 \nL 217.588438 210.944493 \nL 217.647572 214.211811 \nL 217.706706 212.578152 \nL 217.884109 214.756364 \nL 217.943243 212.033599 \nL 218.002377 214.756364 \nL 218.061511 210.944493 \nL 218.120646 212.033599 \nL 218.17978 187.528715 \nL 218.357182 214.211811 \nL 218.416316 211.489046 \nL 218.534585 214.756364 \nL 218.652853 214.756364 \nL 218.711987 210.944493 \nL 218.771122 214.756364 \nL 218.830256 208.221728 \nL 218.88939 213.667258 \nL 219.007658 214.756364 \nL 219.066792 211.489046 \nL 219.125927 214.756364 \nL 219.185061 214.211811 \nL 219.244195 169.558467 \nL 219.303329 203.320751 \nL 219.362463 213.122705 \nL 219.421598 209.310834 \nL 219.539866 214.756364 \nL 219.658134 214.756364 \nL 219.717268 210.39994 \nL 219.776403 214.756364 \nL 219.835537 209.855387 \nL 219.894671 213.667258 \nL 219.953805 214.756364 \nL 220.012939 213.667258 \nL 220.072074 209.855387 \nL 220.190342 214.756364 \nL 220.30861 203.320751 \nL 220.426879 214.756364 \nL 220.486013 214.211811 \nL 220.545147 205.498963 \nL 220.604281 209.855387 \nL 220.663415 128.172442 \nL 220.72255 212.578152 \nL 220.781684 186.984162 \nL 220.899952 214.211811 \nL 220.959086 208.766281 \nL 221.018221 214.756364 \nL 221.077355 213.667258 \nL 221.136489 185.350503 \nL 221.254757 211.489046 \nL 221.313891 213.122705 \nL 221.373026 171.736679 \nL 221.43216 213.122705 \nL 221.491294 212.033599 \nL 221.550428 214.211811 \nL 221.609562 209.310834 \nL 221.668697 214.756364 \nL 221.727831 213.122705 \nL 221.786965 212.033599 \nL 221.964367 214.756364 \nL 222.023502 213.122705 \nL 222.082636 213.667258 \nL 222.14177 213.667258 \nL 222.200904 211.489046 \nL 222.319173 214.756364 \nL 222.555709 212.578152 \nL 222.733112 214.756364 \nL 222.792246 209.310834 \nL 222.85138 210.944493 \nL 223.087917 214.756364 \nL 223.147051 204.95441 \nL 223.206185 208.221728 \nL 223.265319 214.756364 \nL 223.324454 213.122705 \nL 223.383588 213.667258 \nL 223.442722 172.281232 \nL 223.56099 214.756364 \nL 223.620125 214.756364 \nL 223.679259 213.667258 \nL 223.738393 214.756364 \nL 223.797527 214.211811 \nL 223.856661 202.776198 \nL 223.915795 210.39994 \nL 224.093198 214.756364 \nL 224.152332 214.211811 \nL 224.211466 203.320751 \nL 224.270601 213.667258 \nL 224.329735 210.39994 \nL 224.448003 214.211811 \nL 224.507137 210.944493 \nL 224.566271 211.489046 \nL 224.625406 212.033599 \nL 224.743674 213.667258 \nL 224.802808 205.498963 \nL 224.921077 214.211811 \nL 224.980211 213.667258 \nL 225.098479 214.756364 \nL 225.157613 214.756364 \nL 225.335016 205.498963 \nL 225.453284 214.756364 \nL 225.512418 212.578152 \nL 225.571553 213.122705 \nL 225.630687 214.756364 \nL 225.689821 210.944493 \nL 225.748955 214.756364 \nL 225.808089 213.122705 \nL 225.867223 199.508881 \nL 225.985492 214.756364 \nL 226.044626 199.508881 \nL 226.10376 214.756364 \nL 226.162894 210.39994 \nL 226.222029 214.756364 \nL 226.281163 213.122705 \nL 226.399431 207.132622 \nL 226.458565 214.756364 \nL 226.517699 171.736679 \nL 226.576834 214.756364 \nL 226.635968 209.310834 \nL 226.695102 212.578152 \nL 226.754236 207.132622 \nL 226.81337 214.756364 \nL 226.872505 211.489046 \nL 226.931639 208.766281 \nL 226.990773 199.508881 \nL 227.109041 214.756364 \nL 227.168175 213.122705 \nL 227.22731 214.756364 \nL 227.345578 185.350503 \nL 227.404712 211.489046 \nL 227.463846 210.944493 \nL 227.641249 214.756364 \nL 227.700383 205.498963 \nL 227.759517 214.756364 \nL 227.818651 213.122705 \nL 227.877786 212.578152 \nL 227.93692 214.211811 \nL 227.996054 210.39994 \nL 228.055188 213.667258 \nL 228.114322 213.667258 \nL 228.173457 214.756364 \nL 228.232591 214.211811 \nL 228.291725 214.211811 \nL 228.350859 197.330669 \nL 228.409993 211.489046 \nL 228.469127 213.122705 \nL 228.587396 208.766281 \nL 228.705664 214.756364 \nL 228.764798 206.588069 \nL 228.823933 213.667258 \nL 228.883067 212.578152 \nL 228.942201 214.756364 \nL 229.001335 197.875222 \nL 229.060469 210.944493 \nL 229.178738 213.667258 \nL 229.237872 204.95441 \nL 229.35614 214.756364 \nL 229.415274 213.667258 \nL 229.474409 204.409857 \nL 229.533543 208.766281 \nL 229.651811 214.756364 \nL 229.710945 210.944493 \nL 229.770079 214.756364 \nL 229.829214 212.033599 \nL 229.947482 214.756364 \nL 230.006616 213.667258 \nL 230.06575 214.756364 \nL 230.124885 210.39994 \nL 230.184019 211.489046 \nL 230.243153 214.211811 \nL 230.361421 211.489046 \nL 230.420555 214.756364 \nL 230.47969 208.766281 \nL 230.597958 214.756364 \nL 230.657092 213.667258 \nL 230.716226 214.211811 \nL 230.775361 214.756364 \nL 230.834495 213.667258 \nL 230.893629 214.756364 \nL 230.952763 214.211811 \nL 231.011897 205.498963 \nL 231.071032 214.211811 \nL 231.130166 211.489046 \nL 231.1893 214.756364 \nL 231.248434 214.211811 \nL 231.366702 214.211811 \nL 231.425837 209.855387 \nL 231.544105 214.756364 \nL 231.603239 213.667258 \nL 231.721508 140.69716 \nL 231.839776 214.211811 \nL 231.89891 212.033599 \nL 232.017178 214.756364 \nL 232.135447 207.677175 \nL 232.194581 214.756364 \nL 232.253715 204.409857 \nL 232.312849 214.211811 \nL 232.371984 213.122705 \nL 232.431118 212.578152 \nL 232.490252 214.756364 \nL 232.549386 213.667258 \nL 232.60852 212.033599 \nL 232.785923 214.211811 \nL 232.845057 211.489046 \nL 232.963325 214.756364 \nL 233.02246 214.211811 \nL 233.081594 212.033599 \nL 233.140728 214.756364 \nL 233.31813 196.786116 \nL 233.436399 214.756364 \nL 233.495533 214.756364 \nL 233.613801 204.409857 \nL 233.791204 214.756364 \nL 233.850338 209.855387 \nL 233.909472 214.756364 \nL 233.968606 210.944493 \nL 234.086875 198.419775 \nL 234.205143 214.756364 \nL 234.264277 208.221728 \nL 234.323412 214.211811 \nL 234.382546 213.122705 \nL 234.619082 214.756364 \nL 234.678217 214.211811 \nL 234.796485 214.756364 \nL 234.855619 212.578152 \nL 234.914753 213.122705 \nL 235.033022 214.756364 \nL 235.092156 214.756364 \nL 235.15129 213.667258 \nL 235.210424 214.756364 \nL 235.328693 204.409857 \nL 235.387827 214.756364 \nL 235.446961 205.498963 \nL 235.506095 210.39994 \nL 235.565229 214.756364 \nL 235.624364 210.944493 \nL 235.742632 214.756364 \nL 235.920034 209.855387 \nL 236.097437 214.756364 \nL 236.156571 213.667258 \nL 236.215705 214.756364 \nL 236.27484 214.211811 \nL 236.333974 212.578152 \nL 236.393108 214.211811 \nL 236.452242 210.39994 \nL 236.511376 213.122705 \nL 236.688779 213.122705 \nL 236.807047 214.211811 \nL 236.925316 213.122705 \nL 237.043584 214.756364 \nL 237.161852 208.766281 \nL 237.280121 214.211811 \nL 237.339255 212.033599 \nL 237.398389 214.756364 \nL 237.457523 214.211811 \nL 237.516657 211.489046 \nL 237.634926 214.756364 \nL 237.69406 191.340586 \nL 237.753194 211.489046 \nL 237.871462 214.756364 \nL 237.930597 214.211811 \nL 237.989731 214.756364 \nL 238.107999 213.667258 \nL 238.226268 207.132622 \nL 238.40367 214.756364 \nL 238.581073 208.766281 \nL 238.699341 214.211811 \nL 238.758475 213.122705 \nL 238.876744 214.756364 \nL 239.054146 211.489046 \nL 239.11328 198.964328 \nL 239.290683 214.756364 \nL 239.468085 212.033599 \nL 239.586354 214.756364 \nL 239.645488 204.95441 \nL 239.704622 209.855387 \nL 239.82289 214.211811 \nL 239.941159 211.489046 \nL 240.000293 212.033599 \nL 240.118561 214.756364 \nL 240.177696 214.756364 \nL 240.23683 203.865304 \nL 240.295964 213.667258 \nL 240.355098 212.578152 \nL 240.414232 212.578152 \nL 240.532501 214.211811 \nL 240.650769 213.667258 \nL 240.709903 209.855387 \nL 240.769037 188.617821 \nL 240.887306 214.211811 \nL 240.94644 214.211811 \nL 241.005574 212.578152 \nL 241.064708 207.132622 \nL 241.123842 214.756364 \nL 241.182977 214.211811 \nL 241.360379 207.132622 \nL 241.419513 206.588069 \nL 241.537782 187.528715 \nL 241.65605 214.756364 \nL 241.833453 214.756364 \nL 241.892587 210.944493 \nL 241.951721 212.578152 \nL 242.010855 214.756364 \nL 242.069989 214.211811 \nL 242.247392 210.39994 \nL 242.36566 214.211811 \nL 242.424795 213.122705 \nL 242.543063 214.211811 \nL 242.661331 213.667258 \nL 242.720465 214.211811 \nL 242.838734 201.142539 \nL 242.897868 213.667258 \nL 242.957002 190.796033 \nL 243.016136 212.033599 \nL 243.075271 209.855387 \nL 243.134405 213.122705 \nL 243.193539 212.578152 \nL 243.252673 204.95441 \nL 243.370941 213.667258 \nL 243.48921 197.875222 \nL 243.607478 214.756364 \nL 243.666612 209.855387 \nL 243.725747 213.667258 \nL 243.784881 212.033599 \nL 243.844015 214.756364 \nL 243.903149 213.122705 \nL 243.962283 213.122705 \nL 244.021417 214.756364 \nL 244.080552 213.667258 \nL 244.139686 206.588069 \nL 244.19882 210.944493 \nL 244.257954 214.756364 \nL 244.317088 214.211811 \nL 244.435357 194.607904 \nL 244.553625 214.756364 \nL 244.671893 214.756364 \nL 244.731028 214.211811 \nL 244.790162 212.578152 \nL 244.849296 214.211811 \nL 244.90843 211.489046 \nL 244.967564 214.211811 \nL 245.026699 213.667258 \nL 245.085833 212.033599 \nL 245.204101 214.211811 \nL 245.263235 212.578152 \nL 245.322369 207.677175 \nL 245.381504 214.756364 \nL 245.440638 214.211811 \nL 245.499772 184.261397 \nL 245.61804 214.756364 \nL 245.677175 214.211811 \nL 245.736309 214.756364 \nL 245.854577 214.211811 \nL 245.913711 198.964328 \nL 245.972845 214.756364 \nL 246.03198 207.677175 \nL 246.091114 214.211811 \nL 246.150248 194.063351 \nL 246.209382 214.756364 \nL 246.268516 214.211811 \nL 246.386785 214.211811 \nL 246.505053 214.756364 \nL 246.682456 210.944493 \nL 246.74159 214.756364 \nL 246.800724 213.122705 \nL 246.859858 212.578152 \nL 246.978127 213.667258 \nL 247.096395 210.39994 \nL 247.214663 213.667258 \nL 247.273797 213.667258 \nL 247.332932 210.944493 \nL 247.392066 214.756364 \nL 247.4512 214.211811 \nL 247.510334 214.756364 \nL 247.569468 209.855387 \nL 247.628603 212.033599 \nL 247.687737 210.39994 \nL 247.806005 214.756364 \nL 247.865139 213.667258 \nL 247.924273 194.607904 \nL 247.983408 214.211811 \nL 248.042542 210.39994 \nL 248.16081 213.667258 \nL 248.279079 208.221728 \nL 248.397347 214.756364 \nL 248.456481 210.39994 \nL 248.515615 214.211811 \nL 248.574749 212.033599 \nL 248.633884 214.756364 \nL 248.693018 214.211811 \nL 248.752152 214.756364 \nL 248.929555 210.944493 \nL 248.988689 207.677175 \nL 249.047823 214.756364 \nL 249.106957 213.667258 \nL 249.166091 200.597986 \nL 249.343494 214.756364 \nL 249.402628 214.756364 \nL 249.520896 200.053434 \nL 249.639165 214.756364 \nL 249.698299 214.756364 \nL 249.757433 213.667258 \nL 249.816567 214.756364 \nL 249.875701 210.944493 \nL 249.99397 214.756364 \nL 250.053104 214.756364 \nL 250.112238 205.498963 \nL 250.171372 212.033599 \nL 250.289641 214.211811 \nL 250.348775 212.033599 \nL 250.407909 214.756364 \nL 250.467043 213.667258 \nL 250.526177 204.409857 \nL 250.585312 212.578152 \nL 250.644446 206.588069 \nL 250.762714 214.211811 \nL 250.821848 213.122705 \nL 250.999251 214.756364 \nL 251.058385 213.667258 \nL 251.117519 208.766281 \nL 251.176653 210.944493 \nL 251.294922 212.033599 \nL 251.472324 196.786116 \nL 251.649727 214.756364 \nL 251.708861 208.766281 \nL 251.767995 190.25148 \nL 251.827129 214.756364 \nL 251.886264 214.211811 \nL 251.945398 214.211811 \nL 252.063666 197.330669 \nL 252.1228 214.756364 \nL 252.181935 209.855387 \nL 252.300203 209.310834 \nL 252.418471 212.033599 \nL 252.477606 212.033599 \nL 252.53674 214.756364 \nL 252.595874 212.578152 \nL 252.655008 196.241563 \nL 252.714142 203.865304 \nL 252.773276 214.211811 \nL 252.832411 209.310834 \nL 252.891545 214.756364 \nL 252.950679 192.429692 \nL 253.009813 214.756364 \nL 253.068947 209.855387 \nL 253.187216 214.756364 \nL 253.305484 214.756364 \nL 253.423752 206.043516 \nL 253.482887 214.211811 \nL 253.542021 206.588069 \nL 253.601155 209.855387 \nL 253.660289 214.756364 \nL 253.719423 213.667258 \nL 253.778558 213.122705 \nL 253.837692 214.756364 \nL 253.896826 212.033599 \nL 253.95596 202.231645 \nL 254.074228 214.756364 \nL 254.133363 213.667258 \nL 254.192497 202.231645 \nL 254.251631 212.033599 \nL 254.310765 205.498963 \nL 254.429034 214.211811 \nL 254.488168 198.964328 \nL 254.547302 214.756364 \nL 254.606436 206.588069 \nL 254.66557 182.083186 \nL 254.842973 214.756364 \nL 254.902107 214.756364 \nL 255.020375 213.667258 \nL 255.07951 214.211811 \nL 255.138644 211.489046 \nL 255.197778 212.578152 \nL 255.256912 214.756364 \nL 255.316046 214.211811 \nL 255.37518 214.211811 \nL 255.434315 212.578152 \nL 255.493449 201.687092 \nL 255.611717 214.756364 \nL 255.670851 212.033599 \nL 255.729986 214.756364 \nL 255.78912 213.667258 \nL 255.848254 211.489046 \nL 255.907388 214.211811 \nL 255.966522 212.033599 \nL 256.025656 208.221728 \nL 256.084791 214.756364 \nL 256.143925 212.578152 \nL 256.203059 188.617821 \nL 256.262193 214.756364 \nL 256.321327 210.39994 \nL 256.439596 214.756364 \nL 256.49873 213.667258 \nL 256.557864 214.756364 \nL 256.616998 214.211811 \nL 256.735267 210.944493 \nL 256.794401 212.033599 \nL 256.853535 214.756364 \nL 256.912669 206.588069 \nL 256.971803 213.667258 \nL 257.090072 197.330669 \nL 257.20834 214.756364 \nL 257.267474 210.39994 \nL 257.326608 185.350503 \nL 257.444877 212.033599 \nL 257.504011 214.211811 \nL 257.563145 212.578152 \nL 257.622279 213.122705 \nL 257.681414 214.756364 \nL 257.740548 212.033599 \nL 257.799682 213.122705 \nL 257.858816 214.756364 \nL 257.91795 204.409857 \nL 257.977084 211.489046 \nL 258.036219 123.271465 \nL 258.095353 213.122705 \nL 258.154487 210.944493 \nL 258.213621 213.667258 \nL 258.33189 207.132622 \nL 258.391024 214.756364 \nL 258.450158 190.796033 \nL 258.509292 213.122705 \nL 258.568426 196.786116 \nL 258.62756 201.142539 \nL 258.686695 214.211811 \nL 258.745829 213.667258 \nL 258.804963 214.756364 \nL 258.864097 214.211811 \nL 258.923231 202.776198 \nL 259.100634 214.756364 \nL 259.218902 202.776198 \nL 259.278036 208.221728 \nL 259.337171 200.053434 \nL 259.514573 214.211811 \nL 259.573707 210.39994 \nL 259.632842 214.756364 \nL 259.691976 201.687092 \nL 259.75111 214.211811 \nL 259.810244 210.944493 \nL 259.869378 210.944493 \nL 259.928512 214.756364 \nL 259.987647 212.578152 \nL 260.046781 213.667258 \nL 260.105915 211.489046 \nL 260.224183 214.756364 \nL 260.283318 213.667258 \nL 260.342452 208.221728 \nL 260.401586 212.033599 \nL 260.46072 212.578152 \nL 260.519854 214.211811 \nL 260.578988 195.69701 \nL 260.638123 214.756364 \nL 260.697257 208.766281 \nL 260.756391 212.578152 \nL 260.815525 208.766281 \nL 260.874659 184.80595 \nL 260.933794 214.756364 \nL 260.992928 213.667258 \nL 261.111196 180.99408 \nL 261.17033 214.756364 \nL 261.229464 203.320751 \nL 261.288599 194.607904 \nL 261.347733 213.667258 \nL 261.406867 207.677175 \nL 261.466001 214.756364 \nL 261.525135 214.211811 \nL 261.643404 214.756364 \nL 261.702538 208.766281 \nL 261.761672 212.578152 \nL 262.057343 214.756364 \nL 262.175611 213.667258 \nL 262.29388 214.756364 \nL 262.353014 214.756364 \nL 262.412148 213.667258 \nL 262.471282 206.588069 \nL 262.530416 209.855387 \nL 262.589551 214.756364 \nL 262.648685 213.122705 \nL 262.707819 212.578152 \nL 262.766953 214.756364 \nL 262.826087 213.122705 \nL 262.885222 210.944493 \nL 262.944356 214.756364 \nL 263.00349 214.211811 \nL 263.062624 213.122705 \nL 263.180892 172.281232 \nL 263.299161 214.756364 \nL 263.476563 211.489046 \nL 263.535698 201.142539 \nL 263.594832 214.211811 \nL 263.653966 196.241563 \nL 263.7131 214.756364 \nL 263.772234 209.855387 \nL 263.890503 214.211811 \nL 263.949637 213.122705 \nL 264.008771 214.756364 \nL 264.067905 206.588069 \nL 264.186174 214.756364 \nL 264.245308 214.211811 \nL 264.304442 208.766281 \nL 264.42271 214.756364 \nL 264.481845 214.211811 \nL 264.540979 210.944493 \nL 264.600113 212.578152 \nL 264.659247 214.756364 \nL 264.718381 214.211811 \nL 264.83665 214.756364 \nL 264.895784 214.756364 \nL 265.014052 213.667258 \nL 265.073186 214.756364 \nL 265.132321 213.122705 \nL 265.250589 214.756364 \nL 265.309723 214.756364 \nL 265.368857 211.489046 \nL 265.427991 213.667258 \nL 265.54626 210.944493 \nL 265.664528 214.756364 \nL 265.782797 211.489046 \nL 266.019333 214.756364 \nL 266.137602 208.221728 \nL 266.25587 214.211811 \nL 266.315004 196.241563 \nL 266.374138 209.310834 \nL 266.492407 214.756364 \nL 266.669809 199.508881 \nL 266.788078 214.756364 \nL 266.847212 214.756364 \nL 266.906346 212.033599 \nL 266.96548 214.211811 \nL 267.024614 213.667258 \nL 267.083749 214.756364 \nL 267.142883 213.122705 \nL 267.202017 204.409857 \nL 267.320285 214.756364 \nL 267.379419 211.489046 \nL 267.438554 214.211811 \nL 267.497688 184.80595 \nL 267.556822 214.756364 \nL 267.615956 214.211811 \nL 267.852493 196.786116 \nL 267.911627 214.756364 \nL 267.970761 201.687092 \nL 268.08903 214.756364 \nL 268.325566 214.756364 \nL 268.443835 209.855387 \nL 268.621237 214.756364 \nL 268.680371 208.766281 \nL 268.739506 213.667258 \nL 268.79864 214.756364 \nL 268.857774 190.25148 \nL 268.976042 214.756364 \nL 269.035177 214.756364 \nL 269.094311 211.489046 \nL 269.153445 213.667258 \nL 269.212579 213.667258 \nL 269.330847 214.756364 \nL 269.389982 214.211811 \nL 269.449116 198.964328 \nL 269.50825 213.122705 \nL 269.567384 212.033599 \nL 269.626518 214.756364 \nL 269.685653 209.855387 \nL 269.863055 214.756364 \nL 269.922189 213.667258 \nL 269.981323 214.756364 \nL 270.040458 213.667258 \nL 270.099592 214.211811 \nL 270.158726 214.756364 \nL 270.276994 208.221728 \nL 270.395263 214.211811 \nL 270.454397 212.033599 \nL 270.513531 212.578152 \nL 270.631799 214.756364 \nL 270.750068 213.122705 \nL 270.809202 202.776198 \nL 270.868336 207.677175 \nL 270.92747 214.756364 \nL 270.986605 212.033599 \nL 271.045739 196.241563 \nL 271.104873 213.667258 \nL 271.164007 204.409857 \nL 271.282275 214.756364 \nL 271.34141 209.310834 \nL 271.400544 183.172292 \nL 271.459678 214.756364 \nL 271.518812 210.944493 \nL 271.577946 209.855387 \nL 271.637081 200.053434 \nL 271.755349 214.211811 \nL 271.814483 211.489046 \nL 271.873617 214.756364 \nL 271.932751 189.162374 \nL 271.991886 210.39994 \nL 272.05102 207.132622 \nL 272.110154 214.211811 \nL 272.169288 212.578152 \nL 272.228422 214.211811 \nL 272.287557 210.944493 \nL 272.346691 212.578152 \nL 272.464959 214.211811 \nL 272.524093 212.578152 \nL 272.583227 198.419775 \nL 272.642362 214.756364 \nL 272.701496 182.083186 \nL 272.76063 213.667258 \nL 272.819764 212.578152 \nL 272.878898 214.211811 \nL 272.938033 183.172292 \nL 273.056301 213.122705 \nL 273.174569 214.756364 \nL 273.292838 209.310834 \nL 273.351972 214.756364 \nL 273.411106 211.489046 \nL 273.529374 201.687092 \nL 273.647643 214.756364 \nL 273.765911 214.756364 \nL 273.825045 203.320751 \nL 273.884179 213.667258 \nL 273.943314 209.855387 \nL 274.002448 203.865304 \nL 274.120716 214.756364 \nL 274.17985 209.310834 \nL 274.298119 214.756364 \nL 274.357253 204.409857 \nL 274.416387 214.756364 \nL 274.475521 208.766281 \nL 274.534656 214.756364 \nL 274.59379 214.211811 \nL 274.652924 214.756364 \nL 274.712058 214.211811 \nL 274.771192 214.756364 \nL 274.830326 211.489046 \nL 274.889461 213.667258 \nL 274.948595 214.756364 \nL 275.007729 213.667258 \nL 275.066863 199.508881 \nL 275.185132 214.756364 \nL 275.3034 212.033599 \nL 275.421668 214.756364 \nL 275.480802 163.568385 \nL 275.599071 214.756364 \nL 275.658205 214.211811 \nL 275.776473 178.815868 \nL 275.894742 214.756364 \nL 275.953876 212.578152 \nL 276.072144 214.211811 \nL 276.131278 137.974395 \nL 276.249547 214.756364 \nL 276.426949 213.667258 \nL 276.486084 214.211811 \nL 276.545218 213.122705 \nL 276.604352 214.211811 \nL 276.72262 204.409857 \nL 276.781754 213.667258 \nL 276.840889 191.340586 \nL 276.900023 202.776198 \nL 276.959157 213.667258 \nL 277.018291 212.033599 \nL 277.077425 195.152457 \nL 277.13656 202.231645 \nL 277.313962 214.756364 \nL 277.373096 212.578152 \nL 277.43223 214.756364 \nL 277.491365 210.39994 \nL 277.550499 214.211811 \nL 277.609633 214.756364 \nL 277.668767 211.489046 \nL 277.787036 214.756364 \nL 277.905304 203.865304 \nL 278.023572 214.756364 \nL 278.082706 206.588069 \nL 278.141841 210.39994 \nL 278.260109 214.756364 \nL 278.378377 214.211811 \nL 278.55578 205.498963 \nL 278.674048 214.756364 \nL 278.792317 213.667258 \nL 278.910585 210.39994 \nL 278.969719 213.667258 \nL 279.028853 206.043516 \nL 279.147122 214.756364 \nL 279.324524 209.855387 \nL 279.442793 214.756364 \nL 279.501927 212.578152 \nL 279.561061 213.122705 \nL 279.620195 200.053434 \nL 279.679329 204.95441 \nL 279.738464 214.756364 \nL 279.797598 200.597986 \nL 279.856732 211.489046 \nL 279.915866 214.756364 \nL 279.975 213.122705 \nL 280.034134 214.211811 \nL 280.093269 213.667258 \nL 280.152403 203.320751 \nL 280.211537 214.756364 \nL 280.270671 195.152457 \nL 280.329805 214.211811 \nL 280.38894 196.786116 \nL 280.448074 203.865304 \nL 280.507208 214.756364 \nL 280.566342 209.855387 \nL 280.625476 214.756364 \nL 280.68461 213.667258 \nL 280.802879 214.756364 \nL 280.921147 212.578152 \nL 281.039416 214.756364 \nL 281.09855 195.152457 \nL 281.157684 212.033599 \nL 281.216818 208.766281 \nL 281.335086 214.756364 \nL 281.394221 210.39994 \nL 281.453355 213.667258 \nL 281.571623 214.756364 \nL 281.630757 214.756364 \nL 281.689892 202.231645 \nL 281.749026 214.756364 \nL 281.80816 213.667258 \nL 281.867294 214.756364 \nL 281.926428 213.667258 \nL 282.044697 207.677175 \nL 282.103831 214.756364 \nL 282.162965 210.944493 \nL 282.222099 209.855387 \nL 282.281233 195.152457 \nL 282.340368 204.409857 \nL 282.51777 213.667258 \nL 282.576904 213.667258 \nL 282.636038 214.756364 \nL 282.695173 205.498963 \nL 282.813441 214.756364 \nL 282.872575 214.211811 \nL 282.990844 214.756364 \nL 283.049978 214.756364 \nL 283.109112 212.578152 \nL 283.168246 214.756364 \nL 283.345649 207.132622 \nL 283.463917 214.756364 \nL 283.523051 210.944493 \nL 283.64132 214.756364 \nL 283.700454 208.221728 \nL 283.759588 210.944493 \nL 283.877856 214.756364 \nL 283.93699 210.39994 \nL 283.996125 214.756364 \nL 284.055259 210.39994 \nL 284.114393 213.122705 \nL 284.173527 213.667258 \nL 284.232661 194.063351 \nL 284.291796 214.756364 \nL 284.35093 214.211811 \nL 284.410064 213.122705 \nL 284.469198 214.756364 \nL 284.528332 170.647573 \nL 284.646601 214.211811 \nL 284.705735 209.310834 \nL 284.824003 214.756364 \nL 284.883137 186.984162 \nL 284.942272 214.211811 \nL 285.001406 213.667258 \nL 285.119674 214.756364 \nL 285.178808 214.211811 \nL 285.356211 207.132622 \nL 285.415345 198.964328 \nL 285.474479 213.667258 \nL 285.533613 198.419775 \nL 285.592748 210.944493 \nL 285.711016 214.211811 \nL 285.77015 212.578152 \nL 285.829284 184.261397 \nL 285.888419 199.508881 \nL 286.006687 213.122705 \nL 286.065821 198.964328 \nL 286.124955 209.310834 \nL 286.184089 214.756364 \nL 286.243224 210.39994 \nL 286.420626 212.033599 \nL 286.47976 203.865304 \nL 286.538895 214.756364 \nL 286.598029 212.033599 \nL 286.716297 214.756364 \nL 286.775431 214.756364 \nL 286.834565 207.677175 \nL 286.952834 214.756364 \nL 287.011968 211.489046 \nL 287.071102 186.984162 \nL 287.130236 212.033599 \nL 287.189371 210.944493 \nL 287.307639 214.756364 \nL 287.425907 203.865304 \nL 287.485041 207.677175 \nL 287.544176 178.271315 \nL 287.60331 214.756364 \nL 287.662444 211.489046 \nL 287.721578 214.756364 \nL 287.780712 211.489046 \nL 287.839847 213.122705 \nL 287.958115 210.39994 \nL 288.076383 214.756364 \nL 288.135517 198.964328 \nL 288.194652 206.588069 \nL 288.253786 212.578152 \nL 288.31292 209.310834 \nL 288.372054 212.033599 \nL 288.431188 183.716844 \nL 288.490323 214.756364 \nL 288.549457 202.776198 \nL 288.608591 187.528715 \nL 288.726859 214.756364 \nL 288.785993 209.855387 \nL 288.963396 214.756364 \nL 289.02253 214.211811 \nL 289.140799 214.756364 \nL 289.199933 208.766281 \nL 289.259067 214.756364 \nL 289.318201 210.944493 \nL 289.377335 214.756364 \nL 289.436469 212.578152 \nL 289.554738 214.756364 \nL 289.613872 208.766281 \nL 289.673006 214.756364 \nL 289.73214 210.944493 \nL 289.791275 207.677175 \nL 289.968677 214.756364 \nL 290.027811 214.756364 \nL 290.086945 214.211811 \nL 290.14608 212.033599 \nL 290.205214 214.756364 \nL 290.264348 210.944493 \nL 290.323482 214.756364 \nL 290.382616 214.211811 \nL 290.441751 205.498963 \nL 290.500885 214.756364 \nL 290.560019 212.033599 \nL 290.619153 214.756364 \nL 290.678287 212.578152 \nL 290.737421 214.756364 \nL 290.796556 206.043516 \nL 290.914824 214.756364 \nL 291.033092 212.578152 \nL 291.092227 173.370338 \nL 291.151361 206.043516 \nL 291.210495 178.271315 \nL 291.387897 214.211811 \nL 291.447032 213.667258 \nL 291.506166 203.865304 \nL 291.5653 214.211811 \nL 291.624434 209.310834 \nL 291.683568 208.766281 \nL 291.742703 209.855387 \nL 291.860971 214.756364 \nL 291.920105 214.211811 \nL 292.038373 214.756364 \nL 292.097508 211.489046 \nL 292.215776 214.756364 \nL 292.27491 198.419775 \nL 292.393179 214.756364 \nL 292.452313 214.756364 \nL 292.511447 204.409857 \nL 292.570581 212.578152 \nL 292.629715 214.756364 \nL 292.688849 211.489046 \nL 292.747984 214.756364 \nL 292.807118 207.132622 \nL 292.866252 210.944493 \nL 292.925386 213.667258 \nL 293.102789 203.865304 \nL 293.280191 214.756364 \nL 293.339325 199.508881 \nL 293.457594 214.211811 \nL 293.575862 214.756364 \nL 293.753265 209.855387 \nL 293.812399 213.667258 \nL 293.871533 209.855387 \nL 293.930667 212.033599 \nL 294.167204 214.756364 \nL 294.226338 214.756364 \nL 294.285472 213.667258 \nL 294.344607 201.687092 \nL 294.403741 214.211811 \nL 294.462875 212.578152 \nL 294.581143 214.756364 \nL 294.640277 214.211811 \nL 294.699412 214.756364 \nL 294.876814 212.578152 \nL 294.935948 214.211811 \nL 294.995083 203.320751 \nL 295.054217 214.756364 \nL 295.113351 214.211811 \nL 295.172485 177.182209 \nL 295.290753 214.756364 \nL 295.349888 188.617821 \nL 295.468156 214.756364 \nL 295.52729 202.231645 \nL 295.586424 214.756364 \nL 295.645559 213.122705 \nL 295.704693 214.756364 \nL 295.763827 207.677175 \nL 295.822961 213.122705 \nL 295.882095 212.578152 \nL 295.94123 210.944493 \nL 296.000364 214.756364 \nL 296.059498 214.211811 \nL 296.118632 198.419775 \nL 296.2369 214.756364 \nL 296.296035 206.043516 \nL 296.355169 211.489046 \nL 296.414303 214.756364 \nL 296.473437 210.944493 \nL 296.532571 214.756364 \nL 296.591706 209.855387 \nL 296.65084 214.756364 \nL 296.709974 214.211811 \nL 296.769108 210.39994 \nL 296.887376 214.756364 \nL 296.946511 213.122705 \nL 297.005645 214.211811 \nL 297.242182 214.211811 \nL 297.301316 214.756364 \nL 297.36045 207.132622 \nL 297.419584 212.578152 \nL 297.537852 209.310834 \nL 297.596987 214.756364 \nL 297.656121 209.310834 \nL 297.715255 214.211811 \nL 297.774389 213.667258 \nL 297.833523 214.756364 \nL 297.892658 211.489046 \nL 297.951792 214.756364 \nL 298.07006 209.310834 \nL 298.129194 214.756364 \nL 298.188328 211.489046 \nL 298.247463 153.221878 \nL 298.365731 214.756364 \nL 298.424865 213.667258 \nL 298.483999 214.756364 \nL 298.543134 212.033599 \nL 298.602268 213.667258 \nL 298.720536 214.756364 \nL 298.77967 208.766281 \nL 298.838804 212.578152 \nL 298.897939 214.756364 \nL 298.957073 209.310834 \nL 299.016207 213.667258 \nL 299.075341 208.766281 \nL 299.252744 214.756364 \nL 299.311878 196.786116 \nL 299.371012 213.667258 \nL 299.430146 212.578152 \nL 299.548415 214.756364 \nL 299.666683 211.489046 \nL 299.725817 214.211811 \nL 299.784951 210.944493 \nL 299.844086 212.033599 \nL 299.962354 214.756364 \nL 300.021488 214.756364 \nL 300.258025 203.320751 \nL 300.376293 214.756364 \nL 300.435427 200.053434 \nL 300.494562 214.756364 \nL 300.553696 209.310834 \nL 300.61283 136.340736 \nL 300.731098 214.756364 \nL 300.790232 213.667258 \nL 300.849367 194.063351 \nL 300.908501 208.766281 \nL 301.026769 214.756364 \nL 301.085903 206.043516 \nL 301.145038 209.855387 \nL 301.204172 214.756364 \nL 301.263306 212.578152 \nL 301.32244 212.033599 \nL 301.440708 214.756364 \nL 301.499843 214.211811 \nL 301.558977 214.211811 \nL 301.618111 211.489046 \nL 301.677245 200.053434 \nL 301.736379 214.756364 \nL 301.795514 209.310834 \nL 301.854648 214.756364 \nL 301.913782 204.409857 \nL 301.972916 214.756364 \nL 302.03205 200.053434 \nL 302.091184 214.756364 \nL 302.150319 209.855387 \nL 302.209453 195.69701 \nL 302.268587 202.231645 \nL 302.327721 214.211811 \nL 302.386855 212.033599 \nL 302.44599 202.776198 \nL 302.564258 214.211811 \nL 302.623392 210.39994 \nL 302.682526 212.033599 \nL 302.800795 214.756364 \nL 303.037331 203.320751 \nL 303.096466 214.756364 \nL 303.1556 212.033599 \nL 303.214734 196.241563 \nL 303.273868 214.756364 \nL 303.333002 214.211811 \nL 303.392136 214.756364 \nL 303.451271 171.736679 \nL 303.510405 214.756364 \nL 303.569539 212.033599 \nL 303.628673 209.310834 \nL 303.687807 214.756364 \nL 303.746942 210.39994 \nL 303.806076 214.756364 \nL 303.86521 212.578152 \nL 303.924344 169.013914 \nL 304.042612 213.667258 \nL 304.101747 211.489046 \nL 304.160881 214.756364 \nL 304.220015 214.211811 \nL 304.279149 214.211811 \nL 304.338283 214.756364 \nL 304.397418 211.489046 \nL 304.456552 213.122705 \nL 304.515686 214.756364 \nL 304.57482 213.667258 \nL 304.693088 214.756364 \nL 304.752223 206.043516 \nL 304.811357 213.667258 \nL 304.870491 211.489046 \nL 304.929625 214.756364 \nL 304.988759 208.766281 \nL 305.047894 214.756364 \nL 305.107028 214.211811 \nL 305.166162 212.033599 \nL 305.225296 214.211811 \nL 305.28443 213.122705 \nL 305.461833 214.756364 \nL 305.520967 213.667258 \nL 305.580101 214.756364 \nL 305.69837 213.667258 \nL 305.757504 214.756364 \nL 305.816638 209.855387 \nL 305.934906 214.756364 \nL 305.99404 213.122705 \nL 306.053175 213.667258 \nL 306.112309 214.756364 \nL 306.171443 214.211811 \nL 306.230577 214.756364 \nL 306.289711 213.667258 \nL 306.40798 214.756364 \nL 306.467114 214.756364 \nL 306.526248 212.578152 \nL 306.585382 214.756364 \nL 306.703651 209.855387 \nL 306.762785 214.211811 \nL 306.821919 210.944493 \nL 306.881053 210.944493 \nL 306.940187 212.578152 \nL 306.999322 206.588069 \nL 307.11759 214.756364 \nL 307.176724 204.409857 \nL 307.235858 212.033599 \nL 307.294993 213.122705 \nL 307.472395 202.776198 \nL 307.531529 203.865304 \nL 307.590663 214.756364 \nL 307.649798 201.142539 \nL 307.708932 210.39994 \nL 307.768066 210.944493 \nL 307.8272 214.211811 \nL 307.886334 213.667258 \nL 307.945469 210.944493 \nL 308.004603 214.211811 \nL 308.122871 195.152457 \nL 308.182005 212.578152 \nL 308.241139 206.588069 \nL 308.359408 214.756364 \nL 308.477676 210.39994 \nL 308.595945 214.756364 \nL 308.655079 213.122705 \nL 308.714213 213.667258 \nL 308.773347 214.756364 \nL 308.832481 212.033599 \nL 308.891615 214.756364 \nL 308.95075 210.39994 \nL 309.069018 214.756364 \nL 309.128152 214.211811 \nL 309.246421 209.855387 \nL 309.364689 214.756364 \nL 309.423823 208.221728 \nL 309.482957 213.122705 \nL 309.542091 212.578152 \nL 309.601226 207.132622 \nL 309.719494 214.756364 \nL 309.778628 206.588069 \nL 309.837762 214.756364 \nL 309.896897 212.033599 \nL 309.956031 212.578152 \nL 310.015165 207.132622 \nL 310.133433 214.756364 \nL 310.192567 213.667258 \nL 310.310836 214.756364 \nL 310.36997 214.211811 \nL 310.429104 139.063501 \nL 310.488238 197.330669 \nL 310.547373 214.756364 \nL 310.606507 212.033599 \nL 310.783909 214.211811 \nL 310.843043 210.944493 \nL 310.902178 214.756364 \nL 310.961312 214.211811 \nL 311.020446 213.667258 \nL 311.07958 207.677175 \nL 311.197849 214.756364 \nL 311.316117 214.756364 \nL 311.434385 207.677175 \nL 311.493519 208.221728 \nL 311.552654 210.944493 \nL 311.611788 194.063351 \nL 311.730056 214.756364 \nL 311.78919 212.578152 \nL 311.848325 214.756364 \nL 311.907459 195.152457 \nL 311.966593 213.122705 \nL 312.025727 212.033599 \nL 312.143995 214.756364 \nL 312.321398 193.518798 \nL 312.380532 214.756364 \nL 312.439666 209.855387 \nL 312.617069 214.756364 \nL 312.676203 204.95441 \nL 312.794471 214.756364 \nL 312.853606 209.310834 \nL 312.91274 214.756364 \nL 312.971874 207.677175 \nL 313.031008 214.756364 \nL 313.090142 214.211811 \nL 313.149277 214.211811 \nL 313.208411 214.756364 \nL 313.267545 209.310834 \nL 313.326679 214.756364 \nL 313.385813 207.677175 \nL 313.444947 214.756364 \nL 313.504082 211.489046 \nL 313.563216 210.39994 \nL 313.62235 212.033599 \nL 313.681484 210.39994 \nL 313.740618 213.667258 \nL 313.799753 189.706927 \nL 313.918021 214.756364 \nL 314.213692 212.578152 \nL 314.272826 212.578152 \nL 314.33196 189.706927 \nL 314.391094 214.211811 \nL 314.450229 206.043516 \nL 314.509363 214.211811 \nL 314.568497 211.489046 \nL 314.627631 214.756364 \nL 314.686765 214.211811 \nL 314.745899 214.756364 \nL 314.805034 213.122705 \nL 314.864168 213.667258 \nL 314.923302 213.122705 \nL 315.100705 210.944493 \nL 315.278107 214.211811 \nL 315.337241 214.756364 \nL 315.396375 200.597986 \nL 315.45551 214.756364 \nL 315.514644 208.766281 \nL 315.573778 214.756364 \nL 315.632912 172.825785 \nL 315.692046 214.756364 \nL 315.751181 208.766281 \nL 315.869449 214.211811 \nL 315.928583 214.756364 \nL 316.046851 213.667258 \nL 316.105986 212.033599 \nL 316.16512 214.211811 \nL 316.224254 212.033599 \nL 316.283388 214.756364 \nL 316.460791 194.063351 \nL 316.579059 214.756364 \nL 316.638193 214.211811 \nL 316.756462 206.043516 \nL 316.815596 209.310834 \nL 316.933864 214.756364 \nL 316.992998 203.320751 \nL 317.052133 214.756364 \nL 317.111267 212.578152 \nL 317.170401 214.211811 \nL 317.229535 213.667258 \nL 317.288669 214.211811 \nL 317.347803 213.667258 \nL 317.406938 208.221728 \nL 317.466072 208.766281 \nL 317.643474 214.211811 \nL 317.702609 214.756364 \nL 317.761743 214.211811 \nL 317.939145 204.409857 \nL 318.057414 212.578152 \nL 318.116548 204.95441 \nL 318.175682 208.766281 \nL 318.234816 214.211811 \nL 318.29395 213.122705 \nL 318.353085 175.54855 \nL 318.471353 214.211811 \nL 318.530487 212.033599 \nL 318.589621 205.498963 \nL 318.648756 214.756364 \nL 318.70789 214.211811 \nL 318.767024 214.211811 \nL 318.885292 214.756364 \nL 318.944426 201.142539 \nL 319.003561 214.756364 \nL 319.062695 213.667258 \nL 319.121829 210.944493 \nL 319.180963 214.756364 \nL 319.240097 213.667258 \nL 319.299232 213.667258 \nL 319.4175 214.756364 \nL 319.476634 214.756364 \nL 319.654037 213.667258 \nL 319.713171 214.756364 \nL 319.831439 209.855387 \nL 319.949708 213.667258 \nL 320.008842 213.122705 \nL 320.12711 214.756364 \nL 320.186244 214.211811 \nL 320.245378 214.756364 \nL 320.304513 212.033599 \nL 320.363647 214.211811 \nL 320.481915 210.944493 \nL 320.600184 214.211811 \nL 320.718452 212.578152 \nL 320.777586 208.766281 \nL 320.83672 214.211811 \nL 320.895854 210.39994 \nL 320.954989 214.211811 \nL 321.014123 213.667258 \nL 321.073257 210.944493 \nL 321.132391 214.756364 \nL 321.191525 211.489046 \nL 321.25066 208.766281 \nL 321.368928 214.756364 \nL 321.428062 213.667258 \nL 321.54633 203.320751 \nL 321.723733 214.756364 \nL 321.901136 214.756364 \nL 321.96027 214.211811 \nL 322.019404 214.756364 \nL 322.137672 213.667258 \nL 322.196806 211.489046 \nL 322.255941 214.756364 \nL 322.315075 213.667258 \nL 322.374209 206.043516 \nL 322.433343 135.25163 \nL 322.551612 214.756364 \nL 322.610746 208.221728 \nL 322.66988 214.211811 \nL 322.729014 212.033599 \nL 322.788148 213.122705 \nL 322.906417 208.221728 \nL 323.024685 214.756364 \nL 323.202088 202.776198 \nL 323.320356 214.211811 \nL 323.37949 210.39994 \nL 323.438624 201.142539 \nL 323.556893 214.756364 \nL 323.675161 212.578152 \nL 323.734295 198.419775 \nL 323.793429 202.776198 \nL 323.852564 214.756364 \nL 323.911698 212.033599 \nL 323.970832 209.310834 \nL 324.0891 214.756364 \nL 324.207369 213.667258 \nL 324.266503 210.39994 \nL 324.384771 214.756364 \nL 324.443905 198.964328 \nL 324.50304 213.122705 \nL 324.562174 161.934726 \nL 324.621308 214.211811 \nL 324.680442 210.944493 \nL 324.79871 214.756364 \nL 324.857845 211.489046 \nL 324.976113 214.756364 \nL 325.035247 214.756364 \nL 325.153516 214.211811 \nL 325.21265 211.489046 \nL 325.271784 212.578152 \nL 325.390052 214.756364 \nL 325.449186 214.211811 \nL 325.508321 198.964328 \nL 325.626589 213.122705 \nL 325.685723 212.578152 \nL 325.744857 214.756364 \nL 325.803992 214.211811 \nL 325.863126 213.122705 \nL 325.92226 181.538633 \nL 325.981394 204.95441 \nL 326.040528 203.320751 \nL 326.099662 214.211811 \nL 326.158797 213.667258 \nL 326.217931 210.39994 \nL 326.336199 214.211811 \nL 326.395333 210.944493 \nL 326.454468 214.756364 \nL 326.513602 214.211811 \nL 326.572736 202.776198 \nL 326.63187 214.756364 \nL 326.691004 214.211811 \nL 326.809273 214.756364 \nL 326.868407 208.221728 \nL 326.927541 212.578152 \nL 327.045809 207.132622 \nL 327.104944 214.211811 \nL 327.164078 197.875222 \nL 327.282346 213.667258 \nL 327.34148 214.211811 \nL 327.400614 210.39994 \nL 327.459749 212.033599 \nL 327.518883 212.578152 \nL 327.578017 208.766281 \nL 327.696285 214.756364 \nL 327.75542 205.498963 \nL 327.814554 214.211811 \nL 327.873688 212.033599 \nL 327.932822 213.667258 \nL 328.05109 210.944493 \nL 328.169359 212.578152 \nL 328.287627 207.132622 \nL 328.405896 214.756364 \nL 328.46503 214.211811 \nL 328.524164 205.498963 \nL 328.583298 214.756364 \nL 328.642432 214.211811 \nL 328.760701 210.944493 \nL 328.878969 214.756364 \nL 328.938103 204.409857 \nL 328.997237 212.578152 \nL 329.17464 214.211811 \nL 329.233774 192.429692 \nL 329.352043 214.211811 \nL 329.411177 208.766281 \nL 329.470311 186.439609 \nL 329.647713 214.756364 \nL 329.765982 211.489046 \nL 329.825116 190.796033 \nL 329.943384 214.756364 \nL 330.002519 212.033599 \nL 330.061653 184.261397 \nL 330.179921 214.756364 \nL 330.239055 213.122705 \nL 330.298189 214.756364 \nL 330.357324 212.033599 \nL 330.416458 214.756364 \nL 330.475592 214.211811 \nL 330.534726 214.756364 \nL 330.59386 198.419775 \nL 330.712129 213.667258 \nL 330.830397 205.498963 \nL 330.889531 214.756364 \nL 330.948665 212.033599 \nL 331.0078 214.756364 \nL 331.066934 213.122705 \nL 331.126068 194.607904 \nL 331.185202 201.142539 \nL 331.362605 214.756364 \nL 331.540007 211.489046 \nL 331.599141 214.211811 \nL 331.658276 210.944493 \nL 331.776544 214.756364 \nL 331.835678 214.756364 \nL 331.894812 198.964328 \nL 331.953947 204.409857 \nL 332.072215 214.211811 \nL 332.131349 214.211811 \nL 332.190483 213.122705 \nL 332.249617 207.677175 \nL 332.308752 214.211811 \nL 332.367886 203.320751 \nL 332.42702 212.578152 \nL 332.545288 213.122705 \nL 332.604423 194.063351 \nL 332.722691 214.756364 \nL 332.781825 207.132622 \nL 332.840959 178.815868 \nL 332.900093 214.756364 \nL 332.959228 208.766281 \nL 333.018362 208.221728 \nL 333.077496 199.508881 \nL 333.13663 213.667258 \nL 333.195764 212.578152 \nL 333.314033 214.756364 \nL 333.373167 214.211811 \nL 333.432301 214.756364 \nL 333.491435 213.667258 \nL 333.550569 214.756364 \nL 333.609704 210.944493 \nL 333.668838 212.033599 \nL 333.727972 212.033599 \nL 333.787106 202.231645 \nL 333.905375 214.211811 \nL 333.964509 141.241713 \nL 334.023643 189.162374 \nL 334.201045 212.578152 \nL 334.26018 209.310834 \nL 334.319314 211.489046 \nL 334.378448 214.756364 \nL 334.437582 204.95441 \nL 334.496716 212.033599 \nL 334.555851 214.756364 \nL 334.614985 214.211811 \nL 334.733253 214.756364 \nL 334.910656 198.964328 \nL 334.96979 202.231645 \nL 335.088058 214.211811 \nL 335.206327 204.409857 \nL 335.324595 214.211811 \nL 335.442863 202.776198 \nL 335.501997 214.756364 \nL 335.561132 175.003997 \nL 335.6794 214.756364 \nL 335.738534 213.122705 \nL 335.797668 214.211811 \nL 335.856803 214.756364 \nL 335.915937 213.122705 \nL 335.975071 214.756364 \nL 336.034205 213.667258 \nL 336.093339 213.122705 \nL 336.152473 208.221728 \nL 336.211608 214.211811 \nL 336.270742 213.667258 \nL 336.448144 214.756364 \nL 336.507279 209.310834 \nL 336.566413 213.667258 \nL 336.625547 212.033599 \nL 336.802949 214.756364 \nL 336.980352 211.489046 \nL 337.157755 214.756364 \nL 337.216889 209.310834 \nL 337.276023 214.756364 \nL 337.335157 207.677175 \nL 337.453425 214.756364 \nL 337.571694 214.756364 \nL 337.630828 178.271315 \nL 337.749096 214.211811 \nL 337.808231 184.261397 \nL 337.926499 214.211811 \nL 337.985633 203.320751 \nL 338.103901 214.756364 \nL 338.163036 211.489046 \nL 338.22217 213.667258 \nL 338.281304 213.122705 \nL 338.340438 208.766281 \nL 338.399572 214.756364 \nL 338.458707 212.578152 \nL 338.636109 214.756364 \nL 338.695243 214.756364 \nL 338.754377 186.439609 \nL 338.872646 214.756364 \nL 338.93178 214.211811 \nL 339.050048 212.578152 \nL 339.168317 214.756364 \nL 339.345719 213.667258 \nL 339.404854 207.677175 \nL 339.463988 214.756364 \nL 339.523122 205.498963 \nL 339.582256 212.578152 \nL 339.64139 209.310834 \nL 339.700524 209.855387 \nL 339.818793 214.756364 \nL 339.877927 207.132622 \nL 339.937061 214.756364 \nL 339.996195 214.211811 \nL 340.114464 214.756364 \nL 340.173598 214.756364 \nL 340.232732 214.211811 \nL 340.291866 212.033599 \nL 340.351 192.974245 \nL 340.410135 214.756364 \nL 340.469269 212.578152 \nL 340.528403 212.578152 \nL 340.587537 214.756364 \nL 340.646671 211.489046 \nL 340.705806 188.073268 \nL 340.76494 214.211811 \nL 340.824074 210.944493 \nL 340.883208 214.756364 \nL 340.942342 212.033599 \nL 341.060611 214.756364 \nL 341.119745 214.211811 \nL 341.178879 201.142539 \nL 341.238013 160.301067 \nL 341.356282 214.756364 \nL 341.415416 212.578152 \nL 341.47455 212.033599 \nL 341.533684 214.211811 \nL 341.592818 213.122705 \nL 341.711087 214.756364 \nL 341.770221 212.578152 \nL 341.829355 189.706927 \nL 341.888489 214.756364 \nL 341.947623 208.221728 \nL 342.125026 214.756364 \nL 342.243294 202.776198 \nL 342.302428 214.756364 \nL 342.361563 212.578152 \nL 342.420697 214.211811 \nL 342.479831 212.033599 \nL 342.538965 214.211811 \nL 342.598099 212.033599 \nL 342.657234 214.756364 \nL 342.716368 214.211811 \nL 342.775502 214.211811 \nL 342.834636 212.033599 \nL 342.952904 214.756364 \nL 343.071173 197.330669 \nL 343.130307 213.122705 \nL 343.189441 206.588069 \nL 343.30771 214.211811 \nL 343.425978 212.033599 \nL 343.485112 214.211811 \nL 343.662515 203.865304 \nL 343.721649 213.667258 \nL 343.780783 213.122705 \nL 343.839917 211.489046 \nL 343.899051 214.756364 \nL 343.958186 204.409857 \nL 344.01732 214.756364 \nL 344.076454 208.221728 \nL 344.135588 214.756364 \nL 344.194722 211.489046 \nL 344.253856 214.756364 \nL 344.431259 190.25148 \nL 344.490393 214.211811 \nL 344.549527 213.667258 \nL 344.667796 214.756364 \nL 344.845198 194.607904 \nL 344.904332 203.865304 \nL 344.963467 189.162374 \nL 345.022601 214.756364 \nL 345.081735 191.885139 \nL 345.140869 214.211811 \nL 345.200003 212.578152 \nL 345.259138 214.211811 \nL 345.318272 200.053434 \nL 345.495674 214.756364 \nL 345.613943 214.756364 \nL 345.673077 214.211811 \nL 345.732211 200.053434 \nL 345.791345 213.667258 \nL 345.850479 186.439609 \nL 345.909614 214.756364 \nL 345.968748 209.310834 \nL 346.087016 214.756364 \nL 346.14615 201.687092 \nL 346.205284 214.756364 \nL 346.264419 214.211811 \nL 346.323553 206.043516 \nL 346.382687 212.578152 \nL 346.441821 214.756364 \nL 346.500955 214.211811 \nL 346.56009 201.687092 \nL 346.619224 214.756364 \nL 346.678358 213.667258 \nL 346.737492 214.756364 \nL 346.85576 200.053434 \nL 346.974029 214.756364 \nL 347.033163 214.211811 \nL 347.092297 194.607904 \nL 347.151431 210.944493 \nL 347.328834 214.756364 \nL 347.387968 214.211811 \nL 347.506236 208.766281 \nL 347.624505 214.756364 \nL 347.742773 214.756364 \nL 347.920176 209.855387 \nL 347.97931 186.984162 \nL 348.097578 214.756364 \nL 348.156712 210.39994 \nL 348.215847 214.211811 \nL 348.274981 214.756364 \nL 348.393249 208.766281 \nL 348.452383 203.865304 \nL 348.570652 214.756364 \nL 348.629786 189.706927 \nL 348.748054 214.756364 \nL 348.807188 206.043516 \nL 348.866323 213.667258 \nL 348.925457 211.489046 \nL 349.043725 214.756364 \nL 349.102859 208.766281 \nL 349.161994 213.667258 \nL 349.221128 211.489046 \nL 349.280262 212.578152 \nL 349.339396 212.033599 \nL 349.457664 214.756364 \nL 349.575933 214.756364 \nL 349.81247 209.310834 \nL 349.930738 214.756364 \nL 349.989872 211.489046 \nL 350.049006 195.69701 \nL 350.167275 214.756364 \nL 350.226409 210.39994 \nL 350.285543 214.211811 \nL 350.344677 213.667258 \nL 350.462946 214.756364 \nL 350.581214 211.489046 \nL 350.640348 213.667258 \nL 350.699482 209.855387 \nL 350.758617 210.39994 \nL 350.876885 214.211811 \nL 350.936019 209.310834 \nL 351.054287 214.756364 \nL 351.113422 213.122705 \nL 351.172556 201.142539 \nL 351.23169 214.756364 \nL 351.290824 214.211811 \nL 351.349958 214.756364 \nL 351.409093 164.112938 \nL 351.527361 214.756364 \nL 351.645629 212.033599 \nL 351.763898 214.756364 \nL 351.9413 201.687092 \nL 352.118703 214.756364 \nL 352.177837 214.756364 \nL 352.236971 212.578152 \nL 352.296105 213.667258 \nL 352.355239 214.756364 \nL 352.414374 214.211811 \nL 352.473508 214.211811 \nL 352.532642 197.330669 \nL 352.591776 211.489046 \nL 352.65091 210.944493 \nL 352.710045 201.687092 \nL 352.769179 214.211811 \nL 352.828313 213.667258 \nL 352.887447 210.944493 \nL 353.06485 214.756364 \nL 353.183118 207.677175 \nL 353.301386 214.756364 \nL 353.360521 214.756364 \nL 353.419655 205.498963 \nL 353.478789 214.211811 \nL 353.537923 213.122705 \nL 353.597057 210.39994 \nL 353.715326 214.756364 \nL 353.77446 209.855387 \nL 353.833594 214.211811 \nL 353.892728 212.033599 \nL 353.951862 209.310834 \nL 354.010997 200.053434 \nL 354.188399 214.756364 \nL 354.306667 204.409857 \nL 354.424936 214.756364 \nL 354.602338 213.667258 \nL 354.720607 214.756364 \nL 354.779741 214.756364 \nL 354.838875 213.667258 \nL 354.898009 214.211811 \nL 354.957143 207.677175 \nL 355.075412 214.756364 \nL 355.134546 209.855387 \nL 355.19368 213.667258 \nL 355.252814 214.756364 \nL 355.371083 198.964328 \nL 355.430217 214.756364 \nL 355.489351 191.885139 \nL 355.548485 210.944493 \nL 355.607619 214.756364 \nL 355.666754 210.944493 \nL 355.725888 213.667258 \nL 355.785022 213.122705 \nL 355.90329 206.043516 \nL 356.021559 214.756364 \nL 356.080693 210.944493 \nL 356.139827 213.667258 \nL 356.258095 210.944493 \nL 356.376364 214.211811 \nL 356.435498 212.033599 \nL 356.553766 214.756364 \nL 356.612901 212.033599 \nL 356.672035 213.667258 \nL 356.849437 209.855387 \nL 356.908571 214.756364 \nL 356.967706 212.033599 \nL 357.02684 212.033599 \nL 357.145108 214.756364 \nL 357.204242 213.667258 \nL 357.263377 209.855387 \nL 357.322511 214.756364 \nL 357.440779 206.588069 \nL 357.499913 214.756364 \nL 357.559047 192.429692 \nL 357.618182 212.578152 \nL 357.677316 208.221728 \nL 357.73645 214.756364 \nL 357.795584 214.211811 \nL 357.854718 192.429692 \nL 357.913853 207.132622 \nL 357.972987 195.69701 \nL 358.091255 214.756364 \nL 358.150389 129.261548 \nL 358.209523 214.756364 \nL 358.268658 208.766281 \nL 358.44606 214.211811 \nL 358.505194 209.310834 \nL 358.564329 213.122705 \nL 358.623463 212.033599 \nL 358.682597 201.687092 \nL 358.800865 214.756364 \nL 358.919134 208.766281 \nL 359.037402 214.756364 \nL 359.096536 212.578152 \nL 359.15567 214.756364 \nL 359.214805 191.340586 \nL 359.273939 214.756364 \nL 359.333073 208.766281 \nL 359.451341 214.211811 \nL 359.510475 213.122705 \nL 359.56961 212.578152 \nL 359.687878 204.95441 \nL 359.865281 214.211811 \nL 359.924415 213.122705 \nL 359.983549 213.667258 \nL 360.042683 213.667258 \nL 360.101817 214.756364 \nL 360.220086 213.122705 \nL 360.338354 214.756364 \nL 360.397488 212.578152 \nL 360.515757 214.756364 \nL 360.574891 214.211811 \nL 360.634025 208.221728 \nL 360.693159 214.756364 \nL 360.752293 207.132622 \nL 360.870562 214.756364 \nL 360.929696 214.756364 \nL 360.98883 214.211811 \nL 361.047964 200.597986 \nL 361.107098 214.756364 \nL 361.166233 208.221728 \nL 361.225367 205.498963 \nL 361.343635 213.667258 \nL 361.402769 196.241563 \nL 361.461904 203.865304 \nL 361.580172 214.756364 \nL 361.639306 212.578152 \nL 361.69844 214.211811 \nL 361.757574 212.578152 \nL 361.816709 214.756364 \nL 361.875843 170.647573 \nL 361.934977 214.756364 \nL 361.994111 205.498963 \nL 362.11238 214.211811 \nL 362.171514 199.508881 \nL 362.289782 213.122705 \nL 362.348916 214.756364 \nL 362.40805 200.053434 \nL 362.467185 214.756364 \nL 362.526319 214.211811 \nL 362.585453 196.241563 \nL 362.644587 210.944493 \nL 362.82199 214.756364 \nL 362.881124 214.211811 \nL 362.940258 194.607904 \nL 362.999392 214.756364 \nL 363.058526 211.489046 \nL 363.176795 214.756364 \nL 363.235929 212.578152 \nL 363.354197 214.756364 \nL 363.413332 214.756364 \nL 363.590734 208.221728 \nL 363.709002 213.667258 \nL 363.827271 152.132772 \nL 363.886405 214.756364 \nL 363.945539 211.489046 \nL 364.063808 214.756364 \nL 364.182076 214.756364 \nL 364.300344 213.667258 \nL 364.359478 208.221728 \nL 364.418613 213.122705 \nL 364.477747 210.944493 \nL 364.655149 198.964328 \nL 364.832552 214.756364 \nL 364.891686 214.756364 \nL 364.95082 207.132622 \nL 365.009954 213.667258 \nL 365.069089 213.667258 \nL 365.128223 214.211811 \nL 365.187357 213.122705 \nL 365.246491 214.756364 \nL 365.305625 213.667258 \nL 365.423894 214.756364 \nL 365.483028 213.122705 \nL 365.542162 208.221728 \nL 365.719565 214.756364 \nL 365.778699 214.756364 \nL 365.896967 213.667258 \nL 365.956101 214.756364 \nL 366.015236 207.677175 \nL 366.07437 211.489046 \nL 366.133504 210.39994 \nL 366.192638 194.607904 \nL 366.251772 214.756364 \nL 366.310906 214.211811 \nL 366.370041 213.122705 \nL 366.429175 197.875222 \nL 366.488309 209.855387 \nL 366.547443 208.221728 \nL 366.547443 208.221728 \n\" style=\"fill:none;stroke:#1f77b4;stroke-linecap:square;stroke-width:1.5;\"/>\n   </g>\n   <g id=\"patch_3\">\n    <path d=\"M 46.965625 224.64 \nL 46.965625 7.2 \n\" style=\"fill:none;stroke:#000000;stroke-linecap:square;stroke-linejoin:miter;stroke-width:0.8;\"/>\n   </g>\n   <g id=\"patch_4\">\n    <path d=\"M 381.765625 224.64 \nL 381.765625 7.2 \n\" style=\"fill:none;stroke:#000000;stroke-linecap:square;stroke-linejoin:miter;stroke-width:0.8;\"/>\n   </g>\n   <g id=\"patch_5\">\n    <path d=\"M 46.965625 224.64 \nL 381.765625 224.64 \n\" style=\"fill:none;stroke:#000000;stroke-linecap:square;stroke-linejoin:miter;stroke-width:0.8;\"/>\n   </g>\n   <g id=\"patch_6\">\n    <path d=\"M 46.965625 7.2 \nL 381.765625 7.2 \n\" style=\"fill:none;stroke:#000000;stroke-linecap:square;stroke-linejoin:miter;stroke-width:0.8;\"/>\n   </g>\n  </g>\n </g>\n <defs>\n  <clipPath id=\"p96cb5f686c\">\n   <rect height=\"217.44\" width=\"334.8\" x=\"46.965625\" y=\"7.2\"/>\n  </clipPath>\n </defs>\n</svg>\n",
      "image/png": "[encoded data removed]"
     },
     "metadata": {
      "needs_background": "light"
     }
    }
   ],
   "source": [
    "plt.plot(article_interaction.values)\n",
    "plt.ylabel('interactions')\n",
    "plt.xlabel('user')"
   ]
  },
  {
   "cell_type": "code",
   "execution_count": 6,
   "metadata": {},
   "outputs": [],
   "source": [
    "# Fill in the median and maximum number of user_article interactios below\n",
    "\n",
    "median_val = 3 # 50% of individuals interact with ____ number of articles or fewer.\n",
    "max_views_by_user = 364 # The maximum number of user-article interactions by any 1 user is ______."
   ]
  },
  {
   "cell_type": "markdown",
   "metadata": {},
   "source": [
    "`2.` Explore and remove duplicate articles from the **df_content** dataframe.  "
   ]
  },
  {
   "cell_type": "code",
   "execution_count": 7,
   "metadata": {},
   "outputs": [
    {
     "output_type": "stream",
     "name": "stdout",
     "text": "(1056, 5)\n(1051, 5)\n"
    }
   ],
   "source": [
    "print(df_content.shape)\n",
    "df_content=df_content.drop_duplicates(subset=['article_id'])\n",
    "print(df_content.shape)"
   ]
  },
  {
   "cell_type": "code",
   "execution_count": 8,
   "metadata": {},
   "outputs": [],
   "source": [
    "# Remove any rows that have the same article_id - only keep the first"
   ]
  },
  {
   "cell_type": "markdown",
   "metadata": {},
   "source": [
    "`3.` Use the cells below to find:\n",
    "\n",
    "**a.** The number of unique articles that have an interaction with a user.  \n",
    "**b.** The number of unique articles in the dataset (whether they have any interactions or not).<br>\n",
    "**c.** The number of unique users in the dataset. (excluding null values) <br>\n",
    "**d.** The number of user-article interactions in the dataset."
   ]
  },
  {
   "cell_type": "code",
   "execution_count": 9,
   "metadata": {},
   "outputs": [],
   "source": [
    "total_articles = df_content.shape[0]"
   ]
  },
  {
   "cell_type": "code",
   "execution_count": 10,
   "metadata": {},
   "outputs": [],
   "source": [
    "unique_articles = len(df.groupby('article_id'))# The number of unique articles that have at least one interaction\n",
    "total_articles = total_articles# The number of unique articles on the IBM platform\n",
    "unique_users = user_count # The number of unique users\n",
    "user_article_interactions = df.shape[0] # The number of user-article interactions"
   ]
  },
  {
   "cell_type": "markdown",
   "metadata": {},
   "source": [
    "`4.` Use the cells below to find the most viewed **article_id**, as well as how often it was viewed.  After talking to the company leaders, the `email_mapper` function was deemed a reasonable way to map users to ids.  There were a small number of null values, and it was found that all of these null values likely belonged to a single user (which is how they are stored using the function below)."
   ]
  },
  {
   "cell_type": "code",
   "execution_count": 11,
   "metadata": {},
   "outputs": [],
   "source": [
    "most_viewed_article_id = str(df['article_id'].value_counts().index[0])# The most viewed article in the dataset as a string with one value following the decimal \n",
    "max_views =  df['article_id'].value_counts().iloc[0]# The most viewed article in the dataset was viewed how many times?"
   ]
  },
  {
   "cell_type": "code",
   "execution_count": 12,
   "metadata": {},
   "outputs": [
    {
     "output_type": "execute_result",
     "data": {
      "text/plain": "   article_id                                              title  user_id\n0      1430.0  using pixiedust for fast, flexible, and easier...        1\n1      1314.0       healthcare python streaming application demo        2\n2      1429.0         use deep learning for image classification        3\n3      1338.0          ml optimization using cognitive assistant        4\n4      1276.0          deploy your python model as a restful api        5",
      "text/html": "<div>\n<style scoped>\n    .dataframe tbody tr th:only-of-type {\n        vertical-align: middle;\n    }\n\n    .dataframe tbody tr th {\n        vertical-align: top;\n    }\n\n    .dataframe thead th {\n        text-align: right;\n    }\n</style>\n<table border=\"1\" class=\"dataframe\">\n  <thead>\n    <tr style=\"text-align: right;\">\n      <th></th>\n      <th>article_id</th>\n      <th>title</th>\n      <th>user_id</th>\n    </tr>\n  </thead>\n  <tbody>\n    <tr>\n      <th>0</th>\n      <td>1430.0</td>\n      <td>using pixiedust for fast, flexible, and easier...</td>\n      <td>1</td>\n    </tr>\n    <tr>\n      <th>1</th>\n      <td>1314.0</td>\n      <td>healthcare python streaming application demo</td>\n      <td>2</td>\n    </tr>\n    <tr>\n      <th>2</th>\n      <td>1429.0</td>\n      <td>use deep learning for image classification</td>\n      <td>3</td>\n    </tr>\n    <tr>\n      <th>3</th>\n      <td>1338.0</td>\n      <td>ml optimization using cognitive assistant</td>\n      <td>4</td>\n    </tr>\n    <tr>\n      <th>4</th>\n      <td>1276.0</td>\n      <td>deploy your python model as a restful api</td>\n      <td>5</td>\n    </tr>\n  </tbody>\n</table>\n</div>"
     },
     "metadata": {},
     "execution_count": 12
    }
   ],
   "source": [
    "## No need to change the code here - this will be helpful for later parts of the notebook\n",
    "# Run this cell to map the user email to a user_id column and remove the email column\n",
    "\n",
    "def email_mapper():\n",
    "    coded_dict = dict()\n",
    "    cter = 1\n",
    "    email_encoded = []\n",
    "    \n",
    "    for val in df['email']:\n",
    "        if val not in coded_dict:\n",
    "            coded_dict[val] = cter\n",
    "            cter+=1\n",
    "        \n",
    "        email_encoded.append(coded_dict[val])\n",
    "    return email_encoded\n",
    "\n",
    "email_encoded = email_mapper()\n",
    "del df['email']\n",
    "df['user_id'] = email_encoded\n",
    "\n",
    "# show header\n",
    "df.head()"
   ]
  },
  {
   "cell_type": "code",
   "execution_count": 13,
   "metadata": {},
   "outputs": [
    {
     "output_type": "stream",
     "name": "stdout",
     "text": "It looks like you have everything right here! Nice job!\n"
    }
   ],
   "source": [
    "## If you stored all your results in the variable names above, \n",
    "## you shouldn't need to change anything in this cell\n",
    "\n",
    "sol_1_dict = {\n",
    "    '`50% of individuals have _____ or fewer interactions.`': median_val,\n",
    "    '`The total number of user-article interactions in the dataset is ______.`': user_article_interactions,\n",
    "    '`The maximum number of user-article interactions by any 1 user is ______.`': max_views_by_user,\n",
    "    '`The most viewed article in the dataset was viewed _____ times.`': max_views,\n",
    "    '`The article_id of the most viewed article is ______.`': most_viewed_article_id,\n",
    "    '`The number of unique articles that have at least 1 rating ______.`': unique_articles,\n",
    "    '`The number of unique users in the dataset is ______`': unique_users,\n",
    "    '`The number of unique articles on the IBM platform`': total_articles\n",
    "}\n",
    "\n",
    "# Test your dictionary against the solution\n",
    "t.sol_1_test(sol_1_dict)"
   ]
  },
  {
   "cell_type": "markdown",
   "metadata": {},
   "source": [
    "### <a class=\"anchor\" id=\"Rank\">Part II: Rank-Based Recommendations</a>\n",
    "\n",
    "Unlike in the earlier lessons, we don't actually have ratings for whether a user liked an article or not.  We only know that a user has interacted with an article.  In these cases, the popularity of an article can really only be based on how often an article was interacted with.\n",
    "\n",
    "`1.` Fill in the function below to return the **n** top articles ordered with most interactions as the top. Test your function using the tests below."
   ]
  },
  {
   "cell_type": "code",
   "execution_count": 14,
   "metadata": {},
   "outputs": [],
   "source": [
    "def get_top_articles(n, df=df):\n",
    "    '''\n",
    "    INPUT:\n",
    "    n - (int) the number of top articles to return\n",
    "    df - (pandas dataframe) df as defined at the top of the notebook \n",
    "    \n",
    "    OUTPUT:\n",
    "    top_articles - (list) A list of the top 'n' article titles \n",
    "    \n",
    "    '''\n",
    "    # Your code here\n",
    "    top_articles = list(df.groupby('title')['title'].count().sort_values(ascending=False)[:n].index)\n",
    "    return top_articles # Return the top article titles from df (not df_content)\n",
    "\n",
    "def get_top_article_ids(n, df=df):\n",
    "    '''\n",
    "    INPUT:\n",
    "    n - (int) the number of top articles to return\n",
    "    df - (pandas dataframe) df as defined at the top of the notebook \n",
    "    \n",
    "    OUTPUT:\n",
    "    top_articles - (list) A list of the top 'n' article titles \n",
    "    \n",
    "    '''\n",
    "    # Your code here\n",
    "    top_articles = list(df.groupby('article_id')['article_id'].count().sort_values(ascending=False).index[:n])\n",
    "    return top_articles # Return the top article ids"
   ]
  },
  {
   "cell_type": "code",
   "execution_count": 15,
   "metadata": {},
   "outputs": [
    {
     "output_type": "stream",
     "name": "stdout",
     "text": "['use deep learning for image classification', 'insights from new york car accident reports', 'visualize car data with brunel', 'use xgboost, scikit-learn & ibm watson machine learning apis', 'predicting churn with the spss random tree algorithm', 'healthcare python streaming application demo', 'finding optimal locations of new store using decision optimization', 'apache spark lab, part 1: basic concepts', 'analyze energy consumption in buildings', 'gosales transactions for logistic regression model']\n[1429.0, 1330.0, 1431.0, 1427.0, 1364.0, 1314.0, 1293.0, 1170.0, 1162.0, 1304.0]\n"
    }
   ],
   "source": [
    "print(get_top_articles(10))\n",
    "print(get_top_article_ids(10))"
   ]
  },
  {
   "cell_type": "code",
   "execution_count": 16,
   "metadata": {},
   "outputs": [
    {
     "output_type": "stream",
     "name": "stdout",
     "text": "Your top_5 looks like the solution list! Nice job.\nYour top_10 looks like the solution list! Nice job.\nYour top_20 looks like the solution list! Nice job.\n"
    }
   ],
   "source": [
    "# Test your function by returning the top 5, 10, and 20 articles\n",
    "top_5 = get_top_articles(5)\n",
    "top_10 = get_top_articles(10)\n",
    "top_20 = get_top_articles(20)\n",
    "\n",
    "# Test each of your three lists from above\n",
    "t.sol_2_test(get_top_articles)"
   ]
  },
  {
   "cell_type": "markdown",
   "metadata": {},
   "source": [
    "### <a class=\"anchor\" id=\"User-User\">Part III: User-User Based Collaborative Filtering</a>\n",
    "\n",
    "\n",
    "`1.` Use the function below to reformat the **df** dataframe to be shaped with users as the rows and articles as the columns.  \n",
    "\n",
    "* Each **user** should only appear in each **row** once.\n",
    "\n",
    "\n",
    "* Each **article** should only show up in one **column**.  \n",
    "\n",
    "\n",
    "* **If a user has interacted with an article, then place a 1 where the user-row meets for that article-column**.  It does not matter how many times a user has interacted with the article, all entries where a user has interacted with an article should be a 1.  \n",
    "\n",
    "\n",
    "* **If a user has not interacted with an item, then place a zero where the user-row meets for that article-column**. \n",
    "\n",
    "Use the tests to make sure the basic structure of your matrix matches what is expected by the solution."
   ]
  },
  {
   "cell_type": "code",
   "execution_count": 17,
   "metadata": {},
   "outputs": [],
   "source": [
    "# create the user-article matrix with 1's and 0's\n",
    "\n",
    "def create_user_item_matrix(df):\n",
    "    '''\n",
    "    INPUT:\n",
    "    df - pandas dataframe with article_id, title, user_id columns\n",
    "    \n",
    "    OUTPUT:\n",
    "    user_item - user item matrix \n",
    "    \n",
    "    Description:\n",
    "    Return a matrix with user ids as rows and article ids on the columns with 1 values where a user interacted with \n",
    "    an article and a 0 otherwise\n",
    "    '''\n",
    "    # Fill in the function here\n",
    "    import copy\n",
    "    df_dum = copy.deepcopy(df)\n",
    "    df_dum['title']=1\n",
    "    #df_dum\n",
    "    df_interact = df_dum.pivot_table(index='user_id', columns='article_id', values='title')\n",
    "    df_interact = df_interact.fillna(0)\n",
    "    return df_interact # return the user_item matrix \n",
    "\n",
    "user_item = create_user_item_matrix(df)"
   ]
  },
  {
   "cell_type": "code",
   "execution_count": 18,
   "metadata": {},
   "outputs": [
    {
     "output_type": "stream",
     "name": "stdout",
     "text": "You have passed our quick tests!  Please proceed!\n"
    }
   ],
   "source": [
    "## Tests: You should just need to run this cell.  Don't change the code.\n",
    "assert user_item.shape[0] == 5149, \"Oops!  The number of users in the user-article matrix doesn't look right.\"\n",
    "assert user_item.shape[1] == 714, \"Oops!  The number of articles in the user-article matrix doesn't look right.\"\n",
    "assert user_item.sum(axis=1)[1] == 36, \"Oops!  The number of articles seen by user 1 doesn't look right.\"\n",
    "print(\"You have passed our quick tests!  Please proceed!\")"
   ]
  },
  {
   "cell_type": "markdown",
   "metadata": {},
   "source": [
    "`2.` Complete the function below which should take a user_id and provide an ordered list of the most similar users to that user (from most similar to least similar).  The returned result should not contain the provided user_id, as we know that each user is similar to him/herself. Because the results for each user here are binary, it (perhaps) makes sense to compute similarity as the dot product of two users. \n",
    "\n",
    "Use the tests to test your function."
   ]
  },
  {
   "cell_type": "code",
   "execution_count": 19,
   "metadata": {},
   "outputs": [],
   "source": [
    "def find_similar_users(user_id, user_item=user_item):\n",
    "    '''\n",
    "    INPUT:\n",
    "    user_id - (int) a user_id\n",
    "    user_item - (pandas dataframe) matrix of users by articles: \n",
    "                1's when a user has interacted with an article, 0 otherwise\n",
    "    \n",
    "    OUTPUT:\n",
    "    similar_users - (list) an ordered list where the closest users (largest dot product users)\n",
    "                    are listed first\n",
    "    \n",
    "    Description:\n",
    "    Computes the similarity of every pair of users based on the dot product\n",
    "    Returns an ordered\n",
    "    \n",
    "    '''\n",
    "    ref_user = user_item.loc[user_id]\n",
    "    sim = ref_user.dot(user_item.T)\n",
    "\n",
    "    sim_user = list(sim.sort_values(ascending=False).drop(user_id).index)\n",
    "\n",
    "    return sim_user # return a list of the users in order from most to least similar\n",
    "        "
   ]
  },
  {
   "cell_type": "code",
   "execution_count": 20,
   "metadata": {},
   "outputs": [
    {
     "output_type": "stream",
     "name": "stdout",
     "text": "The 10 most similar users to user 1 are: [3933, 23, 3782, 203, 4459, 131, 3870, 46, 4201, 5041]\nThe 5 most similar users to user 3933 are: [1, 23, 3782, 4459, 203]\nThe 3 most similar users to user 46 are: [4201, 23, 3782]\n"
    }
   ],
   "source": [
    "# Do a spot check of your function\n",
    "print(\"The 10 most similar users to user 1 are: {}\".format(find_similar_users(1)[:10]))\n",
    "print(\"The 5 most similar users to user 3933 are: {}\".format(find_similar_users(3933)[:5]))\n",
    "print(\"The 3 most similar users to user 46 are: {}\".format(find_similar_users(46)[:3]))"
   ]
  },
  {
   "cell_type": "markdown",
   "metadata": {},
   "source": [
    "`3.` Now that you have a function that provides the most similar users to each user, you will want to use these users to find articles you can recommend.  Complete the functions below to return the articles you would recommend to each user. "
   ]
  },
  {
   "cell_type": "code",
   "execution_count": 21,
   "metadata": {},
   "outputs": [],
   "source": [
    "#set(user_item.columns[user_item.loc[1]==1].values)\n"
   ]
  },
  {
   "cell_type": "code",
   "execution_count": 22,
   "metadata": {},
   "outputs": [],
   "source": [
    "def get_article_names(article_ids, df=df):\n",
    "    '''\n",
    "    INPUT:\n",
    "    article_ids - (list) a list of article ids\n",
    "    df - (pandas dataframe) df as defined at the top of the notebook\n",
    "    \n",
    "    OUTPUT:\n",
    "    article_names - (list) a list of article names associated with the list of article ids \n",
    "                    (this is identified by the title column)\n",
    "    '''\n",
    "    grouped_articles = df.groupby('article_id')['title'].first()\n",
    "    article_names = [grouped_articles[float(i)] for i in article_ids]\n",
    "    \n",
    "    return article_names # Return the article names associated with list of article ids\n",
    "\n",
    "\n",
    "def get_user_articles(user_id, user_item=user_item):\n",
    "    '''\n",
    "    INPUT:\n",
    "    user_id - (int) a user id\n",
    "    user_item - (pandas dataframe) matrix of users by articles: \n",
    "                1's when a user has interacted with an article, 0 otherwise\n",
    "    \n",
    "    OUTPUT:\n",
    "    article_ids - (list) a list of the article ids seen by the user\n",
    "    article_names - (list) a list of article names associated with the list of article ids \n",
    "                    (this is identified by the doc_full_name column in df_content)\n",
    "    \n",
    "    Description:\n",
    "    Provides a list of the article_ids and article titles that have been seen by a user\n",
    "    '''\n",
    "    # Your code here\n",
    "    article_ids = list(df.set_index('user_id').loc[user_id]['article_id'].astype(str).values)\n",
    "    article_names = list(df.set_index('user_id').loc[user_id]['title'].values)\n",
    "    return article_ids, article_names # return the ids and names\n",
    "\n",
    "\n",
    "def user_user_recs(user_id, m=10):\n",
    "    '''\n",
    "    INPUT:\n",
    "    user_id - (int) a user id\n",
    "    m - (int) the number of recommendations you want for the user\n",
    "    \n",
    "    OUTPUT:\n",
    "    recs - (list) a list of recommendations for the user\n",
    "    \n",
    "    Description:\n",
    "    Loops through the users based on closeness to the input user_id\n",
    "    For each user - finds articles the user hasn't seen before and provides them as recs\n",
    "    Does this until m recommendations are found\n",
    "    \n",
    "    Notes:\n",
    "    Users who are the same closeness are chosen arbitrarily as the 'next' user\n",
    "    \n",
    "    For the user where the number of recommended articles starts below m \n",
    "    and ends exceeding m, the last items are chosen arbitrarily\n",
    "    \n",
    "    '''\n",
    "    # Your code here\n",
    "    similar_users = find_similar_users(user_id)\n",
    "    rec_articles = []\n",
    "    sorted_df = df.set_index('user_id')\n",
    "    user_articles_seen = list(sorted_df.loc[user_id]['title'])\n",
    "    for sim_user in similar_users:    \n",
    "        sim_user_article_seen = list(sorted_df.loc[sim_user]['title'])\n",
    "        unseen_articles_for_user = list(set(sim_user_article_seen)-set(user_articles_seen))\n",
    "        if len(rec_articles)<m:\n",
    "            for i in unseen_articles_for_user:\n",
    "                rec_articles.append(i)\n",
    "                if len(rec_articles) >=m:\n",
    "                    break\n",
    "    return rec_articles # return your recommendations for this user_id    "
   ]
  },
  {
   "cell_type": "code",
   "execution_count": 23,
   "metadata": {},
   "outputs": [],
   "source": [
    "# Check Results\n",
    "get_article_names(['1024.0']) # Return 10 recommendations for user 1\n",
    "rec_articles = user_user_recs(10)"
   ]
  },
  {
   "cell_type": "code",
   "execution_count": 24,
   "metadata": {},
   "outputs": [
    {
     "output_type": "stream",
     "name": "stdout",
     "text": "If this is all you see, you passed all of our tests!  Nice job!\n"
    }
   ],
   "source": [
    "# Test your functions here - No need to change this code - just run this cell\n",
    "assert set(get_article_names(['1024.0', '1176.0', '1305.0', '1314.0', '1422.0', '1427.0'])) == set(['using deep learning to reconstruct high-resolution audio', 'build a python app on the streaming analytics service', 'gosales transactions for naive bayes model', 'healthcare python streaming application demo', 'use r dataframes & ibm watson natural language understanding', 'use xgboost, scikit-learn & ibm watson machine learning apis']), \"Oops! Your the get_article_names function doesn't work quite how we expect.\"\n",
    "assert set(get_article_names(['1320.0', '232.0', '844.0'])) == set(['housing (2015): united states demographic measures','self-service data preparation with ibm data refinery','use the cloudant-spark connector in python notebook']), \"Oops! Your the get_article_names function doesn't work quite how we expect.\"\n",
    "assert set(get_user_articles(20)[0]) == set(['1320.0', '232.0', '844.0'])\n",
    "assert set(get_user_articles(20)[1]) == set(['housing (2015): united states demographic measures', 'self-service data preparation with ibm data refinery','use the cloudant-spark connector in python notebook'])\n",
    "assert set(get_user_articles(2)[0]) == set(['1024.0', '1176.0', '1305.0', '1314.0', '1422.0', '1427.0'])\n",
    "assert set(get_user_articles(2)[1]) == set(['using deep learning to reconstruct high-resolution audio', 'build a python app on the streaming analytics service', 'gosales transactions for naive bayes model', 'healthcare python streaming application demo', 'use r dataframes & ibm watson natural language understanding', 'use xgboost, scikit-learn & ibm watson machine learning apis'])\n",
    "print(\"If this is all you see, you passed all of our tests!  Nice job!\")"
   ]
  },
  {
   "cell_type": "markdown",
   "metadata": {},
   "source": [
    "`4.` Now we are going to improve the consistency of the **user_user_recs** function from above.  \n",
    "\n",
    "* Instead of arbitrarily choosing when we obtain users who are all the same closeness to a given user - choose the users that have the most total article interactions before choosing those with fewer article interactions.\n",
    "\n",
    "\n",
    "* Instead of arbitrarily choosing articles from the user where the number of recommended articles starts below m and ends exceeding m, choose articles with the articles with the most total interactions before choosing those with fewer total interactions. This ranking should be  what would be obtained from the **top_articles** function you wrote earlier."
   ]
  },
  {
   "cell_type": "code",
   "execution_count": 25,
   "metadata": {},
   "outputs": [
    {
     "output_type": "execute_result",
     "data": {
      "text/plain": "   article_id                                              title  user_id\n0      1430.0  using pixiedust for fast, flexible, and easier...        1\n1      1314.0       healthcare python streaming application demo        2\n2      1429.0         use deep learning for image classification        3\n3      1338.0          ml optimization using cognitive assistant        4\n4      1276.0          deploy your python model as a restful api        5",
      "text/html": "<div>\n<style scoped>\n    .dataframe tbody tr th:only-of-type {\n        vertical-align: middle;\n    }\n\n    .dataframe tbody tr th {\n        vertical-align: top;\n    }\n\n    .dataframe thead th {\n        text-align: right;\n    }\n</style>\n<table border=\"1\" class=\"dataframe\">\n  <thead>\n    <tr style=\"text-align: right;\">\n      <th></th>\n      <th>article_id</th>\n      <th>title</th>\n      <th>user_id</th>\n    </tr>\n  </thead>\n  <tbody>\n    <tr>\n      <th>0</th>\n      <td>1430.0</td>\n      <td>using pixiedust for fast, flexible, and easier...</td>\n      <td>1</td>\n    </tr>\n    <tr>\n      <th>1</th>\n      <td>1314.0</td>\n      <td>healthcare python streaming application demo</td>\n      <td>2</td>\n    </tr>\n    <tr>\n      <th>2</th>\n      <td>1429.0</td>\n      <td>use deep learning for image classification</td>\n      <td>3</td>\n    </tr>\n    <tr>\n      <th>3</th>\n      <td>1338.0</td>\n      <td>ml optimization using cognitive assistant</td>\n      <td>4</td>\n    </tr>\n    <tr>\n      <th>4</th>\n      <td>1276.0</td>\n      <td>deploy your python model as a restful api</td>\n      <td>5</td>\n    </tr>\n  </tbody>\n</table>\n</div>"
     },
     "metadata": {},
     "execution_count": 25
    }
   ],
   "source": [
    "df.head()"
   ]
  },
  {
   "cell_type": "code",
   "execution_count": 26,
   "metadata": {},
   "outputs": [
    {
     "output_type": "execute_result",
     "data": {
      "text/plain": "         similarity  num_interactions  neighbor_id\nuser_id                                           \n3933           35.0                45         3933\n23             17.0               364           23\n3782           17.0               363         3782\n203            15.0               160          203\n4459           15.0               158         4459\n131            14.0               145          131\n3870           14.0               144         3870\n46             13.0                63           46\n4201           13.0                61         4201\n49             12.0               147           49",
      "text/html": "<div>\n<style scoped>\n    .dataframe tbody tr th:only-of-type {\n        vertical-align: middle;\n    }\n\n    .dataframe tbody tr th {\n        vertical-align: top;\n    }\n\n    .dataframe thead th {\n        text-align: right;\n    }\n</style>\n<table border=\"1\" class=\"dataframe\">\n  <thead>\n    <tr style=\"text-align: right;\">\n      <th></th>\n      <th>similarity</th>\n      <th>num_interactions</th>\n      <th>neighbor_id</th>\n    </tr>\n    <tr>\n      <th>user_id</th>\n      <th></th>\n      <th></th>\n      <th></th>\n    </tr>\n  </thead>\n  <tbody>\n    <tr>\n      <th>3933</th>\n      <td>35.0</td>\n      <td>45</td>\n      <td>3933</td>\n    </tr>\n    <tr>\n      <th>23</th>\n      <td>17.0</td>\n      <td>364</td>\n      <td>23</td>\n    </tr>\n    <tr>\n      <th>3782</th>\n      <td>17.0</td>\n      <td>363</td>\n      <td>3782</td>\n    </tr>\n    <tr>\n      <th>203</th>\n      <td>15.0</td>\n      <td>160</td>\n      <td>203</td>\n    </tr>\n    <tr>\n      <th>4459</th>\n      <td>15.0</td>\n      <td>158</td>\n      <td>4459</td>\n    </tr>\n    <tr>\n      <th>131</th>\n      <td>14.0</td>\n      <td>145</td>\n      <td>131</td>\n    </tr>\n    <tr>\n      <th>3870</th>\n      <td>14.0</td>\n      <td>144</td>\n      <td>3870</td>\n    </tr>\n    <tr>\n      <th>46</th>\n      <td>13.0</td>\n      <td>63</td>\n      <td>46</td>\n    </tr>\n    <tr>\n      <th>4201</th>\n      <td>13.0</td>\n      <td>61</td>\n      <td>4201</td>\n    </tr>\n    <tr>\n      <th>49</th>\n      <td>12.0</td>\n      <td>147</td>\n      <td>49</td>\n    </tr>\n  </tbody>\n</table>\n</div>"
     },
     "metadata": {},
     "execution_count": 26
    }
   ],
   "source": [
    "user_id=1\n",
    "ref_user = user_item.loc[user_id]\n",
    "sim = ref_user.dot(user_item.T).to_frame('similarity')\n",
    "\n",
    "user_ids = sim.index.astype(int)\n",
    "\n",
    "\n",
    "user_interactions = df.groupby('user_id')['user_id'].count().to_frame('num_interactions')\n",
    "sim = sim.join(user_interactions, on='user_id')\n",
    "sim['neighbor_id']=sim.index\n",
    "neighbors_df=sim.sort_values(['similarity','num_interactions'],ascending=[False,False])\n",
    "neighbors_df.drop(user_id).head(10)\n"
   ]
  },
  {
   "cell_type": "code",
   "execution_count": 27,
   "metadata": {},
   "outputs": [],
   "source": [
    "def get_top_sorted_users(user_id, df=df, user_item=user_item):\n",
    "    '''\n",
    "    INPUT:\n",
    "    user_id - (int)\n",
    "    df - (pandas dataframe) df as defined at the top of the notebook \n",
    "    user_item - (pandas dataframe) matrix of users by articles: \n",
    "            1's when a user has interacted with an article, 0 otherwise\n",
    "    \n",
    "            \n",
    "    OUTPUT:\n",
    "    neighbors_df - (pandas dataframe) a dataframe with:\n",
    "                    neighbor_id - is a neighbor user_id\n",
    "                    similarity - measure of the similarity of each user to the provided user_id\n",
    "                    num_interactions - the number of articles viewed by the user - if a u\n",
    "                    \n",
    "    Other Details - sort the neighbors_df by the similarity and then by number of interactions where \n",
    "                    highest of each is higher in the dataframe\n",
    "     \n",
    "    '''\n",
    "    #Your code here\n",
    "    ref_user = user_item.loc[user_id]\n",
    "    sim = ref_user.dot(user_item.T).to_frame('similarity')\n",
    "\n",
    "    user_ids = sim.index.astype(int)\n",
    "\n",
    "\n",
    "    user_interactions = df.groupby('user_id')['user_id'].count().to_frame('num_interactions')\n",
    "    sim = sim.join(user_interactions, on='user_id')\n",
    "    sim['neighbor_id']=sim.index\n",
    "    neighbors_df=sim.sort_values(['similarity','num_interactions'],ascending=[False,False])\n",
    "    neighbors_df = neighbors_df.drop(user_id)\n",
    "    return neighbors_df # Return the dataframe specified in the doc_string\n",
    "\n",
    "\n",
    "def user_user_recs_part2(user_id, m=10):\n",
    "    '''\n",
    "    INPUT:\n",
    "    user_id - (int) a user id\n",
    "    m - (int) the number of recommendations you want for the user\n",
    "    \n",
    "    OUTPUT:\n",
    "    recs - (list) a list of recommendations for the user by article id\n",
    "    rec_names - (list) a list of recommendations for the user by article title\n",
    "    \n",
    "    Description:\n",
    "    Loops through the users based on closeness to the input user_id\n",
    "    For each user - finds articles the user hasn't seen before and provides them as recs\n",
    "    Does this until m recommendations are found\n",
    "    \n",
    "    Notes:\n",
    "    * Choose the users that have the most total article interactions \n",
    "    before choosing those with fewer article interactions.\n",
    "\n",
    "    * Choose articles with the articles with the most total interactions \n",
    "    before choosing those with fewer total interactions. \n",
    "   \n",
    "    '''\n",
    "    # Your code here\n",
    "    #get ordered dataframe of similar users, ordered by similarity and numer of interactions\n",
    "    neighbors_df = get_top_sorted_users(user_id, df=df, user_item=user_item)\n",
    "    \n",
    "    #get dataframe df with number of interactions for each article sorted by number of interactions\n",
    "    import copy\n",
    "    df.set_index('user_id').head()\n",
    "    df_w_num_interactions = copy.deepcopy(df)\n",
    "    article_ids_w_num_interactions = df.groupby(['article_id'])['article_id'].count().sort_values(ascending=False).to_frame('num_interactions')\n",
    "    df_w_num_interactions = df_w_num_interactions.join(article_ids_w_num_interactions, on='article_id')\n",
    "    df_w_num_interactions = df_w_num_interactions.sort_values('num_interactions', ascending=False)\n",
    "    df_w_num_interactions = df_w_num_interactions.set_index('user_id')\n",
    "    \n",
    "    rec_names = []\n",
    "    recs =[]\n",
    "    user_articles_seen = list(df_w_num_interactions.loc[user_id]['title'])\n",
    "    similar_users = find_similar_users(user_id)\n",
    "    for sim_user in similar_users:    \n",
    "        sim_user_article_seen = list(df_w_num_interactions.loc[sim_user]['title'])\n",
    "        unseen_articles_for_user = list(set(sim_user_article_seen)-set(user_articles_seen))\n",
    "        if len(rec_names)<m:\n",
    "            for i in range(len(unseen_articles_for_user)):\n",
    "                rec_names.append(unseen_articles_for_user[i])\n",
    "                recs.append(df.groupby('title')['article_id'].first().loc[unseen_articles_for_user[i]])\n",
    "                if len(rec_names) >=m:\n",
    "                    break\n",
    "    \n",
    "    return recs, rec_names\n"
   ]
  },
  {
   "cell_type": "code",
   "execution_count": 28,
   "metadata": {},
   "outputs": [
    {
     "output_type": "stream",
     "name": "stdout",
     "text": "The top 10 recommendations for user 20 are the following article ids:\n[1386.0, 1314.0, 225.0, 1364.0, 337.0, 1400.0, 164.0, 1397.0, 967.0, 1429.0]\n\nThe top 10 recommendations for user 20 are the following article names:\n['small steps to tensorflow', 'healthcare python streaming application demo', 'a visual explanation of the back propagation algorithm for neural networks', 'predicting churn with the spss random tree algorithm', 'generalization in deep learning', 'uci ml repository: chronic kidney disease data set', 'learn tensorflow and deep learning together and now!', 'total employment, by economic activity (thousands)', 'ml algorithm != learning machine', 'use deep learning for image classification']\n"
    }
   ],
   "source": [
    "# Quick spot check - don't change this code - just use it to test your functions\n",
    "rec_ids, rec_names = user_user_recs_part2(20, 10)\n",
    "print(\"The top 10 recommendations for user 20 are the following article ids:\")\n",
    "print(rec_ids)\n",
    "print()\n",
    "print(\"The top 10 recommendations for user 20 are the following article names:\")\n",
    "print(rec_names)"
   ]
  },
  {
   "cell_type": "markdown",
   "metadata": {},
   "source": [
    "`5.` Use your functions from above to correctly fill in the solutions to the dictionary below.  Then test your dictionary against the solution.  Provide the code you need to answer each following the comments below."
   ]
  },
  {
   "cell_type": "code",
   "execution_count": 29,
   "metadata": {},
   "outputs": [
    {
     "output_type": "stream",
     "name": "stdout",
     "text": "similarity            35.0\nnum_interactions      45.0\nneighbor_id         3933.0\nName: 3933, dtype: float64\nsimilarity            25.0\nnum_interactions     147.0\nneighbor_id         3910.0\nName: 3910, dtype: float64\n"
    }
   ],
   "source": [
    "print(get_top_sorted_users(1).iloc[0])\n",
    "print(get_top_sorted_users(131).iloc[10])"
   ]
  },
  {
   "cell_type": "code",
   "execution_count": 30,
   "metadata": {},
   "outputs": [
    {
     "output_type": "stream",
     "name": "stdout",
     "text": "This all looks good!  Nice job!\n"
    }
   ],
   "source": [
    "## Dictionary Test Here\n",
    "sol_5_dict = {\n",
    "    'The user that is most similar to user 1.': 3933.0, \n",
    "    'The user that is the 10th most similar to user 131': 242.0,\n",
    "}\n",
    "\n",
    "t.sol_5_test(sol_5_dict)"
   ]
  },
  {
   "cell_type": "markdown",
   "metadata": {},
   "source": [
    "`6.` If we were given a new user, which of the above functions would you be able to use to make recommendations?  Explain.  Can you think of a better way we might make recommendations?  Use the cell below to explain a better method for new users."
   ]
  },
  {
   "cell_type": "markdown",
   "metadata": {},
   "source": [
    "Since this the introduction of a new user is a cold start problem, Collaborative Filtering is not applicable. It would be better to use Rank Based Methods and recommand the most popular articles."
   ]
  },
  {
   "cell_type": "markdown",
   "metadata": {},
   "source": [
    "`7.` Using your existing functions, provide the top 10 recommended articles you would provide for the a new user below.  You can test your function against our thoughts to make sure we are all on the same page with how we might make a recommendation."
   ]
  },
  {
   "cell_type": "code",
   "execution_count": 31,
   "metadata": {},
   "outputs": [],
   "source": [
    "new_user = '0.0'\n",
    "\n",
    "# What would your recommendations be for this new user '0.0'?  As a new user, they have no observed articles.\n",
    "# Provide a list of the top 10 article ids you would give to \n",
    "# Use a Rank Based Method and recommand the most popular articles\n",
    "new_user_recs = get_top_article_ids(10)# Your recommendations here\n",
    "new_user_recs = [str(i) for i in new_user_recs]\n"
   ]
  },
  {
   "cell_type": "code",
   "execution_count": 32,
   "metadata": {},
   "outputs": [
    {
     "output_type": "execute_result",
     "data": {
      "text/plain": "['1429.0',\n '1330.0',\n '1431.0',\n '1427.0',\n '1364.0',\n '1314.0',\n '1293.0',\n '1170.0',\n '1162.0',\n '1304.0']"
     },
     "metadata": {},
     "execution_count": 32
    }
   ],
   "source": [
    "new_user_recs"
   ]
  },
  {
   "cell_type": "code",
   "execution_count": 33,
   "metadata": {},
   "outputs": [
    {
     "output_type": "stream",
     "name": "stdout",
     "text": "That's right!  Nice job!\n"
    }
   ],
   "source": [
    "assert set(new_user_recs) == set(['1314.0','1429.0','1293.0','1427.0','1162.0','1364.0','1304.0','1170.0','1431.0','1330.0']), \"Oops!  It makes sense that in this case we would want to recommend the most popular articles, because we don't know anything about these users.\"\n",
    "\n",
    "print(\"That's right!  Nice job!\")"
   ]
  },
  {
   "cell_type": "markdown",
   "metadata": {},
   "source": [
    "### <a class=\"anchor\" id=\"Content-Recs\">Part IV: Content Based Recommendations (EXTRA - NOT REQUIRED)</a>\n",
    "\n",
    "Another method we might use to make recommendations is to perform a ranking of the highest ranked articles associated with some term.  You might consider content to be the **doc_body**, **doc_description**, or **doc_full_name**.  There isn't one way to create a content based recommendation, especially considering that each of these columns hold content related information.  \n",
    "\n",
    "`1.` Use the function body below to create a content based recommender.  Since there isn't one right answer for this recommendation tactic, no test functions are provided.  Feel free to change the function inputs if you decide you want to try a method that requires more input values.  The input values are currently set with one idea in mind that you may use to make content based recommendations.  One additional idea is that you might want to choose the most popular recommendations that meet your 'content criteria', but again, there is a lot of flexibility in how you might make these recommendations.\n",
    "\n",
    "### This part is NOT REQUIRED to pass this project.  However, you may choose to take this on as an extra way to show off your skills."
   ]
  },
  {
   "cell_type": "code",
   "execution_count": 34,
   "metadata": {
    "collapsed": true
   },
   "outputs": [],
   "source": []
  },
  {
   "cell_type": "code",
   "execution_count": 259,
   "metadata": {},
   "outputs": [],
   "source": [
    "# Join dataframes df and df_content\n",
    "df_merged = df_content.join(df.groupby('article_id').first(), on = 'article_id')\n",
    "# Fill missing NaN values for doc full name and doc description with ''\n",
    "df_merged['title']=df_merged['title'].fillna('')\n",
    "df_merged.head()\n",
    "# Add title to doc full name and doc description\n",
    "df_merged['title_full_name']=df_merged['title']+' '+df_merged['doc_full_name']#+' '+df_merged['doc_description']\n",
    "article_text = df_merged['title_full_name'].values"
   ]
  },
  {
   "cell_type": "code",
   "execution_count": 260,
   "metadata": {
    "tags": [
     "outputPrepend",
     "outputPrepend",
     "outputPrepend",
     "outputPrepend",
     "outputPrepend",
     "outputPrepend",
     "outputPrepend",
     "outputPrepend",
     "outputPrepend",
     "outputPrepend",
     "outputPrepend",
     "outputPrepend",
     "outputPrepend",
     "outputPrepend",
     "outputPrepend",
     "outputPrepend",
     "outputPrepend",
     "outputPrepend",
     "outputPrepend",
     "outputPrepend",
     "outputPrepend",
     "outputPrepend",
     "outputPrepend",
     "outputPrepend",
     "outputPrepend",
     "outputPrepend",
     "outputPrepend",
     "outputPrepend",
     "outputPrepend",
     "outputPrepend",
     "outputPrepend",
     "outputPrepend",
     "outputPrepend",
     "outputPrepend",
     "outputPrepend",
     "outputPrepend",
     "outputPrepend",
     "outputPrepend",
     "outputPrepend",
     "outputPrepend",
     "outputPrepend",
     "outputPrepend",
     "outputPrepend",
     "outputPrepend",
     "outputPrepend",
     "outputPrepend",
     "outputPrepend",
     "outputPrepend",
     "outputPrepend",
     "outputPrepend",
     "outputPrepend",
     "outputPrepend",
     "outputPrepend",
     "outputPrepend",
     "outputPrepend",
     "outputPrepend",
     "outputPrepend",
     "outputPrepend",
     "outputPrepend"
    ]
   },
   "outputs": [
    {
     "output_type": "stream",
     "name": "stderr",
     "text": "100%|██████████| 1051/1051 [00:09<00:00, 112.21it/s]\n"
    }
   ],
   "source": [
    "#clean data\n",
    "import spacy\n",
    "import re\n",
    "import en_core_web_sm\n",
    "from tqdm import tqdm\n",
    "nlp = en_core_web_sm.load()\n",
    "from spacy.lang.en.stop_words import STOP_WORDS\n",
    "\n",
    "# add custom stop words\n",
    "customize_stop_words = [\n",
    "    ' ','nan','   ',\n",
    "]\n",
    "\n",
    "article_text_cleaned = []\n",
    "for text in tqdm(article_text):\n",
    "    # remove punctuations\n",
    "    text=str(text)\n",
    "    text = re.sub(r'[^\\w\\s]','',text.lower())\n",
    "    full_text =[]\n",
    "    for token in nlp(text):\n",
    "        if token.lemma_ not in STOP_WORDS and token.lemma_ not in customize_stop_words and token.is_digit == False :\n",
    "            full_text.append(token.lemma_)\n",
    "    full_text = list(set(full_text)) # remove dublicates\n",
    "    article_text_cleaned.append(full_text)"
   ]
  },
  {
   "cell_type": "code",
   "execution_count": 261,
   "metadata": {},
   "outputs": [],
   "source": [
    "# Train Word2Vec model to be able to measure similarties of words\n",
    "from gensim.models import Word2Vec\n",
    "model = Word2Vec(article_text_cleaned, min_count=1, size =32)"
   ]
  },
  {
   "cell_type": "code",
   "execution_count": 262,
   "metadata": {},
   "outputs": [
    {
     "output_type": "execute_result",
     "data": {
      "text/plain": "['analytic', 'stream', 'iot', 'sensor', 'detect', 'malfunction']"
     },
     "metadata": {},
     "execution_count": 262
    }
   ],
   "source": [
    "article_text_cleaned[0]"
   ]
  },
  {
   "cell_type": "code",
   "execution_count": 263,
   "metadata": {},
   "outputs": [],
   "source": [
    "# assign to new column\n",
    "df_merged['title_full_name_cleaned']=article_text_cleaned"
   ]
  },
  {
   "cell_type": "code",
   "execution_count": 264,
   "metadata": {},
   "outputs": [
    {
     "output_type": "stream",
     "name": "stdout",
     "text": "[('lab', 0.5420099496841431), ('cross', 0.5310408473014832), ('datum', 0.5214220285415649), ('roadmap', 0.5127728581428528), ('webhook', 0.49010440707206726), ('effectively', 0.4857243597507477), ('serverless', 0.4794703722000122), ('tutorial', 0.47601526975631714), ('title', 0.47281280159950256), ('dtype', 0.47101521492004395)]\n-0.0210253\n"
    }
   ],
   "source": [
    "# Test\n",
    "# Most similar word to ibm\n",
    "print(model.most_similar('python'))\n",
    "# Similarity measurements of two words\n",
    "print(model.similarity('science','ibm'))"
   ]
  },
  {
   "cell_type": "code",
   "execution_count": 204,
   "metadata": {
    "tags": [
     "outputPrepend",
     "outputPrepend",
     "outputPrepend",
     "outputPrepend",
     "outputPrepend",
     "outputPrepend",
     "outputPrepend",
     "outputPrepend",
     "outputPrepend",
     "outputPrepend",
     "outputPrepend",
     "outputPrepend",
     "outputPrepend",
     "outputPrepend",
     "outputPrepend",
     "outputPrepend",
     "outputPrepend",
     "outputPrepend",
     "outputPrepend",
     "outputPrepend",
     "outputPrepend",
     "outputPrepend",
     "outputPrepend",
     "outputPrepend",
     "outputPrepend",
     "outputPrepend",
     "outputPrepend",
     "outputPrepend",
     "outputPrepend",
     "outputPrepend",
     "outputPrepend",
     "outputPrepend",
     "outputPrepend",
     "outputPrepend",
     "outputPrepend",
     "outputPrepend",
     "outputPrepend",
     "outputPrepend",
     "outputPrepend",
     "outputPrepend",
     "outputPrepend",
     "outputPrepend",
     "outputPrepend",
     "outputPrepend",
     "outputPrepend",
     "outputPrepend",
     "outputPrepend"
    ]
   },
   "outputs": [
    {
     "output_type": "stream",
     "name": "stderr",
     "text": "1051it [18:11,  1.04s/it]\n"
    }
   ],
   "source": [
    "article_ids = df_merged['article_id'].unique()\n",
    "# Calculate content similartiy of each content pair, produce \n",
    "content_similarity_df = pd.DataFrame()\n",
    "for i, article_id in tqdm(enumerate(article_ids)):\n",
    "    article_text = df_merged[df_merged['article_id']==article_id]['title_full_name_cleaned'].values\n",
    "    for article_id_ in article_ids[i:]: # due to symetry only half of the matrix has to be calculated \n",
    "        article_text_ = df_merged[df_merged['article_id']==article_id_]['title_full_name_cleaned'].values\n",
    "        # Calculate similarity of each token in article_id with with each token in article_id_\n",
    "        text_similarity = 0\n",
    "        for token in article_text[0]:\n",
    "            for token_ in article_text_[0]:\n",
    "                text_similarity += model.similarity(token,token_)\n",
    "        text_similarity = text_similarity/(len(article_text[0])+len(article_text_[0]))\n",
    "        content_similarity_df.at[article_id, article_id_] = text_similarity\n"
   ]
  },
  {
   "cell_type": "code",
   "execution_count": 211,
   "metadata": {},
   "outputs": [
    {
     "output_type": "execute_result",
     "data": {
      "text/plain": "       0         1         2         3         4         5         6     \\\n0  0.405101  0.846505  0.367517  0.704686  0.531530  0.025047  0.256879   \n1  0.846505  0.921424  1.892880  1.485319  2.429351  1.375102  0.748756   \n2  0.367517  1.892880  0.582598  1.288420  1.866527  1.133661  0.462611   \n3  0.704686  1.485319  1.288420  0.877617  2.435151  1.345029  0.758787   \n4  0.531530  2.429351  1.866527  2.435151  1.070096  2.193098  0.933541   \n\n       7         8         9     ...      1041      1042      1043      1044  \\\n0 -0.075436  0.464801  0.254327  ...  0.155799  0.500662  0.894769 -0.206067   \n1  0.475035  1.808376  1.714969  ...  2.088908  2.374186  1.400744  0.043273   \n2  0.738550  1.641700  1.043152  ...  1.460524  1.998377  1.175238 -0.095738   \n3  0.500715  1.051806  2.469525  ...  1.961849  1.874877  1.456217  0.264696   \n4  0.707738  1.732811  2.354937  ...  3.049951  3.031624  1.565939  0.142946   \n\n       1045      1046      1047      1048      1049      1050  \n0  0.264660  0.071388  0.496047 -0.018474  0.318283  0.168148  \n1  0.924582 -0.430105 -0.109230  1.745772  1.582576  1.525769  \n2  0.223320 -0.451661  0.039598  1.005876  1.557907  0.812462  \n3  1.039593  0.036097 -0.099795  1.770501  1.757905  1.322346  \n4  0.684929 -0.299846  0.048911  2.295081  2.494670  1.527377  \n\n[5 rows x 1051 columns]",
      "text/html": "<div>\n<style scoped>\n    .dataframe tbody tr th:only-of-type {\n        vertical-align: middle;\n    }\n\n    .dataframe tbody tr th {\n        vertical-align: top;\n    }\n\n    .dataframe thead th {\n        text-align: right;\n    }\n</style>\n<table border=\"1\" class=\"dataframe\">\n  <thead>\n    <tr style=\"text-align: right;\">\n      <th></th>\n      <th>0</th>\n      <th>1</th>\n      <th>2</th>\n      <th>3</th>\n      <th>4</th>\n      <th>5</th>\n      <th>6</th>\n      <th>7</th>\n      <th>8</th>\n      <th>9</th>\n      <th>...</th>\n      <th>1041</th>\n      <th>1042</th>\n      <th>1043</th>\n      <th>1044</th>\n      <th>1045</th>\n      <th>1046</th>\n      <th>1047</th>\n      <th>1048</th>\n      <th>1049</th>\n      <th>1050</th>\n    </tr>\n  </thead>\n  <tbody>\n    <tr>\n      <th>0</th>\n      <td>0.405101</td>\n      <td>0.846505</td>\n      <td>0.367517</td>\n      <td>0.704686</td>\n      <td>0.531530</td>\n      <td>0.025047</td>\n      <td>0.256879</td>\n      <td>-0.075436</td>\n      <td>0.464801</td>\n      <td>0.254327</td>\n      <td>...</td>\n      <td>0.155799</td>\n      <td>0.500662</td>\n      <td>0.894769</td>\n      <td>-0.206067</td>\n      <td>0.264660</td>\n      <td>0.071388</td>\n      <td>0.496047</td>\n      <td>-0.018474</td>\n      <td>0.318283</td>\n      <td>0.168148</td>\n    </tr>\n    <tr>\n      <th>1</th>\n      <td>0.846505</td>\n      <td>0.921424</td>\n      <td>1.892880</td>\n      <td>1.485319</td>\n      <td>2.429351</td>\n      <td>1.375102</td>\n      <td>0.748756</td>\n      <td>0.475035</td>\n      <td>1.808376</td>\n      <td>1.714969</td>\n      <td>...</td>\n      <td>2.088908</td>\n      <td>2.374186</td>\n      <td>1.400744</td>\n      <td>0.043273</td>\n      <td>0.924582</td>\n      <td>-0.430105</td>\n      <td>-0.109230</td>\n      <td>1.745772</td>\n      <td>1.582576</td>\n      <td>1.525769</td>\n    </tr>\n    <tr>\n      <th>2</th>\n      <td>0.367517</td>\n      <td>1.892880</td>\n      <td>0.582598</td>\n      <td>1.288420</td>\n      <td>1.866527</td>\n      <td>1.133661</td>\n      <td>0.462611</td>\n      <td>0.738550</td>\n      <td>1.641700</td>\n      <td>1.043152</td>\n      <td>...</td>\n      <td>1.460524</td>\n      <td>1.998377</td>\n      <td>1.175238</td>\n      <td>-0.095738</td>\n      <td>0.223320</td>\n      <td>-0.451661</td>\n      <td>0.039598</td>\n      <td>1.005876</td>\n      <td>1.557907</td>\n      <td>0.812462</td>\n    </tr>\n    <tr>\n      <th>3</th>\n      <td>0.704686</td>\n      <td>1.485319</td>\n      <td>1.288420</td>\n      <td>0.877617</td>\n      <td>2.435151</td>\n      <td>1.345029</td>\n      <td>0.758787</td>\n      <td>0.500715</td>\n      <td>1.051806</td>\n      <td>2.469525</td>\n      <td>...</td>\n      <td>1.961849</td>\n      <td>1.874877</td>\n      <td>1.456217</td>\n      <td>0.264696</td>\n      <td>1.039593</td>\n      <td>0.036097</td>\n      <td>-0.099795</td>\n      <td>1.770501</td>\n      <td>1.757905</td>\n      <td>1.322346</td>\n    </tr>\n    <tr>\n      <th>4</th>\n      <td>0.531530</td>\n      <td>2.429351</td>\n      <td>1.866527</td>\n      <td>2.435151</td>\n      <td>1.070096</td>\n      <td>2.193098</td>\n      <td>0.933541</td>\n      <td>0.707738</td>\n      <td>1.732811</td>\n      <td>2.354937</td>\n      <td>...</td>\n      <td>3.049951</td>\n      <td>3.031624</td>\n      <td>1.565939</td>\n      <td>0.142946</td>\n      <td>0.684929</td>\n      <td>-0.299846</td>\n      <td>0.048911</td>\n      <td>2.295081</td>\n      <td>2.494670</td>\n      <td>1.527377</td>\n    </tr>\n  </tbody>\n</table>\n<p>5 rows × 1051 columns</p>\n</div>"
     },
     "metadata": {},
     "execution_count": 211
    }
   ],
   "source": [
    "content_similarity_df.head()"
   ]
  },
  {
   "cell_type": "code",
   "execution_count": 265,
   "metadata": {},
   "outputs": [],
   "source": [
    "# Fill missing values based on similarty\n",
    "content_similarity_df=content_similarity_df.fillna(0)\n",
    "X=content_similarity_df.values\n",
    "X = X.T + X - np.diag(np.diag(X))\n",
    "content_similarity_df = pd.DataFrame(X, columns = content_similarity_df.columns, index =content_similarity_df.index)\n",
    "# Save similarity matrix as pickle\n",
    "pickle.dump(content_similarity_df, open('content_similarty_matrix.p','wb'))"
   ]
  },
  {
   "cell_type": "code",
   "execution_count": 208,
   "metadata": {},
   "outputs": [
    {
     "output_type": "execute_result",
     "data": {
      "text/plain": "          0         1         2         3         4         5         6     \\\n0     0.405101  0.211626  0.091879  0.176171  0.132883  0.006262  0.064220   \n1     0.211626  0.921424  0.473220  0.371330  0.607338  0.343776  0.187189   \n2     0.091879  0.473220  0.582598  0.322105  0.466632  0.283415  0.115653   \n3     0.176171  0.371330  0.322105  0.877617  0.608788  0.336257  0.189697   \n4     0.132883  0.607338  0.466632  0.608788  1.070096  0.548275  0.233385   \n...        ...       ...       ...       ...       ...       ...       ...   \n1046  0.017847 -0.107526 -0.112915  0.009024 -0.074961  0.002419  0.087126   \n1047  0.124012 -0.027308  0.009899 -0.024949  0.012228  0.096001  0.080646   \n1048 -0.004618  0.436443  0.251469  0.442625  0.573770  0.486295  0.236795   \n1049  0.079571  0.395644  0.389477  0.439476  0.623667  0.456474  0.275470   \n1050  0.042037  0.381442  0.203116  0.330587  0.381844  0.331185  0.215411   \n\n          7         8         9     ...      1041      1042      1043  \\\n0    -0.018859  0.116200  0.063582  ...  0.038950  0.125166  0.223692   \n1     0.118759  0.452094  0.428742  ...  0.522227  0.593546  0.350186   \n2     0.184638  0.410425  0.260788  ...  0.365131  0.499594  0.293810   \n3     0.125179  0.262951  0.617381  ...  0.490462  0.468719  0.364054   \n4     0.176935  0.433203  0.588734  ...  0.762488  0.757906  0.391485   \n...        ...       ...       ...  ...       ...       ...       ...   \n1046 -0.048133  0.031081  0.041673  ...  0.067344  0.017421 -0.105494   \n1047  0.012743  0.032404 -0.054369  ... -0.012820 -0.041290  0.060185   \n1048  0.229993  0.287329  0.739639  ...  0.779323  0.675457  0.362149   \n1049  0.097447  0.376421  0.435465  ...  0.506741  0.544438  0.242049   \n1050  0.083971  0.167248  0.454572  ...  0.461422  0.305138  0.263806   \n\n          1044      1045      1046      1047      1048      1049      1050  \n0    -0.051517  0.066165  0.017847  0.124012 -0.004618  0.079571  0.042037  \n1     0.010818  0.231145 -0.107526 -0.027308  0.436443  0.395644  0.381442  \n2    -0.023934  0.055830 -0.112915  0.009899  0.251469  0.389477  0.203116  \n3     0.066174  0.259898  0.009024 -0.024949  0.442625  0.439476  0.330587  \n4     0.035736  0.171232 -0.074961  0.012228  0.573770  0.623667  0.381844  \n...        ...       ...       ...       ...       ...       ...       ...  \n1046  0.061396 -0.032868  0.478038  0.021954  0.078261  0.029754  0.032544  \n1047  0.076902  0.055932  0.021954  0.532540  0.032880 -0.037674 -0.037662  \n1048  0.088128  0.139048  0.078261  0.032880  1.280235  0.354550  0.541587  \n1049 -0.034598  0.086357  0.029754 -0.037674  0.354550  0.674840  0.255096  \n1050  0.090400  0.047956  0.032544 -0.037662  0.541587  0.255096  0.699373  \n\n[1051 rows x 1051 columns]",
      "text/html": "<div>\n<style scoped>\n    .dataframe tbody tr th:only-of-type {\n        vertical-align: middle;\n    }\n\n    .dataframe tbody tr th {\n        vertical-align: top;\n    }\n\n    .dataframe thead th {\n        text-align: right;\n    }\n</style>\n<table border=\"1\" class=\"dataframe\">\n  <thead>\n    <tr style=\"text-align: right;\">\n      <th></th>\n      <th>0</th>\n      <th>1</th>\n      <th>2</th>\n      <th>3</th>\n      <th>4</th>\n      <th>5</th>\n      <th>6</th>\n      <th>7</th>\n      <th>8</th>\n      <th>9</th>\n      <th>...</th>\n      <th>1041</th>\n      <th>1042</th>\n      <th>1043</th>\n      <th>1044</th>\n      <th>1045</th>\n      <th>1046</th>\n      <th>1047</th>\n      <th>1048</th>\n      <th>1049</th>\n      <th>1050</th>\n    </tr>\n  </thead>\n  <tbody>\n    <tr>\n      <th>0</th>\n      <td>0.405101</td>\n      <td>0.211626</td>\n      <td>0.091879</td>\n      <td>0.176171</td>\n      <td>0.132883</td>\n      <td>0.006262</td>\n      <td>0.064220</td>\n      <td>-0.018859</td>\n      <td>0.116200</td>\n      <td>0.063582</td>\n      <td>...</td>\n      <td>0.038950</td>\n      <td>0.125166</td>\n      <td>0.223692</td>\n      <td>-0.051517</td>\n      <td>0.066165</td>\n      <td>0.017847</td>\n      <td>0.124012</td>\n      <td>-0.004618</td>\n      <td>0.079571</td>\n      <td>0.042037</td>\n    </tr>\n    <tr>\n      <th>1</th>\n      <td>0.211626</td>\n      <td>0.921424</td>\n      <td>0.473220</td>\n      <td>0.371330</td>\n      <td>0.607338</td>\n      <td>0.343776</td>\n      <td>0.187189</td>\n      <td>0.118759</td>\n      <td>0.452094</td>\n      <td>0.428742</td>\n      <td>...</td>\n      <td>0.522227</td>\n      <td>0.593546</td>\n      <td>0.350186</td>\n      <td>0.010818</td>\n      <td>0.231145</td>\n      <td>-0.107526</td>\n      <td>-0.027308</td>\n      <td>0.436443</td>\n      <td>0.395644</td>\n      <td>0.381442</td>\n    </tr>\n    <tr>\n      <th>2</th>\n      <td>0.091879</td>\n      <td>0.473220</td>\n      <td>0.582598</td>\n      <td>0.322105</td>\n      <td>0.466632</td>\n      <td>0.283415</td>\n      <td>0.115653</td>\n      <td>0.184638</td>\n      <td>0.410425</td>\n      <td>0.260788</td>\n      <td>...</td>\n      <td>0.365131</td>\n      <td>0.499594</td>\n      <td>0.293810</td>\n      <td>-0.023934</td>\n      <td>0.055830</td>\n      <td>-0.112915</td>\n      <td>0.009899</td>\n      <td>0.251469</td>\n      <td>0.389477</td>\n      <td>0.203116</td>\n    </tr>\n    <tr>\n      <th>3</th>\n      <td>0.176171</td>\n      <td>0.371330</td>\n      <td>0.322105</td>\n      <td>0.877617</td>\n      <td>0.608788</td>\n      <td>0.336257</td>\n      <td>0.189697</td>\n      <td>0.125179</td>\n      <td>0.262951</td>\n      <td>0.617381</td>\n      <td>...</td>\n      <td>0.490462</td>\n      <td>0.468719</td>\n      <td>0.364054</td>\n      <td>0.066174</td>\n      <td>0.259898</td>\n      <td>0.009024</td>\n      <td>-0.024949</td>\n      <td>0.442625</td>\n      <td>0.439476</td>\n      <td>0.330587</td>\n    </tr>\n    <tr>\n      <th>4</th>\n      <td>0.132883</td>\n      <td>0.607338</td>\n      <td>0.466632</td>\n      <td>0.608788</td>\n      <td>1.070096</td>\n      <td>0.548275</td>\n      <td>0.233385</td>\n      <td>0.176935</td>\n      <td>0.433203</td>\n      <td>0.588734</td>\n      <td>...</td>\n      <td>0.762488</td>\n      <td>0.757906</td>\n      <td>0.391485</td>\n      <td>0.035736</td>\n      <td>0.171232</td>\n      <td>-0.074961</td>\n      <td>0.012228</td>\n      <td>0.573770</td>\n      <td>0.623667</td>\n      <td>0.381844</td>\n    </tr>\n    <tr>\n      <th>...</th>\n      <td>...</td>\n      <td>...</td>\n      <td>...</td>\n      <td>...</td>\n      <td>...</td>\n      <td>...</td>\n      <td>...</td>\n      <td>...</td>\n      <td>...</td>\n      <td>...</td>\n      <td>...</td>\n      <td>...</td>\n      <td>...</td>\n      <td>...</td>\n      <td>...</td>\n      <td>...</td>\n      <td>...</td>\n      <td>...</td>\n      <td>...</td>\n      <td>...</td>\n      <td>...</td>\n    </tr>\n    <tr>\n      <th>1046</th>\n      <td>0.017847</td>\n      <td>-0.107526</td>\n      <td>-0.112915</td>\n      <td>0.009024</td>\n      <td>-0.074961</td>\n      <td>0.002419</td>\n      <td>0.087126</td>\n      <td>-0.048133</td>\n      <td>0.031081</td>\n      <td>0.041673</td>\n      <td>...</td>\n      <td>0.067344</td>\n      <td>0.017421</td>\n      <td>-0.105494</td>\n      <td>0.061396</td>\n      <td>-0.032868</td>\n      <td>0.478038</td>\n      <td>0.021954</td>\n      <td>0.078261</td>\n      <td>0.029754</td>\n      <td>0.032544</td>\n    </tr>\n    <tr>\n      <th>1047</th>\n      <td>0.124012</td>\n      <td>-0.027308</td>\n      <td>0.009899</td>\n      <td>-0.024949</td>\n      <td>0.012228</td>\n      <td>0.096001</td>\n      <td>0.080646</td>\n      <td>0.012743</td>\n      <td>0.032404</td>\n      <td>-0.054369</td>\n      <td>...</td>\n      <td>-0.012820</td>\n      <td>-0.041290</td>\n      <td>0.060185</td>\n      <td>0.076902</td>\n      <td>0.055932</td>\n      <td>0.021954</td>\n      <td>0.532540</td>\n      <td>0.032880</td>\n      <td>-0.037674</td>\n      <td>-0.037662</td>\n    </tr>\n    <tr>\n      <th>1048</th>\n      <td>-0.004618</td>\n      <td>0.436443</td>\n      <td>0.251469</td>\n      <td>0.442625</td>\n      <td>0.573770</td>\n      <td>0.486295</td>\n      <td>0.236795</td>\n      <td>0.229993</td>\n      <td>0.287329</td>\n      <td>0.739639</td>\n      <td>...</td>\n      <td>0.779323</td>\n      <td>0.675457</td>\n      <td>0.362149</td>\n      <td>0.088128</td>\n      <td>0.139048</td>\n      <td>0.078261</td>\n      <td>0.032880</td>\n      <td>1.280235</td>\n      <td>0.354550</td>\n      <td>0.541587</td>\n    </tr>\n    <tr>\n      <th>1049</th>\n      <td>0.079571</td>\n      <td>0.395644</td>\n      <td>0.389477</td>\n      <td>0.439476</td>\n      <td>0.623667</td>\n      <td>0.456474</td>\n      <td>0.275470</td>\n      <td>0.097447</td>\n      <td>0.376421</td>\n      <td>0.435465</td>\n      <td>...</td>\n      <td>0.506741</td>\n      <td>0.544438</td>\n      <td>0.242049</td>\n      <td>-0.034598</td>\n      <td>0.086357</td>\n      <td>0.029754</td>\n      <td>-0.037674</td>\n      <td>0.354550</td>\n      <td>0.674840</td>\n      <td>0.255096</td>\n    </tr>\n    <tr>\n      <th>1050</th>\n      <td>0.042037</td>\n      <td>0.381442</td>\n      <td>0.203116</td>\n      <td>0.330587</td>\n      <td>0.381844</td>\n      <td>0.331185</td>\n      <td>0.215411</td>\n      <td>0.083971</td>\n      <td>0.167248</td>\n      <td>0.454572</td>\n      <td>...</td>\n      <td>0.461422</td>\n      <td>0.305138</td>\n      <td>0.263806</td>\n      <td>0.090400</td>\n      <td>0.047956</td>\n      <td>0.032544</td>\n      <td>-0.037662</td>\n      <td>0.541587</td>\n      <td>0.255096</td>\n      <td>0.699373</td>\n    </tr>\n  </tbody>\n</table>\n<p>1051 rows × 1051 columns</p>\n</div>"
     },
     "metadata": {},
     "execution_count": 208
    }
   ],
   "source": [
    "def make_content_recs(user_id, m=10):\n",
    "    '''\n",
    "    INPUT:\n",
    "        user_id: id of user (int or str)\n",
    "        m: number of articles to return (int)\n",
    "    \n",
    "    OUTPUT:\n",
    "        similar_content_titles: titles of similar articles (list)\n",
    "\n",
    "    - loads previously calculated content similarity matrix, that containes the averaged similarity over all cleaned article tiltes and         description\n",
    "    - checks if the user is new, if so, returns list of articles most similar to all other articles\n",
    "    - if the user is listed in df, article ids of articles with the most similar content to the articles with the most interactions are         appended to the output list\n",
    "    '''\n",
    "    user_id = float(user_id)\n",
    "    content_similarity_df = pickle.load(open('content_similarty_matrix.p','rb'))\n",
    "\n",
    "    # check if user_id in df\n",
    "    if user_id not in df['user_id'] # new user\n",
    "        similar_article_ids = list(content_similarity_df.sum(axis=1).sort_values(ascending=False).index[:m])\n",
    "        similar_content_titles = df_merged.groupby('article_id')['title_full_name'].first()[similar_article_ids].to_list()\n",
    "    else:\n",
    "        seen_articles_id = df[df['user_id']==1]['article_id'].unique() # get seen articles ids as list\n",
    "        seen_articles_id = df.groupby('article_id')['user_id'].count()[seen_articles_id].sort_values(ascending=False) # get seen articles ids sorted by most interactios as id\n",
    "        for id in seen_articles_id:\n",
    "            similar_article_ids = content_similarity_df[0.0].drop(1.0).sort_values(ascending=False).index[:10].to_list() # get 10 (arbitrary) articles with most similar content\n",
    "            for id_ in similar_article_ids:\n",
    "                if id_x not in seen_articles_id:\n",
    "                    \n",
    "                \n"
   ]
  },
  {
   "cell_type": "code",
   "execution_count": 280,
   "metadata": {},
   "outputs": [
    {
     "output_type": "execute_result",
     "data": {
      "text/plain": "[478, 856, 1024, 310, 878, 521, 341, 524, 575, 923]"
     },
     "metadata": {},
     "execution_count": 280
    }
   ],
   "source": [
    "content_similarity_df[0.0].drop(1.0).sort_values(ascending=False).index[:10].to_list()"
   ]
  },
  {
   "cell_type": "code",
   "execution_count": 268,
   "metadata": {},
   "outputs": [
    {
     "output_type": "execute_result",
     "data": {
      "text/plain": "[' Querying your Cloudant database with SQL – IBM Watson Data Lab – Medium',\n '66855    migration from ibm bluemix data connect api (a...\\nName: title, dtype: object Migration from IBM Bluemix Data Connect API (activities) to IBM Watson Data API (data flows)',\n ' Add Redis To Your Serverless Application – IBM Watson Data Lab – Medium',\n ' Querying Your PouchDB Database with SQL – IBM Watson Data Lab – Medium',\n ' Simple data visualization in Apache CouchDB™ – IBM Watson Data Lab – Medium',\n 'got zip code data? prep it for analytics. – ibm watson data lab – medium Got zip code data? Prep it for analytics. – IBM Watson Data Lab – Medium',\n ' Tell Me Something I Don’t Know – IBM Watson Data Lab – Medium',\n ' How I used serverless infrastructure to build a large-scale petition system – IBM Watson Data Lab',\n 'i am not a data scientist – ibm watson data lab I Am Not a Data Scientist – IBM Watson Data Lab',\n ' Choosing a Cloudant Library – IBM Watson Data Lab – Medium']"
     },
     "metadata": {},
     "execution_count": 268
    }
   ],
   "source": [
    "m = 10\n",
    "similar_article_ids = list(content_similarity_df.sum(axis=1).sort_values(ascending=False).index[:m])\n",
    "similar_content_titles"
   ]
  },
  {
   "cell_type": "code",
   "execution_count": 258,
   "metadata": {},
   "outputs": [
    {
     "output_type": "execute_result",
     "data": {
      "text/plain": "                                            doc_body  \\\n0  Skip navigation Sign in SearchLoading...\\r\\n\\r...   \n1  No Free Hunch Navigation * kaggle.com\\r\\n\\r\\n ...   \n2  ☰ * Login\\r\\n * Sign Up\\r\\n\\r\\n * Learning Pat...   \n3  DATALAYER: HIGH THROUGHPUT, LOW LATENCY AT SCA...   \n4  Skip navigation Sign in SearchLoading...\\r\\n\\r...   \n\n                                     doc_description  \\\n0  Detect bad readings in real time using Python ...   \n1  See the forest, see the trees. Here lies the c...   \n2  Here’s this week’s news in Data Science and Bi...   \n3  Learn how distributed DBs solve the problem of...   \n4  This video demonstrates the power of IBM DataS...   \n\n                                       doc_full_name doc_status  article_id  \\\n0  Detect Malfunctioning IoT Sensors with Streami...       Live           0   \n1  Communicating data science: A guide to present...       Live           1   \n2         This Week in Data Science (April 18, 2017)       Live           2   \n3  DataLayer Conference: Boost the performance of...       Live           3   \n4      Analyze NY Restaurant data using Spark in DSX       Live           4   \n\n                                               title  user_id  \\\n0  detect malfunctioning iot sensors with streami...    495.0   \n1                                                         NaN   \n2         this week in data science (april 18, 2017)    676.0   \n3                                                         NaN   \n4      analyze ny restaurant data using spark in dsx   2345.0   \n\n                         title_full_name_description  \\\n0  detect malfunctioning iot sensors with streami...   \n1   Communicating data science: A guide to presen...   \n2  this week in data science (april 18, 2017) Thi...   \n3   DataLayer Conference: Boost the performance o...   \n4  analyze ny restaurant data using spark in dsx ...   \n\n                             title_full_name_cleaned  \n0  [analytic, stream, iot, sensor, detect, malfun...  \n1  [guide, communicate, -PRON-, present, work, sc...  \n2                      [datum, week, science, april]  \n3  [conference, -PRON-, distribute, boost, databa...  \n4  [analyze, dsx, restaurant, spark, datum, ny, use]  ",
      "text/html": "<div>\n<style scoped>\n    .dataframe tbody tr th:only-of-type {\n        vertical-align: middle;\n    }\n\n    .dataframe tbody tr th {\n        vertical-align: top;\n    }\n\n    .dataframe thead th {\n        text-align: right;\n    }\n</style>\n<table border=\"1\" class=\"dataframe\">\n  <thead>\n    <tr style=\"text-align: right;\">\n      <th></th>\n      <th>doc_body</th>\n      <th>doc_description</th>\n      <th>doc_full_name</th>\n      <th>doc_status</th>\n      <th>article_id</th>\n      <th>title</th>\n      <th>user_id</th>\n      <th>title_full_name_description</th>\n      <th>title_full_name_cleaned</th>\n    </tr>\n  </thead>\n  <tbody>\n    <tr>\n      <th>0</th>\n      <td>Skip navigation Sign in SearchLoading...\\r\\n\\r...</td>\n      <td>Detect bad readings in real time using Python ...</td>\n      <td>Detect Malfunctioning IoT Sensors with Streami...</td>\n      <td>Live</td>\n      <td>0</td>\n      <td>detect malfunctioning iot sensors with streami...</td>\n      <td>495.0</td>\n      <td>detect malfunctioning iot sensors with streami...</td>\n      <td>[analytic, stream, iot, sensor, detect, malfun...</td>\n    </tr>\n    <tr>\n      <th>1</th>\n      <td>No Free Hunch Navigation * kaggle.com\\r\\n\\r\\n ...</td>\n      <td>See the forest, see the trees. Here lies the c...</td>\n      <td>Communicating data science: A guide to present...</td>\n      <td>Live</td>\n      <td>1</td>\n      <td></td>\n      <td>NaN</td>\n      <td>Communicating data science: A guide to presen...</td>\n      <td>[guide, communicate, -PRON-, present, work, sc...</td>\n    </tr>\n    <tr>\n      <th>2</th>\n      <td>☰ * Login\\r\\n * Sign Up\\r\\n\\r\\n * Learning Pat...</td>\n      <td>Here’s this week’s news in Data Science and Bi...</td>\n      <td>This Week in Data Science (April 18, 2017)</td>\n      <td>Live</td>\n      <td>2</td>\n      <td>this week in data science (april 18, 2017)</td>\n      <td>676.0</td>\n      <td>this week in data science (april 18, 2017) Thi...</td>\n      <td>[datum, week, science, april]</td>\n    </tr>\n    <tr>\n      <th>3</th>\n      <td>DATALAYER: HIGH THROUGHPUT, LOW LATENCY AT SCA...</td>\n      <td>Learn how distributed DBs solve the problem of...</td>\n      <td>DataLayer Conference: Boost the performance of...</td>\n      <td>Live</td>\n      <td>3</td>\n      <td></td>\n      <td>NaN</td>\n      <td>DataLayer Conference: Boost the performance o...</td>\n      <td>[conference, -PRON-, distribute, boost, databa...</td>\n    </tr>\n    <tr>\n      <th>4</th>\n      <td>Skip navigation Sign in SearchLoading...\\r\\n\\r...</td>\n      <td>This video demonstrates the power of IBM DataS...</td>\n      <td>Analyze NY Restaurant data using Spark in DSX</td>\n      <td>Live</td>\n      <td>4</td>\n      <td>analyze ny restaurant data using spark in dsx</td>\n      <td>2345.0</td>\n      <td>analyze ny restaurant data using spark in dsx ...</td>\n      <td>[analyze, dsx, restaurant, spark, datum, ny, use]</td>\n    </tr>\n  </tbody>\n</table>\n</div>"
     },
     "metadata": {},
     "execution_count": 258
    }
   ],
   "source": [
    "df_merged.head()"
   ]
  },
  {
   "cell_type": "code",
   "execution_count": 141,
   "metadata": {},
   "outputs": [
    {
     "output_type": "execute_result",
     "data": {
      "text/plain": "array([list(['communicate', 'fulfilling', 'machine', 'datum', 'perform', 'business', 'engineer', 'science', 'analysis', 'analyst', 'forest', 'guide', '-PRON-', 'work', 'lie', 'face', 'tree', 'scientist', 'learn', ' ', 'present', 'challenge', 'obj', 'data'])],\n      dtype=object)"
     },
     "metadata": {},
     "execution_count": 141
    }
   ],
   "source": [
    "df_merged[df_merged['article_id']==1]['title_full_name_description_cleaned'].values"
   ]
  },
  {
   "cell_type": "code",
   "execution_count": 98,
   "metadata": {},
   "outputs": [
    {
     "output_type": "execute_result",
     "data": {
      "text/plain": "0.99464357"
     },
     "metadata": {},
     "execution_count": 98
    }
   ],
   "source": [
    "model.similarity(token,token_)\n"
   ]
  },
  {
   "cell_type": "code",
   "execution_count": 97,
   "metadata": {},
   "outputs": [
    {
     "output_type": "execute_result",
     "data": {
      "text/plain": "0.4973217844963074"
     },
     "metadata": {},
     "execution_count": 97
    }
   ],
   "source": [
    "text_similarity "
   ]
  },
  {
   "cell_type": "markdown",
   "metadata": {},
   "source": [
    "'`2.` Now that you have put together your content-based recommendation system, use the cell below to write a summary explaining how your content based recommender works.  Do you see any possible improvements that could be made to your function?  Is there anything novel about your content based recommender?\n",
    "\n",
    "### This part is NOT REQUIRED to pass this project.  However, you may choose to take this on as an extra way to show off your skills."
   ]
  },
  {
   "cell_type": "markdown",
   "metadata": {},
   "source": [
    "**Write an explanation of your content based recommendation system here.**"
   ]
  },
  {
   "cell_type": "markdown",
   "metadata": {},
   "source": [
    "`3.` Use your content-recommendation system to make recommendations for the below scenarios based on the comments.  Again no tests are provided here, because there isn't one right answer that could be used to find these content based recommendations.\n",
    "\n",
    "### This part is NOT REQUIRED to pass this project.  However, you may choose to take this on as an extra way to show off your skills."
   ]
  },
  {
   "cell_type": "code",
   "execution_count": 42,
   "metadata": {
    "collapsed": true
   },
   "outputs": [],
   "source": [
    "# make recommendations for a brand new user\n",
    "\n",
    "\n",
    "# make a recommendations for a user who only has interacted with article id '1427.0'\n",
    "\n"
   ]
  },
  {
   "cell_type": "markdown",
   "metadata": {},
   "source": [
    "### <a class=\"anchor\" id=\"Matrix-Fact\">Part V: Matrix Factorization</a>\n",
    "\n",
    "In this part of the notebook, you will build use matrix factorization to make article recommendations to the users on the IBM Watson Studio platform.\n",
    "\n",
    "`1.` You should have already created a **user_item** matrix above in **question 1** of **Part III** above.  This first question here will just require that you run the cells to get things set up for the rest of **Part V** of the notebook. "
   ]
  },
  {
   "cell_type": "code",
   "execution_count": 43,
   "metadata": {},
   "outputs": [],
   "source": [
    "# Load the matrix here\n",
    "user_item_matrix = pd.read_pickle('user_item_matrix.p')"
   ]
  },
  {
   "cell_type": "code",
   "execution_count": 44,
   "metadata": {},
   "outputs": [
    {
     "output_type": "execute_result",
     "data": {
      "text/plain": "article_id  0.0  100.0  1000.0  1004.0  1006.0  1008.0  101.0  1014.0  1015.0  \\\nuser_id                                                                         \n1           0.0    0.0     0.0     0.0     0.0     0.0    0.0     0.0     0.0   \n2           0.0    0.0     0.0     0.0     0.0     0.0    0.0     0.0     0.0   \n3           0.0    0.0     0.0     0.0     0.0     0.0    0.0     0.0     0.0   \n4           0.0    0.0     0.0     0.0     0.0     0.0    0.0     0.0     0.0   \n5           0.0    0.0     0.0     0.0     0.0     0.0    0.0     0.0     0.0   \n\narticle_id  1016.0  ...  977.0  98.0  981.0  984.0  985.0  986.0  990.0  \\\nuser_id             ...                                                   \n1              0.0  ...    0.0   0.0    1.0    0.0    0.0    0.0    0.0   \n2              0.0  ...    0.0   0.0    0.0    0.0    0.0    0.0    0.0   \n3              0.0  ...    1.0   0.0    0.0    0.0    0.0    0.0    0.0   \n4              0.0  ...    0.0   0.0    0.0    0.0    0.0    0.0    0.0   \n5              0.0  ...    0.0   0.0    0.0    0.0    0.0    0.0    0.0   \n\narticle_id  993.0  996.0  997.0  \nuser_id                          \n1             0.0    0.0    0.0  \n2             0.0    0.0    0.0  \n3             0.0    0.0    0.0  \n4             0.0    0.0    0.0  \n5             0.0    0.0    0.0  \n\n[5 rows x 714 columns]",
      "text/html": "<div>\n<style scoped>\n    .dataframe tbody tr th:only-of-type {\n        vertical-align: middle;\n    }\n\n    .dataframe tbody tr th {\n        vertical-align: top;\n    }\n\n    .dataframe thead th {\n        text-align: right;\n    }\n</style>\n<table border=\"1\" class=\"dataframe\">\n  <thead>\n    <tr style=\"text-align: right;\">\n      <th>article_id</th>\n      <th>0.0</th>\n      <th>100.0</th>\n      <th>1000.0</th>\n      <th>1004.0</th>\n      <th>1006.0</th>\n      <th>1008.0</th>\n      <th>101.0</th>\n      <th>1014.0</th>\n      <th>1015.0</th>\n      <th>1016.0</th>\n      <th>...</th>\n      <th>977.0</th>\n      <th>98.0</th>\n      <th>981.0</th>\n      <th>984.0</th>\n      <th>985.0</th>\n      <th>986.0</th>\n      <th>990.0</th>\n      <th>993.0</th>\n      <th>996.0</th>\n      <th>997.0</th>\n    </tr>\n    <tr>\n      <th>user_id</th>\n      <th></th>\n      <th></th>\n      <th></th>\n      <th></th>\n      <th></th>\n      <th></th>\n      <th></th>\n      <th></th>\n      <th></th>\n      <th></th>\n      <th></th>\n      <th></th>\n      <th></th>\n      <th></th>\n      <th></th>\n      <th></th>\n      <th></th>\n      <th></th>\n      <th></th>\n      <th></th>\n      <th></th>\n    </tr>\n  </thead>\n  <tbody>\n    <tr>\n      <th>1</th>\n      <td>0.0</td>\n      <td>0.0</td>\n      <td>0.0</td>\n      <td>0.0</td>\n      <td>0.0</td>\n      <td>0.0</td>\n      <td>0.0</td>\n      <td>0.0</td>\n      <td>0.0</td>\n      <td>0.0</td>\n      <td>...</td>\n      <td>0.0</td>\n      <td>0.0</td>\n      <td>1.0</td>\n      <td>0.0</td>\n      <td>0.0</td>\n      <td>0.0</td>\n      <td>0.0</td>\n      <td>0.0</td>\n      <td>0.0</td>\n      <td>0.0</td>\n    </tr>\n    <tr>\n      <th>2</th>\n      <td>0.0</td>\n      <td>0.0</td>\n      <td>0.0</td>\n      <td>0.0</td>\n      <td>0.0</td>\n      <td>0.0</td>\n      <td>0.0</td>\n      <td>0.0</td>\n      <td>0.0</td>\n      <td>0.0</td>\n      <td>...</td>\n      <td>0.0</td>\n      <td>0.0</td>\n      <td>0.0</td>\n      <td>0.0</td>\n      <td>0.0</td>\n      <td>0.0</td>\n      <td>0.0</td>\n      <td>0.0</td>\n      <td>0.0</td>\n      <td>0.0</td>\n    </tr>\n    <tr>\n      <th>3</th>\n      <td>0.0</td>\n      <td>0.0</td>\n      <td>0.0</td>\n      <td>0.0</td>\n      <td>0.0</td>\n      <td>0.0</td>\n      <td>0.0</td>\n      <td>0.0</td>\n      <td>0.0</td>\n      <td>0.0</td>\n      <td>...</td>\n      <td>1.0</td>\n      <td>0.0</td>\n      <td>0.0</td>\n      <td>0.0</td>\n      <td>0.0</td>\n      <td>0.0</td>\n      <td>0.0</td>\n      <td>0.0</td>\n      <td>0.0</td>\n      <td>0.0</td>\n    </tr>\n    <tr>\n      <th>4</th>\n      <td>0.0</td>\n      <td>0.0</td>\n      <td>0.0</td>\n      <td>0.0</td>\n      <td>0.0</td>\n      <td>0.0</td>\n      <td>0.0</td>\n      <td>0.0</td>\n      <td>0.0</td>\n      <td>0.0</td>\n      <td>...</td>\n      <td>0.0</td>\n      <td>0.0</td>\n      <td>0.0</td>\n      <td>0.0</td>\n      <td>0.0</td>\n      <td>0.0</td>\n      <td>0.0</td>\n      <td>0.0</td>\n      <td>0.0</td>\n      <td>0.0</td>\n    </tr>\n    <tr>\n      <th>5</th>\n      <td>0.0</td>\n      <td>0.0</td>\n      <td>0.0</td>\n      <td>0.0</td>\n      <td>0.0</td>\n      <td>0.0</td>\n      <td>0.0</td>\n      <td>0.0</td>\n      <td>0.0</td>\n      <td>0.0</td>\n      <td>...</td>\n      <td>0.0</td>\n      <td>0.0</td>\n      <td>0.0</td>\n      <td>0.0</td>\n      <td>0.0</td>\n      <td>0.0</td>\n      <td>0.0</td>\n      <td>0.0</td>\n      <td>0.0</td>\n      <td>0.0</td>\n    </tr>\n  </tbody>\n</table>\n<p>5 rows × 714 columns</p>\n</div>"
     },
     "metadata": {},
     "execution_count": 44
    }
   ],
   "source": [
    "# quick look at the matrix\n",
    "user_item_matrix.head()"
   ]
  },
  {
   "cell_type": "markdown",
   "metadata": {},
   "source": [
    "`2.` In this situation, you can use Singular Value Decomposition from [numpy](https://docs.scipy.org/doc/numpy-1.14.0/reference/generated/numpy.linalg.svd.html) on the user-item matrix.  Use the cell to perform SVD, and explain why this is different than in the lesson."
   ]
  },
  {
   "cell_type": "code",
   "execution_count": 45,
   "metadata": {},
   "outputs": [],
   "source": [
    "# Perform SVD on the User-Item Matrix Here\n",
    "\n",
    "u, s, vt = np.linalg.svd(user_item_matrix)"
   ]
  },
  {
   "cell_type": "markdown",
   "metadata": {},
   "source": [
    "This time there are significantly more data sets due to more users, compared to the size of the SVD matrix  "
   ]
  },
  {
   "cell_type": "markdown",
   "metadata": {},
   "source": [
    "`3.` Now for the tricky part, how do we choose the number of latent features to use?  Running the below cell, you can see that as the number of latent features increases, we obtain a lower error rate on making predictions for the 1 and 0 values in the user-item matrix.  Run the cell below to get an idea of how the accuracy improves as we increase the number of latent features."
   ]
  },
  {
   "cell_type": "code",
   "execution_count": 46,
   "metadata": {},
   "outputs": [
    {
     "output_type": "execute_result",
     "data": {
      "text/plain": "Text(0.5, 1.0, 'Accuracy vs. Number of Latent Features')"
     },
     "metadata": {},
     "execution_count": 46
    },
    {
     "output_type": "display_data",
     "data": {
      "text/plain": "<Figure size 432x288 with 1 Axes>",
      "image/svg+xml": "<?xml version=\"1.0\" encoding=\"utf-8\" standalone=\"no\"?>\n<!DOCTYPE svg PUBLIC \"-//W3C//DTD SVG 1.1//EN\"\n  \"http://www.w3.org/Graphics/SVG/1.1/DTD/svg11.dtd\">\n<!-- Created with matplotlib (https://matplotlib.org/) -->\n<svg height=\"277.314375pt\" version=\"1.1\" viewBox=\"0 0 385.78125 277.314375\" width=\"385.78125pt\" xmlns=\"http://www.w3.org/2000/svg\" xmlns:xlink=\"http://www.w3.org/1999/xlink\">\n <defs>\n  <style type=\"text/css\">\n*{stroke-linecap:butt;stroke-linejoin:round;}\n  </style>\n </defs>\n <g id=\"figure_1\">\n  <g id=\"patch_1\">\n   <path d=\"M 0 277.314375 \nL 385.78125 277.314375 \nL 385.78125 0 \nL 0 0 \nz\n\" style=\"fill:none;\"/>\n  </g>\n  <g id=\"axes_1\">\n   <g id=\"patch_2\">\n    <path d=\"M 43.78125 239.758125 \nL 378.58125 239.758125 \nL 378.58125 22.318125 \nL 43.78125 22.318125 \nz\n\" style=\"fill:#ffffff;\"/>\n   </g>\n   <g id=\"matplotlib.axis_1\">\n    <g id=\"xtick_1\">\n     <g id=\"line2d_1\">\n      <defs>\n       <path d=\"M 0 0 \nL 0 3.5 \n\" id=\"mcdcb4d6505\" style=\"stroke:#000000;stroke-width:0.8;\"/>\n      </defs>\n      <g>\n       <use style=\"stroke:#000000;stroke-width:0.8;\" x=\"54.523496\" xlink:href=\"#mcdcb4d6505\" y=\"239.758125\"/>\n      </g>\n     </g>\n     <g id=\"text_1\">\n      <!-- 0 -->\n      <defs>\n       <path d=\"M 31.78125 66.40625 \nQ 24.171875 66.40625 20.328125 58.90625 \nQ 16.5 51.421875 16.5 36.375 \nQ 16.5 21.390625 20.328125 13.890625 \nQ 24.171875 6.390625 31.78125 6.390625 \nQ 39.453125 6.390625 43.28125 13.890625 \nQ 47.125 21.390625 47.125 36.375 \nQ 47.125 51.421875 43.28125 58.90625 \nQ 39.453125 66.40625 31.78125 66.40625 \nz\nM 31.78125 74.21875 \nQ 44.046875 74.21875 50.515625 64.515625 \nQ 56.984375 54.828125 56.984375 36.375 \nQ 56.984375 17.96875 50.515625 8.265625 \nQ 44.046875 -1.421875 31.78125 -1.421875 \nQ 19.53125 -1.421875 13.0625 8.265625 \nQ 6.59375 17.96875 6.59375 36.375 \nQ 6.59375 54.828125 13.0625 64.515625 \nQ 19.53125 74.21875 31.78125 74.21875 \nz\n\" id=\"DejaVuSans-48\"/>\n      </defs>\n      <g transform=\"translate(51.342246 254.356562)scale(0.1 -0.1)\">\n       <use xlink:href=\"#DejaVuSans-48\"/>\n      </g>\n     </g>\n    </g>\n    <g id=\"xtick_2\">\n     <g id=\"line2d_2\">\n      <g>\n       <use style=\"stroke:#000000;stroke-width:0.8;\" x=\"99.282854\" xlink:href=\"#mcdcb4d6505\" y=\"239.758125\"/>\n      </g>\n     </g>\n     <g id=\"text_2\">\n      <!-- 100 -->\n      <defs>\n       <path d=\"M 12.40625 8.296875 \nL 28.515625 8.296875 \nL 28.515625 63.921875 \nL 10.984375 60.40625 \nL 10.984375 69.390625 \nL 28.421875 72.90625 \nL 38.28125 72.90625 \nL 38.28125 8.296875 \nL 54.390625 8.296875 \nL 54.390625 0 \nL 12.40625 0 \nz\n\" id=\"DejaVuSans-49\"/>\n      </defs>\n      <g transform=\"translate(89.739104 254.356562)scale(0.1 -0.1)\">\n       <use xlink:href=\"#DejaVuSans-49\"/>\n       <use x=\"63.623047\" xlink:href=\"#DejaVuSans-48\"/>\n       <use x=\"127.246094\" xlink:href=\"#DejaVuSans-48\"/>\n      </g>\n     </g>\n    </g>\n    <g id=\"xtick_3\">\n     <g id=\"line2d_3\">\n      <g>\n       <use style=\"stroke:#000000;stroke-width:0.8;\" x=\"144.042213\" xlink:href=\"#mcdcb4d6505\" y=\"239.758125\"/>\n      </g>\n     </g>\n     <g id=\"text_3\">\n      <!-- 200 -->\n      <defs>\n       <path d=\"M 19.1875 8.296875 \nL 53.609375 8.296875 \nL 53.609375 0 \nL 7.328125 0 \nL 7.328125 8.296875 \nQ 12.9375 14.109375 22.625 23.890625 \nQ 32.328125 33.6875 34.8125 36.53125 \nQ 39.546875 41.84375 41.421875 45.53125 \nQ 43.3125 49.21875 43.3125 52.78125 \nQ 43.3125 58.59375 39.234375 62.25 \nQ 35.15625 65.921875 28.609375 65.921875 \nQ 23.96875 65.921875 18.8125 64.3125 \nQ 13.671875 62.703125 7.8125 59.421875 \nL 7.8125 69.390625 \nQ 13.765625 71.78125 18.9375 73 \nQ 24.125 74.21875 28.421875 74.21875 \nQ 39.75 74.21875 46.484375 68.546875 \nQ 53.21875 62.890625 53.21875 53.421875 \nQ 53.21875 48.921875 51.53125 44.890625 \nQ 49.859375 40.875 45.40625 35.40625 \nQ 44.1875 33.984375 37.640625 27.21875 \nQ 31.109375 20.453125 19.1875 8.296875 \nz\n\" id=\"DejaVuSans-50\"/>\n      </defs>\n      <g transform=\"translate(134.498463 254.356562)scale(0.1 -0.1)\">\n       <use xlink:href=\"#DejaVuSans-50\"/>\n       <use x=\"63.623047\" xlink:href=\"#DejaVuSans-48\"/>\n       <use x=\"127.246094\" xlink:href=\"#DejaVuSans-48\"/>\n      </g>\n     </g>\n    </g>\n    <g id=\"xtick_4\">\n     <g id=\"line2d_4\">\n      <g>\n       <use style=\"stroke:#000000;stroke-width:0.8;\" x=\"188.801571\" xlink:href=\"#mcdcb4d6505\" y=\"239.758125\"/>\n      </g>\n     </g>\n     <g id=\"text_4\">\n      <!-- 300 -->\n      <defs>\n       <path d=\"M 40.578125 39.3125 \nQ 47.65625 37.796875 51.625 33 \nQ 55.609375 28.21875 55.609375 21.1875 \nQ 55.609375 10.40625 48.1875 4.484375 \nQ 40.765625 -1.421875 27.09375 -1.421875 \nQ 22.515625 -1.421875 17.65625 -0.515625 \nQ 12.796875 0.390625 7.625 2.203125 \nL 7.625 11.71875 \nQ 11.71875 9.328125 16.59375 8.109375 \nQ 21.484375 6.890625 26.8125 6.890625 \nQ 36.078125 6.890625 40.9375 10.546875 \nQ 45.796875 14.203125 45.796875 21.1875 \nQ 45.796875 27.640625 41.28125 31.265625 \nQ 36.765625 34.90625 28.71875 34.90625 \nL 20.21875 34.90625 \nL 20.21875 43.015625 \nL 29.109375 43.015625 \nQ 36.375 43.015625 40.234375 45.921875 \nQ 44.09375 48.828125 44.09375 54.296875 \nQ 44.09375 59.90625 40.109375 62.90625 \nQ 36.140625 65.921875 28.71875 65.921875 \nQ 24.65625 65.921875 20.015625 65.03125 \nQ 15.375 64.15625 9.8125 62.3125 \nL 9.8125 71.09375 \nQ 15.4375 72.65625 20.34375 73.4375 \nQ 25.25 74.21875 29.59375 74.21875 \nQ 40.828125 74.21875 47.359375 69.109375 \nQ 53.90625 64.015625 53.90625 55.328125 \nQ 53.90625 49.265625 50.4375 45.09375 \nQ 46.96875 40.921875 40.578125 39.3125 \nz\n\" id=\"DejaVuSans-51\"/>\n      </defs>\n      <g transform=\"translate(179.257821 254.356562)scale(0.1 -0.1)\">\n       <use xlink:href=\"#DejaVuSans-51\"/>\n       <use x=\"63.623047\" xlink:href=\"#DejaVuSans-48\"/>\n       <use x=\"127.246094\" xlink:href=\"#DejaVuSans-48\"/>\n      </g>\n     </g>\n    </g>\n    <g id=\"xtick_5\">\n     <g id=\"line2d_5\">\n      <g>\n       <use style=\"stroke:#000000;stroke-width:0.8;\" x=\"233.560929\" xlink:href=\"#mcdcb4d6505\" y=\"239.758125\"/>\n      </g>\n     </g>\n     <g id=\"text_5\">\n      <!-- 400 -->\n      <defs>\n       <path d=\"M 37.796875 64.3125 \nL 12.890625 25.390625 \nL 37.796875 25.390625 \nz\nM 35.203125 72.90625 \nL 47.609375 72.90625 \nL 47.609375 25.390625 \nL 58.015625 25.390625 \nL 58.015625 17.1875 \nL 47.609375 17.1875 \nL 47.609375 0 \nL 37.796875 0 \nL 37.796875 17.1875 \nL 4.890625 17.1875 \nL 4.890625 26.703125 \nz\n\" id=\"DejaVuSans-52\"/>\n      </defs>\n      <g transform=\"translate(224.017179 254.356562)scale(0.1 -0.1)\">\n       <use xlink:href=\"#DejaVuSans-52\"/>\n       <use x=\"63.623047\" xlink:href=\"#DejaVuSans-48\"/>\n       <use x=\"127.246094\" xlink:href=\"#DejaVuSans-48\"/>\n      </g>\n     </g>\n    </g>\n    <g id=\"xtick_6\">\n     <g id=\"line2d_6\">\n      <g>\n       <use style=\"stroke:#000000;stroke-width:0.8;\" x=\"278.320287\" xlink:href=\"#mcdcb4d6505\" y=\"239.758125\"/>\n      </g>\n     </g>\n     <g id=\"text_6\">\n      <!-- 500 -->\n      <defs>\n       <path d=\"M 10.796875 72.90625 \nL 49.515625 72.90625 \nL 49.515625 64.59375 \nL 19.828125 64.59375 \nL 19.828125 46.734375 \nQ 21.96875 47.46875 24.109375 47.828125 \nQ 26.265625 48.1875 28.421875 48.1875 \nQ 40.625 48.1875 47.75 41.5 \nQ 54.890625 34.8125 54.890625 23.390625 \nQ 54.890625 11.625 47.5625 5.09375 \nQ 40.234375 -1.421875 26.90625 -1.421875 \nQ 22.3125 -1.421875 17.546875 -0.640625 \nQ 12.796875 0.140625 7.71875 1.703125 \nL 7.71875 11.625 \nQ 12.109375 9.234375 16.796875 8.0625 \nQ 21.484375 6.890625 26.703125 6.890625 \nQ 35.15625 6.890625 40.078125 11.328125 \nQ 45.015625 15.765625 45.015625 23.390625 \nQ 45.015625 31 40.078125 35.4375 \nQ 35.15625 39.890625 26.703125 39.890625 \nQ 22.75 39.890625 18.8125 39.015625 \nQ 14.890625 38.140625 10.796875 36.28125 \nz\n\" id=\"DejaVuSans-53\"/>\n      </defs>\n      <g transform=\"translate(268.776537 254.356562)scale(0.1 -0.1)\">\n       <use xlink:href=\"#DejaVuSans-53\"/>\n       <use x=\"63.623047\" xlink:href=\"#DejaVuSans-48\"/>\n       <use x=\"127.246094\" xlink:href=\"#DejaVuSans-48\"/>\n      </g>\n     </g>\n    </g>\n    <g id=\"xtick_7\">\n     <g id=\"line2d_7\">\n      <g>\n       <use style=\"stroke:#000000;stroke-width:0.8;\" x=\"323.079646\" xlink:href=\"#mcdcb4d6505\" y=\"239.758125\"/>\n      </g>\n     </g>\n     <g id=\"text_7\">\n      <!-- 600 -->\n      <defs>\n       <path d=\"M 33.015625 40.375 \nQ 26.375 40.375 22.484375 35.828125 \nQ 18.609375 31.296875 18.609375 23.390625 \nQ 18.609375 15.53125 22.484375 10.953125 \nQ 26.375 6.390625 33.015625 6.390625 \nQ 39.65625 6.390625 43.53125 10.953125 \nQ 47.40625 15.53125 47.40625 23.390625 \nQ 47.40625 31.296875 43.53125 35.828125 \nQ 39.65625 40.375 33.015625 40.375 \nz\nM 52.59375 71.296875 \nL 52.59375 62.3125 \nQ 48.875 64.0625 45.09375 64.984375 \nQ 41.3125 65.921875 37.59375 65.921875 \nQ 27.828125 65.921875 22.671875 59.328125 \nQ 17.53125 52.734375 16.796875 39.40625 \nQ 19.671875 43.65625 24.015625 45.921875 \nQ 28.375 48.1875 33.59375 48.1875 \nQ 44.578125 48.1875 50.953125 41.515625 \nQ 57.328125 34.859375 57.328125 23.390625 \nQ 57.328125 12.15625 50.6875 5.359375 \nQ 44.046875 -1.421875 33.015625 -1.421875 \nQ 20.359375 -1.421875 13.671875 8.265625 \nQ 6.984375 17.96875 6.984375 36.375 \nQ 6.984375 53.65625 15.1875 63.9375 \nQ 23.390625 74.21875 37.203125 74.21875 \nQ 40.921875 74.21875 44.703125 73.484375 \nQ 48.484375 72.75 52.59375 71.296875 \nz\n\" id=\"DejaVuSans-54\"/>\n      </defs>\n      <g transform=\"translate(313.535896 254.356562)scale(0.1 -0.1)\">\n       <use xlink:href=\"#DejaVuSans-54\"/>\n       <use x=\"63.623047\" xlink:href=\"#DejaVuSans-48\"/>\n       <use x=\"127.246094\" xlink:href=\"#DejaVuSans-48\"/>\n      </g>\n     </g>\n    </g>\n    <g id=\"xtick_8\">\n     <g id=\"line2d_8\">\n      <g>\n       <use style=\"stroke:#000000;stroke-width:0.8;\" x=\"367.839004\" xlink:href=\"#mcdcb4d6505\" y=\"239.758125\"/>\n      </g>\n     </g>\n     <g id=\"text_8\">\n      <!-- 700 -->\n      <defs>\n       <path d=\"M 8.203125 72.90625 \nL 55.078125 72.90625 \nL 55.078125 68.703125 \nL 28.609375 0 \nL 18.3125 0 \nL 43.21875 64.59375 \nL 8.203125 64.59375 \nz\n\" id=\"DejaVuSans-55\"/>\n      </defs>\n      <g transform=\"translate(358.295254 254.356562)scale(0.1 -0.1)\">\n       <use xlink:href=\"#DejaVuSans-55\"/>\n       <use x=\"63.623047\" xlink:href=\"#DejaVuSans-48\"/>\n       <use x=\"127.246094\" xlink:href=\"#DejaVuSans-48\"/>\n      </g>\n     </g>\n    </g>\n    <g id=\"text_9\">\n     <!-- Number of Latent Features -->\n     <defs>\n      <path d=\"M 9.8125 72.90625 \nL 23.09375 72.90625 \nL 55.421875 11.921875 \nL 55.421875 72.90625 \nL 64.984375 72.90625 \nL 64.984375 0 \nL 51.703125 0 \nL 19.390625 60.984375 \nL 19.390625 0 \nL 9.8125 0 \nz\n\" id=\"DejaVuSans-78\"/>\n      <path d=\"M 8.5 21.578125 \nL 8.5 54.6875 \nL 17.484375 54.6875 \nL 17.484375 21.921875 \nQ 17.484375 14.15625 20.5 10.265625 \nQ 23.53125 6.390625 29.59375 6.390625 \nQ 36.859375 6.390625 41.078125 11.03125 \nQ 45.3125 15.671875 45.3125 23.6875 \nL 45.3125 54.6875 \nL 54.296875 54.6875 \nL 54.296875 0 \nL 45.3125 0 \nL 45.3125 8.40625 \nQ 42.046875 3.421875 37.71875 1 \nQ 33.40625 -1.421875 27.6875 -1.421875 \nQ 18.265625 -1.421875 13.375 4.4375 \nQ 8.5 10.296875 8.5 21.578125 \nz\nM 31.109375 56 \nz\n\" id=\"DejaVuSans-117\"/>\n      <path d=\"M 52 44.1875 \nQ 55.375 50.25 60.0625 53.125 \nQ 64.75 56 71.09375 56 \nQ 79.640625 56 84.28125 50.015625 \nQ 88.921875 44.046875 88.921875 33.015625 \nL 88.921875 0 \nL 79.890625 0 \nL 79.890625 32.71875 \nQ 79.890625 40.578125 77.09375 44.375 \nQ 74.3125 48.1875 68.609375 48.1875 \nQ 61.625 48.1875 57.5625 43.546875 \nQ 53.515625 38.921875 53.515625 30.90625 \nL 53.515625 0 \nL 44.484375 0 \nL 44.484375 32.71875 \nQ 44.484375 40.625 41.703125 44.40625 \nQ 38.921875 48.1875 33.109375 48.1875 \nQ 26.21875 48.1875 22.15625 43.53125 \nQ 18.109375 38.875 18.109375 30.90625 \nL 18.109375 0 \nL 9.078125 0 \nL 9.078125 54.6875 \nL 18.109375 54.6875 \nL 18.109375 46.1875 \nQ 21.1875 51.21875 25.484375 53.609375 \nQ 29.78125 56 35.6875 56 \nQ 41.65625 56 45.828125 52.96875 \nQ 50 49.953125 52 44.1875 \nz\n\" id=\"DejaVuSans-109\"/>\n      <path d=\"M 48.6875 27.296875 \nQ 48.6875 37.203125 44.609375 42.84375 \nQ 40.53125 48.484375 33.40625 48.484375 \nQ 26.265625 48.484375 22.1875 42.84375 \nQ 18.109375 37.203125 18.109375 27.296875 \nQ 18.109375 17.390625 22.1875 11.75 \nQ 26.265625 6.109375 33.40625 6.109375 \nQ 40.53125 6.109375 44.609375 11.75 \nQ 48.6875 17.390625 48.6875 27.296875 \nz\nM 18.109375 46.390625 \nQ 20.953125 51.265625 25.265625 53.625 \nQ 29.59375 56 35.59375 56 \nQ 45.5625 56 51.78125 48.09375 \nQ 58.015625 40.1875 58.015625 27.296875 \nQ 58.015625 14.40625 51.78125 6.484375 \nQ 45.5625 -1.421875 35.59375 -1.421875 \nQ 29.59375 -1.421875 25.265625 0.953125 \nQ 20.953125 3.328125 18.109375 8.203125 \nL 18.109375 0 \nL 9.078125 0 \nL 9.078125 75.984375 \nL 18.109375 75.984375 \nz\n\" id=\"DejaVuSans-98\"/>\n      <path d=\"M 56.203125 29.59375 \nL 56.203125 25.203125 \nL 14.890625 25.203125 \nQ 15.484375 15.921875 20.484375 11.0625 \nQ 25.484375 6.203125 34.421875 6.203125 \nQ 39.59375 6.203125 44.453125 7.46875 \nQ 49.3125 8.734375 54.109375 11.28125 \nL 54.109375 2.78125 \nQ 49.265625 0.734375 44.1875 -0.34375 \nQ 39.109375 -1.421875 33.890625 -1.421875 \nQ 20.796875 -1.421875 13.15625 6.1875 \nQ 5.515625 13.8125 5.515625 26.8125 \nQ 5.515625 40.234375 12.765625 48.109375 \nQ 20.015625 56 32.328125 56 \nQ 43.359375 56 49.78125 48.890625 \nQ 56.203125 41.796875 56.203125 29.59375 \nz\nM 47.21875 32.234375 \nQ 47.125 39.59375 43.09375 43.984375 \nQ 39.0625 48.390625 32.421875 48.390625 \nQ 24.90625 48.390625 20.390625 44.140625 \nQ 15.875 39.890625 15.1875 32.171875 \nz\n\" id=\"DejaVuSans-101\"/>\n      <path d=\"M 41.109375 46.296875 \nQ 39.59375 47.171875 37.8125 47.578125 \nQ 36.03125 48 33.890625 48 \nQ 26.265625 48 22.1875 43.046875 \nQ 18.109375 38.09375 18.109375 28.8125 \nL 18.109375 0 \nL 9.078125 0 \nL 9.078125 54.6875 \nL 18.109375 54.6875 \nL 18.109375 46.1875 \nQ 20.953125 51.171875 25.484375 53.578125 \nQ 30.03125 56 36.53125 56 \nQ 37.453125 56 38.578125 55.875 \nQ 39.703125 55.765625 41.0625 55.515625 \nz\n\" id=\"DejaVuSans-114\"/>\n      <path id=\"DejaVuSans-32\"/>\n      <path d=\"M 30.609375 48.390625 \nQ 23.390625 48.390625 19.1875 42.75 \nQ 14.984375 37.109375 14.984375 27.296875 \nQ 14.984375 17.484375 19.15625 11.84375 \nQ 23.34375 6.203125 30.609375 6.203125 \nQ 37.796875 6.203125 41.984375 11.859375 \nQ 46.1875 17.53125 46.1875 27.296875 \nQ 46.1875 37.015625 41.984375 42.703125 \nQ 37.796875 48.390625 30.609375 48.390625 \nz\nM 30.609375 56 \nQ 42.328125 56 49.015625 48.375 \nQ 55.71875 40.765625 55.71875 27.296875 \nQ 55.71875 13.875 49.015625 6.21875 \nQ 42.328125 -1.421875 30.609375 -1.421875 \nQ 18.84375 -1.421875 12.171875 6.21875 \nQ 5.515625 13.875 5.515625 27.296875 \nQ 5.515625 40.765625 12.171875 48.375 \nQ 18.84375 56 30.609375 56 \nz\n\" id=\"DejaVuSans-111\"/>\n      <path d=\"M 37.109375 75.984375 \nL 37.109375 68.5 \nL 28.515625 68.5 \nQ 23.6875 68.5 21.796875 66.546875 \nQ 19.921875 64.59375 19.921875 59.515625 \nL 19.921875 54.6875 \nL 34.71875 54.6875 \nL 34.71875 47.703125 \nL 19.921875 47.703125 \nL 19.921875 0 \nL 10.890625 0 \nL 10.890625 47.703125 \nL 2.296875 47.703125 \nL 2.296875 54.6875 \nL 10.890625 54.6875 \nL 10.890625 58.5 \nQ 10.890625 67.625 15.140625 71.796875 \nQ 19.390625 75.984375 28.609375 75.984375 \nz\n\" id=\"DejaVuSans-102\"/>\n      <path d=\"M 9.8125 72.90625 \nL 19.671875 72.90625 \nL 19.671875 8.296875 \nL 55.171875 8.296875 \nL 55.171875 0 \nL 9.8125 0 \nz\n\" id=\"DejaVuSans-76\"/>\n      <path d=\"M 34.28125 27.484375 \nQ 23.390625 27.484375 19.1875 25 \nQ 14.984375 22.515625 14.984375 16.5 \nQ 14.984375 11.71875 18.140625 8.90625 \nQ 21.296875 6.109375 26.703125 6.109375 \nQ 34.1875 6.109375 38.703125 11.40625 \nQ 43.21875 16.703125 43.21875 25.484375 \nL 43.21875 27.484375 \nz\nM 52.203125 31.203125 \nL 52.203125 0 \nL 43.21875 0 \nL 43.21875 8.296875 \nQ 40.140625 3.328125 35.546875 0.953125 \nQ 30.953125 -1.421875 24.3125 -1.421875 \nQ 15.921875 -1.421875 10.953125 3.296875 \nQ 6 8.015625 6 15.921875 \nQ 6 25.140625 12.171875 29.828125 \nQ 18.359375 34.515625 30.609375 34.515625 \nL 43.21875 34.515625 \nL 43.21875 35.40625 \nQ 43.21875 41.609375 39.140625 45 \nQ 35.0625 48.390625 27.6875 48.390625 \nQ 23 48.390625 18.546875 47.265625 \nQ 14.109375 46.140625 10.015625 43.890625 \nL 10.015625 52.203125 \nQ 14.9375 54.109375 19.578125 55.046875 \nQ 24.21875 56 28.609375 56 \nQ 40.484375 56 46.34375 49.84375 \nQ 52.203125 43.703125 52.203125 31.203125 \nz\n\" id=\"DejaVuSans-97\"/>\n      <path d=\"M 18.3125 70.21875 \nL 18.3125 54.6875 \nL 36.8125 54.6875 \nL 36.8125 47.703125 \nL 18.3125 47.703125 \nL 18.3125 18.015625 \nQ 18.3125 11.328125 20.140625 9.421875 \nQ 21.96875 7.515625 27.59375 7.515625 \nL 36.8125 7.515625 \nL 36.8125 0 \nL 27.59375 0 \nQ 17.1875 0 13.234375 3.875 \nQ 9.28125 7.765625 9.28125 18.015625 \nL 9.28125 47.703125 \nL 2.6875 47.703125 \nL 2.6875 54.6875 \nL 9.28125 54.6875 \nL 9.28125 70.21875 \nz\n\" id=\"DejaVuSans-116\"/>\n      <path d=\"M 54.890625 33.015625 \nL 54.890625 0 \nL 45.90625 0 \nL 45.90625 32.71875 \nQ 45.90625 40.484375 42.875 44.328125 \nQ 39.84375 48.1875 33.796875 48.1875 \nQ 26.515625 48.1875 22.3125 43.546875 \nQ 18.109375 38.921875 18.109375 30.90625 \nL 18.109375 0 \nL 9.078125 0 \nL 9.078125 54.6875 \nL 18.109375 54.6875 \nL 18.109375 46.1875 \nQ 21.34375 51.125 25.703125 53.5625 \nQ 30.078125 56 35.796875 56 \nQ 45.21875 56 50.046875 50.171875 \nQ 54.890625 44.34375 54.890625 33.015625 \nz\n\" id=\"DejaVuSans-110\"/>\n      <path d=\"M 9.8125 72.90625 \nL 51.703125 72.90625 \nL 51.703125 64.59375 \nL 19.671875 64.59375 \nL 19.671875 43.109375 \nL 48.578125 43.109375 \nL 48.578125 34.8125 \nL 19.671875 34.8125 \nL 19.671875 0 \nL 9.8125 0 \nz\n\" id=\"DejaVuSans-70\"/>\n      <path d=\"M 44.28125 53.078125 \nL 44.28125 44.578125 \nQ 40.484375 46.53125 36.375 47.5 \nQ 32.28125 48.484375 27.875 48.484375 \nQ 21.1875 48.484375 17.84375 46.4375 \nQ 14.5 44.390625 14.5 40.28125 \nQ 14.5 37.15625 16.890625 35.375 \nQ 19.28125 33.59375 26.515625 31.984375 \nL 29.59375 31.296875 \nQ 39.15625 29.25 43.1875 25.515625 \nQ 47.21875 21.78125 47.21875 15.09375 \nQ 47.21875 7.46875 41.1875 3.015625 \nQ 35.15625 -1.421875 24.609375 -1.421875 \nQ 20.21875 -1.421875 15.453125 -0.5625 \nQ 10.6875 0.296875 5.421875 2 \nL 5.421875 11.28125 \nQ 10.40625 8.6875 15.234375 7.390625 \nQ 20.0625 6.109375 24.8125 6.109375 \nQ 31.15625 6.109375 34.5625 8.28125 \nQ 37.984375 10.453125 37.984375 14.40625 \nQ 37.984375 18.0625 35.515625 20.015625 \nQ 33.0625 21.96875 24.703125 23.78125 \nL 21.578125 24.515625 \nQ 13.234375 26.265625 9.515625 29.90625 \nQ 5.8125 33.546875 5.8125 39.890625 \nQ 5.8125 47.609375 11.28125 51.796875 \nQ 16.75 56 26.8125 56 \nQ 31.78125 56 36.171875 55.265625 \nQ 40.578125 54.546875 44.28125 53.078125 \nz\n\" id=\"DejaVuSans-115\"/>\n     </defs>\n     <g transform=\"translate(143.998438 268.034687)scale(0.1 -0.1)\">\n      <use xlink:href=\"#DejaVuSans-78\"/>\n      <use x=\"74.804688\" xlink:href=\"#DejaVuSans-117\"/>\n      <use x=\"138.183594\" xlink:href=\"#DejaVuSans-109\"/>\n      <use x=\"235.595703\" xlink:href=\"#DejaVuSans-98\"/>\n      <use x=\"299.072266\" xlink:href=\"#DejaVuSans-101\"/>\n      <use x=\"360.595703\" xlink:href=\"#DejaVuSans-114\"/>\n      <use x=\"401.708984\" xlink:href=\"#DejaVuSans-32\"/>\n      <use x=\"433.496094\" xlink:href=\"#DejaVuSans-111\"/>\n      <use x=\"494.677734\" xlink:href=\"#DejaVuSans-102\"/>\n      <use x=\"529.882812\" xlink:href=\"#DejaVuSans-32\"/>\n      <use x=\"561.669922\" xlink:href=\"#DejaVuSans-76\"/>\n      <use x=\"617.382812\" xlink:href=\"#DejaVuSans-97\"/>\n      <use x=\"678.662109\" xlink:href=\"#DejaVuSans-116\"/>\n      <use x=\"717.871094\" xlink:href=\"#DejaVuSans-101\"/>\n      <use x=\"779.394531\" xlink:href=\"#DejaVuSans-110\"/>\n      <use x=\"842.773438\" xlink:href=\"#DejaVuSans-116\"/>\n      <use x=\"881.982422\" xlink:href=\"#DejaVuSans-32\"/>\n      <use x=\"913.769531\" xlink:href=\"#DejaVuSans-70\"/>\n      <use x=\"965.789062\" xlink:href=\"#DejaVuSans-101\"/>\n      <use x=\"1027.3125\" xlink:href=\"#DejaVuSans-97\"/>\n      <use x=\"1088.591797\" xlink:href=\"#DejaVuSans-116\"/>\n      <use x=\"1127.800781\" xlink:href=\"#DejaVuSans-117\"/>\n      <use x=\"1191.179688\" xlink:href=\"#DejaVuSans-114\"/>\n      <use x=\"1230.042969\" xlink:href=\"#DejaVuSans-101\"/>\n      <use x=\"1291.566406\" xlink:href=\"#DejaVuSans-115\"/>\n     </g>\n    </g>\n   </g>\n   <g id=\"matplotlib.axis_2\">\n    <g id=\"ytick_1\">\n     <g id=\"line2d_9\">\n      <defs>\n       <path d=\"M 0 0 \nL -3.5 0 \n\" id=\"mb9726cf426\" style=\"stroke:#000000;stroke-width:0.8;\"/>\n      </defs>\n      <g>\n       <use style=\"stroke:#000000;stroke-width:0.8;\" x=\"43.78125\" xlink:href=\"#mb9726cf426\" y=\"210.531784\"/>\n      </g>\n     </g>\n     <g id=\"text_10\">\n      <!-- 0.4 -->\n      <defs>\n       <path d=\"M 10.6875 12.40625 \nL 21 12.40625 \nL 21 0 \nL 10.6875 0 \nz\n\" id=\"DejaVuSans-46\"/>\n      </defs>\n      <g transform=\"translate(20.878125 214.331002)scale(0.1 -0.1)\">\n       <use xlink:href=\"#DejaVuSans-48\"/>\n       <use x=\"63.623047\" xlink:href=\"#DejaVuSans-46\"/>\n       <use x=\"95.410156\" xlink:href=\"#DejaVuSans-52\"/>\n      </g>\n     </g>\n    </g>\n    <g id=\"ytick_2\">\n     <g id=\"line2d_10\">\n      <g>\n       <use style=\"stroke:#000000;stroke-width:0.8;\" x=\"43.78125\" xlink:href=\"#mb9726cf426\" y=\"180.810113\"/>\n      </g>\n     </g>\n     <g id=\"text_11\">\n      <!-- 0.5 -->\n      <g transform=\"translate(20.878125 184.609332)scale(0.1 -0.1)\">\n       <use xlink:href=\"#DejaVuSans-48\"/>\n       <use x=\"63.623047\" xlink:href=\"#DejaVuSans-46\"/>\n       <use x=\"95.410156\" xlink:href=\"#DejaVuSans-53\"/>\n      </g>\n     </g>\n    </g>\n    <g id=\"ytick_3\">\n     <g id=\"line2d_11\">\n      <g>\n       <use style=\"stroke:#000000;stroke-width:0.8;\" x=\"43.78125\" xlink:href=\"#mb9726cf426\" y=\"151.088443\"/>\n      </g>\n     </g>\n     <g id=\"text_12\">\n      <!-- 0.6 -->\n      <g transform=\"translate(20.878125 154.887662)scale(0.1 -0.1)\">\n       <use xlink:href=\"#DejaVuSans-48\"/>\n       <use x=\"63.623047\" xlink:href=\"#DejaVuSans-46\"/>\n       <use x=\"95.410156\" xlink:href=\"#DejaVuSans-54\"/>\n      </g>\n     </g>\n    </g>\n    <g id=\"ytick_4\">\n     <g id=\"line2d_12\">\n      <g>\n       <use style=\"stroke:#000000;stroke-width:0.8;\" x=\"43.78125\" xlink:href=\"#mb9726cf426\" y=\"121.366772\"/>\n      </g>\n     </g>\n     <g id=\"text_13\">\n      <!-- 0.7 -->\n      <g transform=\"translate(20.878125 125.165991)scale(0.1 -0.1)\">\n       <use xlink:href=\"#DejaVuSans-48\"/>\n       <use x=\"63.623047\" xlink:href=\"#DejaVuSans-46\"/>\n       <use x=\"95.410156\" xlink:href=\"#DejaVuSans-55\"/>\n      </g>\n     </g>\n    </g>\n    <g id=\"ytick_5\">\n     <g id=\"line2d_13\">\n      <g>\n       <use style=\"stroke:#000000;stroke-width:0.8;\" x=\"43.78125\" xlink:href=\"#mb9726cf426\" y=\"91.645102\"/>\n      </g>\n     </g>\n     <g id=\"text_14\">\n      <!-- 0.8 -->\n      <defs>\n       <path d=\"M 31.78125 34.625 \nQ 24.75 34.625 20.71875 30.859375 \nQ 16.703125 27.09375 16.703125 20.515625 \nQ 16.703125 13.921875 20.71875 10.15625 \nQ 24.75 6.390625 31.78125 6.390625 \nQ 38.8125 6.390625 42.859375 10.171875 \nQ 46.921875 13.96875 46.921875 20.515625 \nQ 46.921875 27.09375 42.890625 30.859375 \nQ 38.875 34.625 31.78125 34.625 \nz\nM 21.921875 38.8125 \nQ 15.578125 40.375 12.03125 44.71875 \nQ 8.5 49.078125 8.5 55.328125 \nQ 8.5 64.0625 14.71875 69.140625 \nQ 20.953125 74.21875 31.78125 74.21875 \nQ 42.671875 74.21875 48.875 69.140625 \nQ 55.078125 64.0625 55.078125 55.328125 \nQ 55.078125 49.078125 51.53125 44.71875 \nQ 48 40.375 41.703125 38.8125 \nQ 48.828125 37.15625 52.796875 32.3125 \nQ 56.78125 27.484375 56.78125 20.515625 \nQ 56.78125 9.90625 50.3125 4.234375 \nQ 43.84375 -1.421875 31.78125 -1.421875 \nQ 19.734375 -1.421875 13.25 4.234375 \nQ 6.78125 9.90625 6.78125 20.515625 \nQ 6.78125 27.484375 10.78125 32.3125 \nQ 14.796875 37.15625 21.921875 38.8125 \nz\nM 18.3125 54.390625 \nQ 18.3125 48.734375 21.84375 45.5625 \nQ 25.390625 42.390625 31.78125 42.390625 \nQ 38.140625 42.390625 41.71875 45.5625 \nQ 45.3125 48.734375 45.3125 54.390625 \nQ 45.3125 60.0625 41.71875 63.234375 \nQ 38.140625 66.40625 31.78125 66.40625 \nQ 25.390625 66.40625 21.84375 63.234375 \nQ 18.3125 60.0625 18.3125 54.390625 \nz\n\" id=\"DejaVuSans-56\"/>\n      </defs>\n      <g transform=\"translate(20.878125 95.444321)scale(0.1 -0.1)\">\n       <use xlink:href=\"#DejaVuSans-48\"/>\n       <use x=\"63.623047\" xlink:href=\"#DejaVuSans-46\"/>\n       <use x=\"95.410156\" xlink:href=\"#DejaVuSans-56\"/>\n      </g>\n     </g>\n    </g>\n    <g id=\"ytick_6\">\n     <g id=\"line2d_14\">\n      <g>\n       <use style=\"stroke:#000000;stroke-width:0.8;\" x=\"43.78125\" xlink:href=\"#mb9726cf426\" y=\"61.923432\"/>\n      </g>\n     </g>\n     <g id=\"text_15\">\n      <!-- 0.9 -->\n      <defs>\n       <path d=\"M 10.984375 1.515625 \nL 10.984375 10.5 \nQ 14.703125 8.734375 18.5 7.8125 \nQ 22.3125 6.890625 25.984375 6.890625 \nQ 35.75 6.890625 40.890625 13.453125 \nQ 46.046875 20.015625 46.78125 33.40625 \nQ 43.953125 29.203125 39.59375 26.953125 \nQ 35.25 24.703125 29.984375 24.703125 \nQ 19.046875 24.703125 12.671875 31.3125 \nQ 6.296875 37.9375 6.296875 49.421875 \nQ 6.296875 60.640625 12.9375 67.421875 \nQ 19.578125 74.21875 30.609375 74.21875 \nQ 43.265625 74.21875 49.921875 64.515625 \nQ 56.59375 54.828125 56.59375 36.375 \nQ 56.59375 19.140625 48.40625 8.859375 \nQ 40.234375 -1.421875 26.421875 -1.421875 \nQ 22.703125 -1.421875 18.890625 -0.6875 \nQ 15.09375 0.046875 10.984375 1.515625 \nz\nM 30.609375 32.421875 \nQ 37.25 32.421875 41.125 36.953125 \nQ 45.015625 41.5 45.015625 49.421875 \nQ 45.015625 57.28125 41.125 61.84375 \nQ 37.25 66.40625 30.609375 66.40625 \nQ 23.96875 66.40625 20.09375 61.84375 \nQ 16.21875 57.28125 16.21875 49.421875 \nQ 16.21875 41.5 20.09375 36.953125 \nQ 23.96875 32.421875 30.609375 32.421875 \nz\n\" id=\"DejaVuSans-57\"/>\n      </defs>\n      <g transform=\"translate(20.878125 65.72265)scale(0.1 -0.1)\">\n       <use xlink:href=\"#DejaVuSans-48\"/>\n       <use x=\"63.623047\" xlink:href=\"#DejaVuSans-46\"/>\n       <use x=\"95.410156\" xlink:href=\"#DejaVuSans-57\"/>\n      </g>\n     </g>\n    </g>\n    <g id=\"ytick_7\">\n     <g id=\"line2d_15\">\n      <g>\n       <use style=\"stroke:#000000;stroke-width:0.8;\" x=\"43.78125\" xlink:href=\"#mb9726cf426\" y=\"32.201761\"/>\n      </g>\n     </g>\n     <g id=\"text_16\">\n      <!-- 1.0 -->\n      <g transform=\"translate(20.878125 36.00098)scale(0.1 -0.1)\">\n       <use xlink:href=\"#DejaVuSans-49\"/>\n       <use x=\"63.623047\" xlink:href=\"#DejaVuSans-46\"/>\n       <use x=\"95.410156\" xlink:href=\"#DejaVuSans-48\"/>\n      </g>\n     </g>\n    </g>\n    <g id=\"text_17\">\n     <!-- Accuracy -->\n     <defs>\n      <path d=\"M 34.1875 63.1875 \nL 20.796875 26.90625 \nL 47.609375 26.90625 \nz\nM 28.609375 72.90625 \nL 39.796875 72.90625 \nL 67.578125 0 \nL 57.328125 0 \nL 50.6875 18.703125 \nL 17.828125 18.703125 \nL 11.1875 0 \nL 0.78125 0 \nz\n\" id=\"DejaVuSans-65\"/>\n      <path d=\"M 48.78125 52.59375 \nL 48.78125 44.1875 \nQ 44.96875 46.296875 41.140625 47.34375 \nQ 37.3125 48.390625 33.40625 48.390625 \nQ 24.65625 48.390625 19.8125 42.84375 \nQ 14.984375 37.3125 14.984375 27.296875 \nQ 14.984375 17.28125 19.8125 11.734375 \nQ 24.65625 6.203125 33.40625 6.203125 \nQ 37.3125 6.203125 41.140625 7.25 \nQ 44.96875 8.296875 48.78125 10.40625 \nL 48.78125 2.09375 \nQ 45.015625 0.34375 40.984375 -0.53125 \nQ 36.96875 -1.421875 32.421875 -1.421875 \nQ 20.0625 -1.421875 12.78125 6.34375 \nQ 5.515625 14.109375 5.515625 27.296875 \nQ 5.515625 40.671875 12.859375 48.328125 \nQ 20.21875 56 33.015625 56 \nQ 37.15625 56 41.109375 55.140625 \nQ 45.0625 54.296875 48.78125 52.59375 \nz\n\" id=\"DejaVuSans-99\"/>\n      <path d=\"M 32.171875 -5.078125 \nQ 28.375 -14.84375 24.75 -17.8125 \nQ 21.140625 -20.796875 15.09375 -20.796875 \nL 7.90625 -20.796875 \nL 7.90625 -13.28125 \nL 13.1875 -13.28125 \nQ 16.890625 -13.28125 18.9375 -11.515625 \nQ 21 -9.765625 23.484375 -3.21875 \nL 25.09375 0.875 \nL 2.984375 54.6875 \nL 12.5 54.6875 \nL 29.59375 11.921875 \nL 46.6875 54.6875 \nL 56.203125 54.6875 \nz\n\" id=\"DejaVuSans-121\"/>\n     </defs>\n     <g transform=\"translate(14.798438 153.86625)rotate(-90)scale(0.1 -0.1)\">\n      <use xlink:href=\"#DejaVuSans-65\"/>\n      <use x=\"66.658203\" xlink:href=\"#DejaVuSans-99\"/>\n      <use x=\"121.638672\" xlink:href=\"#DejaVuSans-99\"/>\n      <use x=\"176.619141\" xlink:href=\"#DejaVuSans-117\"/>\n      <use x=\"239.998047\" xlink:href=\"#DejaVuSans-114\"/>\n      <use x=\"281.111328\" xlink:href=\"#DejaVuSans-97\"/>\n      <use x=\"342.390625\" xlink:href=\"#DejaVuSans-99\"/>\n      <use x=\"397.371094\" xlink:href=\"#DejaVuSans-121\"/>\n     </g>\n    </g>\n   </g>\n   <g id=\"line2d_16\">\n    <path clip-path=\"url(#p5e5d748e87)\" d=\"M 58.999432 229.874489 \nL 67.951303 188.186733 \nL 76.903175 162.37018 \nL 85.855047 138.796015 \nL 94.806918 120.062051 \nL 103.75879 106.239371 \nL 112.710662 93.857765 \nL 121.662533 82.930157 \nL 130.614405 74.955783 \nL 139.566277 68.739131 \nL 148.518148 62.884363 \nL 157.47002 57.695204 \nL 166.421892 53.714479 \nL 175.373763 50.031015 \nL 184.325635 47.2458 \nL 193.277507 44.686763 \nL 202.229378 42.728711 \nL 211.18125 40.777122 \nL 220.133122 39.239115 \nL 229.084993 37.765729 \nL 238.036865 36.848095 \nL 246.988737 35.846451 \nL 255.940608 35.14207 \nL 264.89248 34.431226 \nL 273.844352 33.875475 \nL 282.796223 33.390809 \nL 291.748095 33.158169 \nL 300.699967 32.828596 \nL 309.651838 32.615343 \nL 318.60371 32.466712 \nL 327.555582 32.324543 \nL 336.507453 32.298695 \nL 345.459325 32.214686 \nL 354.411197 32.201761 \nL 363.363068 32.201761 \n\" style=\"fill:none;stroke:#1f77b4;stroke-linecap:square;stroke-width:1.5;\"/>\n   </g>\n   <g id=\"patch_3\">\n    <path d=\"M 43.78125 239.758125 \nL 43.78125 22.318125 \n\" style=\"fill:none;stroke:#000000;stroke-linecap:square;stroke-linejoin:miter;stroke-width:0.8;\"/>\n   </g>\n   <g id=\"patch_4\">\n    <path d=\"M 378.58125 239.758125 \nL 378.58125 22.318125 \n\" style=\"fill:none;stroke:#000000;stroke-linecap:square;stroke-linejoin:miter;stroke-width:0.8;\"/>\n   </g>\n   <g id=\"patch_5\">\n    <path d=\"M 43.78125 239.758125 \nL 378.58125 239.758125 \n\" style=\"fill:none;stroke:#000000;stroke-linecap:square;stroke-linejoin:miter;stroke-width:0.8;\"/>\n   </g>\n   <g id=\"patch_6\">\n    <path d=\"M 43.78125 22.318125 \nL 378.58125 22.318125 \n\" style=\"fill:none;stroke:#000000;stroke-linecap:square;stroke-linejoin:miter;stroke-width:0.8;\"/>\n   </g>\n   <g id=\"text_18\">\n    <!-- Accuracy vs. Number of Latent Features -->\n    <defs>\n     <path d=\"M 2.984375 54.6875 \nL 12.5 54.6875 \nL 29.59375 8.796875 \nL 46.6875 54.6875 \nL 56.203125 54.6875 \nL 35.6875 0 \nL 23.484375 0 \nz\n\" id=\"DejaVuSans-118\"/>\n    </defs>\n    <g transform=\"translate(90.770625 16.318125)scale(0.12 -0.12)\">\n     <use xlink:href=\"#DejaVuSans-65\"/>\n     <use x=\"66.658203\" xlink:href=\"#DejaVuSans-99\"/>\n     <use x=\"121.638672\" xlink:href=\"#DejaVuSans-99\"/>\n     <use x=\"176.619141\" xlink:href=\"#DejaVuSans-117\"/>\n     <use x=\"239.998047\" xlink:href=\"#DejaVuSans-114\"/>\n     <use x=\"281.111328\" xlink:href=\"#DejaVuSans-97\"/>\n     <use x=\"342.390625\" xlink:href=\"#DejaVuSans-99\"/>\n     <use x=\"397.371094\" xlink:href=\"#DejaVuSans-121\"/>\n     <use x=\"456.550781\" xlink:href=\"#DejaVuSans-32\"/>\n     <use x=\"488.337891\" xlink:href=\"#DejaVuSans-118\"/>\n     <use x=\"547.517578\" xlink:href=\"#DejaVuSans-115\"/>\n     <use x=\"599.617188\" xlink:href=\"#DejaVuSans-46\"/>\n     <use x=\"631.404297\" xlink:href=\"#DejaVuSans-32\"/>\n     <use x=\"663.191406\" xlink:href=\"#DejaVuSans-78\"/>\n     <use x=\"737.996094\" xlink:href=\"#DejaVuSans-117\"/>\n     <use x=\"801.375\" xlink:href=\"#DejaVuSans-109\"/>\n     <use x=\"898.787109\" xlink:href=\"#DejaVuSans-98\"/>\n     <use x=\"962.263672\" xlink:href=\"#DejaVuSans-101\"/>\n     <use x=\"1023.787109\" xlink:href=\"#DejaVuSans-114\"/>\n     <use x=\"1064.900391\" xlink:href=\"#DejaVuSans-32\"/>\n     <use x=\"1096.6875\" xlink:href=\"#DejaVuSans-111\"/>\n     <use x=\"1157.869141\" xlink:href=\"#DejaVuSans-102\"/>\n     <use x=\"1193.074219\" xlink:href=\"#DejaVuSans-32\"/>\n     <use x=\"1224.861328\" xlink:href=\"#DejaVuSans-76\"/>\n     <use x=\"1280.574219\" xlink:href=\"#DejaVuSans-97\"/>\n     <use x=\"1341.853516\" xlink:href=\"#DejaVuSans-116\"/>\n     <use x=\"1381.0625\" xlink:href=\"#DejaVuSans-101\"/>\n     <use x=\"1442.585938\" xlink:href=\"#DejaVuSans-110\"/>\n     <use x=\"1505.964844\" xlink:href=\"#DejaVuSans-116\"/>\n     <use x=\"1545.173828\" xlink:href=\"#DejaVuSans-32\"/>\n     <use x=\"1576.960938\" xlink:href=\"#DejaVuSans-70\"/>\n     <use x=\"1628.980469\" xlink:href=\"#DejaVuSans-101\"/>\n     <use x=\"1690.503906\" xlink:href=\"#DejaVuSans-97\"/>\n     <use x=\"1751.783203\" xlink:href=\"#DejaVuSans-116\"/>\n     <use x=\"1790.992188\" xlink:href=\"#DejaVuSans-117\"/>\n     <use x=\"1854.371094\" xlink:href=\"#DejaVuSans-114\"/>\n     <use x=\"1893.234375\" xlink:href=\"#DejaVuSans-101\"/>\n     <use x=\"1954.757812\" xlink:href=\"#DejaVuSans-115\"/>\n    </g>\n   </g>\n  </g>\n </g>\n <defs>\n  <clipPath id=\"p5e5d748e87\">\n   <rect height=\"217.44\" width=\"334.8\" x=\"43.78125\" y=\"22.318125\"/>\n  </clipPath>\n </defs>\n</svg>\n",
      "image/png": "[encoded data removed]"
     },
     "metadata": {
      "needs_background": "light"
     }
    }
   ],
   "source": [
    "num_latent_feats = np.arange(10,700+10,20)\n",
    "sum_errs = []\n",
    "\n",
    "for k in num_latent_feats:\n",
    "    # restructure with k latent features\n",
    "    s_new, u_new, vt_new = np.diag(s[:k]), u[:, :k], vt[:k, :]\n",
    "    \n",
    "    # take dot product\n",
    "    user_item_est = np.around(np.dot(np.dot(u_new, s_new), vt_new))\n",
    "    \n",
    "    # compute error for each prediction to actual value\n",
    "    diffs = np.subtract(user_item_matrix, user_item_est)\n",
    "    \n",
    "    # total errors and keep track of them\n",
    "    err = np.sum(np.sum(np.abs(diffs)))\n",
    "    sum_errs.append(err)\n",
    "    \n",
    "    \n",
    "plt.plot(num_latent_feats, 1 - np.array(sum_errs)/df.shape[0])\n",
    "plt.xlabel('Number of Latent Features')\n",
    "plt.ylabel('Accuracy')\n",
    "plt.title('Accuracy vs. Number of Latent Features')"
   ]
  },
  {
   "cell_type": "markdown",
   "metadata": {},
   "source": [
    "`4.` From the above, we can't really be sure how many features to use, because simply having a better way to predict the 1's and 0's of the matrix doesn't exactly give us an indication of if we are able to make good recommendations.  Instead, we might split our dataset into a training and test set of data, as shown in the cell below.  \n",
    "\n",
    "Use the code from question 3 to understand the impact on accuracy of the training and test sets of data with different numbers of latent features. Using the split below: \n",
    "\n",
    "* How many users can we make predictions for in the test set?  \n",
    "* How many users are we not able to make predictions for because of the cold start problem?\n",
    "* How many articles can we make predictions for in the test set?  \n",
    "* How many articles are we not able to make predictions for because of the cold start problem?"
   ]
  },
  {
   "cell_type": "code",
   "execution_count": 47,
   "metadata": {
    "collapsed": true
   },
   "outputs": [
    {
     "output_type": "error",
     "ename": "NameError",
     "evalue": "name 'train_idx' is not defined",
     "traceback": [
      "\u001b[0;31m---------------------------------------------------------------------------\u001b[0m",
      "\u001b[0;31mNameError\u001b[0m                                 Traceback (most recent call last)",
      "\u001b[0;32m<ipython-input-47-5fe03dbe8b5a>\u001b[0m in \u001b[0;36m<module>\u001b[0;34m\u001b[0m\n\u001b[1;32m     33\u001b[0m     \u001b[0;32mreturn\u001b[0m \u001b[0muser_item_train\u001b[0m\u001b[0;34m,\u001b[0m \u001b[0muser_item_test\u001b[0m\u001b[0;34m,\u001b[0m \u001b[0mtest_idx\u001b[0m\u001b[0;34m,\u001b[0m \u001b[0mtest_arts\u001b[0m\u001b[0;34m\u001b[0m\u001b[0;34m\u001b[0m\u001b[0m\n\u001b[1;32m     34\u001b[0m \u001b[0;34m\u001b[0m\u001b[0m\n\u001b[0;32m---> 35\u001b[0;31m \u001b[0muser_item_train\u001b[0m\u001b[0;34m,\u001b[0m \u001b[0muser_item_test\u001b[0m\u001b[0;34m,\u001b[0m \u001b[0mtest_idx\u001b[0m\u001b[0;34m,\u001b[0m \u001b[0mtest_arts\u001b[0m \u001b[0;34m=\u001b[0m \u001b[0mcreate_test_and_train_user_item\u001b[0m\u001b[0;34m(\u001b[0m\u001b[0mdf_train\u001b[0m\u001b[0;34m,\u001b[0m \u001b[0mdf_test\u001b[0m\u001b[0;34m)\u001b[0m\u001b[0;34m\u001b[0m\u001b[0;34m\u001b[0m\u001b[0m\n\u001b[0m",
      "\u001b[0;32m<ipython-input-47-5fe03dbe8b5a>\u001b[0m in \u001b[0;36mcreate_test_and_train_user_item\u001b[0;34m(df_train, df_test)\u001b[0m\n\u001b[1;32m     22\u001b[0m     \u001b[0mtrain_index\u001b[0m \u001b[0;34m=\u001b[0m \u001b[0mset\u001b[0m\u001b[0;34m(\u001b[0m\u001b[0mtrain_item_matrix\u001b[0m\u001b[0;34m.\u001b[0m\u001b[0mindex\u001b[0m\u001b[0;34m)\u001b[0m \u001b[0;31m#get unique user indicies\u001b[0m\u001b[0;34m\u001b[0m\u001b[0;34m\u001b[0m\u001b[0m\n\u001b[1;32m     23\u001b[0m     \u001b[0mtest_index\u001b[0m \u001b[0;34m=\u001b[0m \u001b[0mset\u001b[0m\u001b[0;34m(\u001b[0m\u001b[0mtrain_item_matrix\u001b[0m\u001b[0;34m.\u001b[0m\u001b[0mindex\u001b[0m\u001b[0;34m)\u001b[0m  \u001b[0;31m#get unique user indicies\u001b[0m\u001b[0;34m\u001b[0m\u001b[0;34m\u001b[0m\u001b[0m\n\u001b[0;32m---> 24\u001b[0;31m     \u001b[0mmatch_idx\u001b[0m \u001b[0;34m=\u001b[0m \u001b[0mlist\u001b[0m\u001b[0;34m(\u001b[0m\u001b[0mtrain_idx\u001b[0m\u001b[0;34m.\u001b[0m\u001b[0mintersection\u001b[0m\u001b[0;34m(\u001b[0m\u001b[0mtest_idx\u001b[0m\u001b[0;34m)\u001b[0m\u001b[0;34m)\u001b[0m\u001b[0;34m\u001b[0m\u001b[0;34m\u001b[0m\u001b[0m\n\u001b[0m\u001b[1;32m     25\u001b[0m \u001b[0;34m\u001b[0m\u001b[0m\n\u001b[1;32m     26\u001b[0m     \u001b[0mtrain_arts\u001b[0m \u001b[0;34m=\u001b[0m \u001b[0mset\u001b[0m\u001b[0;34m(\u001b[0m\u001b[0muser_item_train\u001b[0m\u001b[0;34m.\u001b[0m\u001b[0mcolumns\u001b[0m\u001b[0;34m)\u001b[0m\u001b[0;34m\u001b[0m\u001b[0;34m\u001b[0m\u001b[0m\n",
      "\u001b[0;31mNameError\u001b[0m: name 'train_idx' is not defined"
     ]
    }
   ],
   "source": [
    "df_train = df.head(40000)\n",
    "df_test = df.tail(5993)\n",
    "\n",
    "def create_test_and_train_user_item(df_train, df_test):\n",
    "    '''\n",
    "    INPUT:\n",
    "    df_train - training dataframe\n",
    "    df_test - test dataframe\n",
    "    \n",
    "    OUTPUT:\n",
    "    user_item_train - a user-item matrix of the training dataframe \n",
    "                      (unique users for each row and unique articles for each column)\n",
    "    user_item_test - a user-item matrix of the testing dataframe \n",
    "                    (unique users for each row and unique articles for each column)\n",
    "    test_idx - all of the test user ids\n",
    "    test_arts - all of the test article ids\n",
    "    \n",
    "    '''\n",
    "    # Your code here\n",
    "    train_item_matrix = create_user_item_matrix(df_train)\n",
    "    test_item_matrix = create_user_item_matrix(df_test)\n",
    "    train_index = set(train_item_matrix.index) #get unique user indicies\n",
    "    test_index = set(train_item_matrix.index)  #get unique user indicies\n",
    "    match_idx = list(train_idx.intersection(test_idx))\n",
    "    \n",
    "    train_arts = set(user_item_train.columns)\n",
    "    test_arts =  set(user_item_test.columns)\n",
    "    match_cols = list(train_arts.intersection(test_arts))\n",
    "\n",
    "    user_item_test = user_item_test.loc[match_idx, match_cols]\n",
    "\n",
    "    return user_item_train, user_item_test, test_idx, test_arts\n",
    "    return user_item_train, user_item_test, test_idx, test_arts\n",
    "\n",
    "user_item_train, user_item_test, test_idx, test_arts = create_test_and_train_user_item(df_train, df_test)"
   ]
  },
  {
   "cell_type": "code",
   "execution_count": 48,
   "metadata": {
    "collapsed": true
   },
   "outputs": [
    {
     "output_type": "error",
     "ename": "SyntaxError",
     "evalue": "invalid syntax (<ipython-input-48-d7bedd572521>, line 10)",
     "traceback": [
      "\u001b[0;36m  File \u001b[0;32m\"<ipython-input-48-d7bedd572521>\"\u001b[0;36m, line \u001b[0;32m10\u001b[0m\n\u001b[0;31m    'How many users in the test set are we not able to make predictions for because of the cold start problem?': # letter here,\u001b[0m\n\u001b[0m                                                                                                               ^\u001b[0m\n\u001b[0;31mSyntaxError\u001b[0m\u001b[0;31m:\u001b[0m invalid syntax\n"
     ]
    }
   ],
   "source": [
    "# Replace the values in the dictionary below\n",
    "a = 662 \n",
    "b = 574 \n",
    "c = 20 \n",
    "d = 0 \n",
    "\n",
    "\n",
    "sol_4_dict = {\n",
    "    'How many users can we make predictions for in the test set?': # letter here, \n",
    "    'How many users in the test set are we not able to make predictions for because of the cold start problem?': # letter here, \n",
    "    'How many movies can we make predictions for in the test set?': # letter here,\n",
    "    'How many movies in the test set are we not able to make predictions for because of the cold start problem?': # letter here\n",
    "}\n",
    "\n",
    "t.sol_4_test(sol_4_dict)"
   ]
  },
  {
   "cell_type": "markdown",
   "metadata": {},
   "source": [
    "`5.` Now use the **user_item_train** dataset from above to find U, S, and V transpose using SVD. Then find the subset of rows in the **user_item_test** dataset that you can predict using this matrix decomposition with different numbers of latent features to see how many features makes sense to keep based on the accuracy on the test data. This will require combining what was done in questions `2` - `4`.\n",
    "\n",
    "Use the cells below to explore how well SVD works towards making predictions for recommendations on the test data.  "
   ]
  },
  {
   "cell_type": "code",
   "execution_count": 49,
   "metadata": {
    "collapsed": true
   },
   "outputs": [
    {
     "output_type": "error",
     "ename": "SyntaxError",
     "evalue": "invalid syntax (<ipython-input-49-f93e4efee773>, line 2)",
     "traceback": [
      "\u001b[0;36m  File \u001b[0;32m\"<ipython-input-49-f93e4efee773>\"\u001b[0;36m, line \u001b[0;32m2\u001b[0m\n\u001b[0;31m    u_train, s_train, vt_train = # fit svd similar to above then use the cells below\u001b[0m\n\u001b[0m                                 ^\u001b[0m\n\u001b[0;31mSyntaxError\u001b[0m\u001b[0;31m:\u001b[0m invalid syntax\n"
     ]
    }
   ],
   "source": [
    "# fit SVD on the user_item_train matrix\n",
    "u_train, s_train, vt_train = # fit svd similar to above then use the cells below"
   ]
  },
  {
   "cell_type": "code",
   "execution_count": 50,
   "metadata": {
    "collapsed": true
   },
   "outputs": [],
   "source": [
    "# Use these cells to see how well you can use the training \n",
    "# decomposition to predict on test data"
   ]
  },
  {
   "cell_type": "code",
   "execution_count": null,
   "metadata": {
    "collapsed": true
   },
   "outputs": [],
   "source": []
  },
  {
   "cell_type": "code",
   "execution_count": null,
   "metadata": {
    "collapsed": true
   },
   "outputs": [],
   "source": []
  },
  {
   "cell_type": "markdown",
   "metadata": {
    "collapsed": true
   },
   "source": [
    "`6.` Use the cell below to comment on the results you found in the previous question. Given the circumstances of your results, discuss what you might do to determine if the recommendations you make with any of the above recommendation systems are an improvement to how users currently find articles? "
   ]
  },
  {
   "cell_type": "markdown",
   "metadata": {},
   "source": [
    "**Your response here.**"
   ]
  },
  {
   "cell_type": "markdown",
   "metadata": {
    "collapsed": true
   },
   "source": [
    "<a id='conclusions'></a>\n",
    "### Extras\n",
    "Using your workbook, you could now save your recommendations for each user, develop a class to make new predictions and update your results, and make a flask app to deploy your results.  These tasks are beyond what is required for this project.  However, from what you learned in the lessons, you certainly capable of taking these tasks on to improve upon your work here!\n",
    "\n",
    "\n",
    "## Conclusion\n",
    "\n",
    "> Congratulations!  You have reached the end of the Recommendations with IBM project! \n",
    "\n",
    "> **Tip**: Once you are satisfied with your work here, check over your report to make sure that it is satisfies all the areas of the [rubric](https://review.udacity.com/#!/rubrics/2322/view). You should also probably remove all of the \"Tips\" like this one so that the presentation is as polished as possible.\n",
    "\n",
    "\n",
    "## Directions to Submit\n",
    "\n",
    "> Before you submit your project, you need to create a .html or .pdf version of this notebook in the workspace here. To do that, run the code cell below. If it worked correctly, you should get a return code of 0, and you should see the generated .html file in the workspace directory (click on the orange Jupyter icon in the upper left).\n",
    "\n",
    "> Alternatively, you can download this report as .html via the **File** > **Download as** submenu, and then manually upload it into the workspace directory by clicking on the orange Jupyter icon in the upper left, then using the Upload button.\n",
    "\n",
    "> Once you've done this, you can submit your project by clicking on the \"Submit Project\" button in the lower right here. This will create and submit a zip file with this .ipynb doc and the .html or .pdf version you created. Congratulations! "
   ]
  },
  {
   "cell_type": "code",
   "execution_count": 51,
   "metadata": {
    "collapsed": true
   },
   "outputs": [
    {
     "output_type": "execute_result",
     "data": {
      "text/plain": "0"
     },
     "metadata": {},
     "execution_count": 51
    }
   ],
   "source": [
    "from subprocess import call\n",
    "call(['python', '-m', 'nbconvert', 'Recommendations_with_IBM.ipynb'])"
   ]
  }
 ],
 "metadata": {
  "kernelspec": {
   "display_name": "ibm_recommandations",
   "language": "python",
   "name": "ibm_recommandations"
  },
  "language_info": {
   "codemirror_mode": {
    "name": "ipython",
    "version": 3
   },
   "file_extension": ".py",
   "mimetype": "text/x-python",
   "name": "python",
   "nbconvert_exporter": "python",
   "pygments_lexer": "ipython3",
   "version": "3.7.3-final"
  }
 },
 "nbformat": 4,
 "nbformat_minor": 2
}